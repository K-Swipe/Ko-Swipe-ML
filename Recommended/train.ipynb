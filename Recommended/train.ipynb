{
 "cells": [
  {
   "cell_type": "code",
   "execution_count": 60,
   "metadata": {},
   "outputs": [],
   "source": [
    "import warnings\n",
    "\n",
    "import joblib\n",
    "import numpy as np\n",
    "import pandas as pd\n",
    "from catboost import CatBoostRegressor\n",
    "from tqdm import tqdm\n",
    "\n",
    "warnings.filterwarnings(\"ignore\")\n",
    "pd.set_option(\"display.max_columns\", None)"
   ]
  },
  {
   "cell_type": "code",
   "execution_count": 61,
   "metadata": {},
   "outputs": [],
   "source": [
    "path = \"./data/preprocessing\"\n",
    "\n",
    "visit_area_info = pd.read_csv(\"./data/preprocessing/visit_area_info.csv\")\n",
    "travel = pd.read_csv(\"./data/preprocessing/travel.csv\")\n",
    "traveller_master = pd.read_csv(\"./data/preprocessing/traveller_master.csv\")"
   ]
  },
  {
   "cell_type": "code",
   "execution_count": 62,
   "metadata": {},
   "outputs": [],
   "source": [
    "def visit_area_information(visit_area_info):\n",
    "    \"\"\"방문지 중 유의미한 정보만 추출(1~8까지는 관광지, 나머지는 무의미한 정보)\"\"\"\n",
    "    valid_types = range(1, 9)\n",
    "    visit_area_info = visit_area_info[visit_area_info[\"VISIT_AREA_TYPE_CD\"].isin(valid_types)]\n",
    "    visit_area_info = visit_area_info.dropna(subset=[\"LOTNO_ADDR\"])\n",
    "    visit_area_info = visit_area_info.reset_index(drop=True)\n",
    "    return visit_area_info\n",
    "\n",
    "visit_area_spot_info= visit_area_information(visit_area_info)"
   ]
  },
  {
   "cell_type": "code",
   "execution_count": 63,
   "metadata": {},
   "outputs": [],
   "source": [
    "def address_info(visit_area_info):\n",
    "    \"\"\"주소에서 시도와 군구 추출\"\"\"\n",
    "    sido = []\n",
    "    gungu = []\n",
    "    for i in range(len(visit_area_info['LOTNO_ADDR'])):\n",
    "        sido.append(visit_area_info['LOTNO_ADDR'][i].split(' ')[0])\n",
    "        gungu.append(visit_area_info['LOTNO_ADDR'][i].split(' ')[1])\n",
    "    return sido, gungu\n",
    "\n",
    "sido, gungu = address_info(visit_area_spot_info)\n",
    "\n",
    "visit_area_spot_info['SIDO'] = sido\n",
    "visit_area_spot_info['GUNGU'] = gungu\n",
    "\n",
    "busan_spot_info = visit_area_spot_info[visit_area_spot_info['SIDO'] == \"부산\"]"
   ]
  },
  {
   "cell_type": "code",
   "execution_count": 64,
   "metadata": {},
   "outputs": [],
   "source": [
    "\"\"\"\n",
    "유의미한 변수만 추출\n",
    "여행ID 방문지명 시도 군구 방문지유형코드 만족도 재방문의향 추천의향 체류시간(분) 재방문여부\"\n",
    "\"\"\"\n",
    "busan_spot_info = busan_spot_info[['TRAVEL_ID', 'VISIT_AREA_NM', 'SIDO', 'GUNGU', 'VISIT_AREA_TYPE_CD', 'DGSTFN',\n",
    "                                  'REVISIT_INTENTION', 'RCMDTN_INTENTION', 'RESIDENCE_TIME_MIN', 'REVISIT_YN']].reset_index(drop=True)\n"
   ]
  },
  {
   "cell_type": "code",
   "execution_count": 65,
   "metadata": {},
   "outputs": [],
   "source": [
    "def mission_check(travel):\n",
    "    travel_list = []\n",
    "    for i in range(len(travel)):\n",
    "        value = int(travel['TRAVEL_MISSION_CHECK'][i].split(';')[0])\n",
    "        travel_list.append(value)\n",
    "    return travel_list\n",
    "\n",
    "\n",
    "travel['TRAVEL_MISSION_PRIORITY'] = mission_check(travel)\n",
    "travel = travel[['TRAVEL_ID', 'TRAVELER_ID', 'TRAVEL_MISSION_PRIORITY', 'MVMN_NM']]"
   ]
  },
  {
   "cell_type": "code",
   "execution_count": null,
   "metadata": {},
   "outputs": [],
   "source": [
    "travel_style_columns = ['TRAVEL_STYL_1', 'TRAVEL_STYL_2', 'TRAVEL_STYL_3', 'TRAVEL_STYL_4', \n",
    "                        'TRAVEL_STYL_5', 'TRAVEL_STYL_6', 'TRAVEL_STYL_7', 'TRAVEL_STYL_8']\n",
    "\n",
    "\n",
    "traveller_master['TRAVEL_STYL'] = traveller_master[travel_style_columns].mode(axis=1)[0]\n",
    "\n",
    "\n",
    "traveller_master = traveller_master[['TRAVELER_ID', 'GENDER', 'AGE_GRP', 'INCOME', 'TRAVEL_STYL', \n",
    "                                      'TRAVEL_MOTIVE_1', 'TRAVEL_NUM', 'TRAVEL_COMPANIONS_NUM' ]]"
   ]
  },
  {
   "cell_type": "code",
   "execution_count": 68,
   "metadata": {},
   "outputs": [],
   "source": [
    "\"\"\"Age Group 40대 이상은 40으로 변경\"\"\"\n",
    "traveller_master['AGE_GRP'] = traveller_master['AGE_GRP'].apply(lambda x: 40 if x >= 40 else x)"
   ]
  },
  {
   "cell_type": "code",
   "execution_count": 69,
   "metadata": {},
   "outputs": [],
   "source": [
    "\"\"\"busan spot info와 traveller_master, travel merge Result: 부산에 여행온 사람들의 정보\"\"\"\n",
    "df = pd.merge(travel, traveller_master, left_on = 'TRAVELER_ID', right_on = 'TRAVELER_ID', how = 'inner')\n",
    "df = pd.merge(busan_spot_info, df, left_on = 'TRAVEL_ID', right_on = 'TRAVEL_ID', how = 'left')  "
   ]
  },
  {
   "cell_type": "code",
   "execution_count": 71,
   "metadata": {},
   "outputs": [],
   "source": [
    "\"\"\"Preprocessing\"\"\"\n",
    "\n",
    "df[\"RESIDENCE_TIME_MIN\"] = df[\"RESIDENCE_TIME_MIN\"].replace(0, df[\"RESIDENCE_TIME_MIN\"].median())\n",
    "\n",
    "df['REVISIT_YN'] = df['REVISIT_YN'].replace(\"N\",0)\n",
    "df['REVISIT_YN'] = df['REVISIT_YN'].replace(\"Y\",1)\n",
    "\n",
    "df = df.dropna(subset = ['TRAVEL_STYL'])\n",
    "df = df.reset_index(drop= True)\n",
    "df = df.dropna(subset = ['TRAVEL_MOTIVE_1'])\n",
    "df = df.reset_index(drop= True)"
   ]
  },
  {
   "cell_type": "code",
   "execution_count": 72,
   "metadata": {},
   "outputs": [
    {
     "name": "stderr",
     "output_type": "stream",
     "text": [
      "100%|██████████| 908/908 [00:06<00:00, 140.63it/s]\n"
     ]
    }
   ],
   "source": [
    "\"\"\"특정 관광지에 방문한 사람들 중 랜덤으로 한 명을 선택하여 그 사람의 모든 여행 데이터를 새로운 데이터프레임 train_df에 추가합니다\"\"\"\n",
    "df_copy = df.copy()\n",
    "train_df = pd.DataFrame(columns=df.columns)  \n",
    "\n",
    "for area in tqdm(df['VISIT_AREA_NM'].unique()):\n",
    "    area_visitors_df = df_copy[df_copy['VISIT_AREA_NM'] == area]  # 특정 관광지에 방문한 모든 사람의 데이터를 추출\n",
    "    \n",
    "    np.random.seed(42)  # 랜덤 시드 설정\n",
    "    if area_visitors_df.empty:  # 만약 해당 관광지에 방문한 사람이 없으면\n",
    "        continue  # 아무 작업도 하지 않고 다음 반복으로 넘어감\n",
    "    \n",
    "    random_idx = np.random.randint(len(area_visitors_df))  # 해당 관광지에 방문한 사람 중 랜덤으로 한 명의 인덱스를 생성\n",
    "    random_visitor_df = area_visitors_df.iloc[[random_idx]]  # 랜덤으로 선택된 사람의 데이터 추출\n",
    "    travel_id = random_visitor_df.iloc[0, 0]  # 해당 사람의 'TRAVEL_ID' 값을 추출\n",
    "    \n",
    "    visitor_trips_df = df_copy[df_copy['TRAVEL_ID'] == travel_id]  # 선택된 사람의 모든 여행 데이터를 추출\n",
    "    \n",
    "    df_copy = pd.merge(visitor_trips_df, df_copy, how='outer', indicator=True)  # 원본 데이터프레임과 선택된 사람의 데이터를 병합, 병합 결과를 표시\n",
    "    df_copy = df_copy.query('_merge == \"right_only\"').drop(columns=['_merge'])  # 원본 데이터프레임에서 선택된 사람의 데이터를 삭제\n",
    "    \n",
    "    train_df = train_df.append(visitor_trips_df, ignore_index=True)  # 선택된 사람의 데이터를 train_df 데이터프레임에 추가"
   ]
  },
  {
   "cell_type": "code",
   "execution_count": 73,
   "metadata": {},
   "outputs": [],
   "source": [
    "while len(df_copy) / len(df) > 0.2:\n",
    "    np.random.seed(42)  # 랜덤 시드 설정\n",
    "    random_idx = np.random.randint(len(df_copy))  # 랜덤 인덱스 생성\n",
    "    random_visitor = df_copy.iloc[[random_idx]]  # 랜덤으로 선택된 사람의 데이터 추출\n",
    "    travel_id = random_visitor.iloc[0, 0]  # 해당 사람의 'TRAVEL_ID' 값 추출\n",
    "    visitor_trips = df_copy[df_copy['TRAVEL_ID'] == travel_id]  # 선택된 사람의 모든 여행 데이터 추출\n",
    "    \n",
    "    df_copy = pd.merge(visitor_trips, df_copy, how='outer', indicator=True)  # 원본 데이터프레임과 선택된 사람의 데이터를 병합, 병합 결과를 표시\n",
    "    df_copy = df_copy.query('_merge == \"right_only\"').drop(columns=['_merge'])  # 원본 데이터프레임에서 선택된 사람의 데이터를 삭제\n",
    "    \n",
    "    train_df = train_df.append(visitor_trips, ignore_index=True)  # 선택된 사람의 데이터를 train_df 데이터프레임에 추가"
   ]
  },
  {
   "cell_type": "code",
   "execution_count": 74,
   "metadata": {},
   "outputs": [
    {
     "name": "stderr",
     "output_type": "stream",
     "text": [
      "100%|██████████| 908/908 [00:01<00:00, 731.90it/s]\n"
     ]
    }
   ],
   "source": [
    "new_train = pd.DataFrame(columns = list(train_df.columns) + ['RESIDENCE_TIME_MIN_mean', 'RCMDTN_INTENTION_mean',\n",
    "                                                          'REVISIT_YN_mean', 'TRAVEL_COMPANIONS_NUM_mean',\n",
    "                                                          'REVISIT_INTENTION_mean'])\n",
    "\n",
    "\n",
    "for i in tqdm(list(train_df['VISIT_AREA_NM'].unique())): #유니크한 관광지 목록 중에서\n",
    "    df2 = train_df[train_df['VISIT_AREA_NM'] == i] # 특정 관광지에 간 모든 사람 뽑아서\n",
    "    for j in ['RESIDENCE_TIME_MIN', 'RCMDTN_INTENTION', 'REVISIT_YN', 'TRAVEL_COMPANIONS_NUM', 'REVISIT_INTENTION']:\n",
    "        #체류시간 평균 산출 \n",
    "        globals()[str(j)+'_mean'] = df2[str(j)]\n",
    "        globals()[str(j)+'_mean'] = np.mean(globals()[str(j)+'_mean'])\n",
    "        #데이터프레임에 들어가게 값을 리스트 형태로 변환\n",
    "        globals()[str(j)+'_mean'] = np.repeat(globals()[str(j)+'_mean'], len(df2)) \n",
    "        df2[str(j)+'_mean'] = globals()[str(j)+'_mean']\n",
    "    #새로운 데이터프레임에 방문지별 평균값 대입\n",
    "    new_train = pd.concat([new_train, df2], axis = 0)\n",
    "    \n",
    "new_train.sort_values(by = ['TRAVEL_ID'], axis = 0, inplace = True)"
   ]
  },
  {
   "cell_type": "code",
   "execution_count": 75,
   "metadata": {},
   "outputs": [],
   "source": [
    "path = r\"C:\\workspace\\Ko-Swipe-ML\\data\\preprocessing\"\n",
    "new_train.to_csv(path + '/관광지 추천시스템 Trainset_B.csv', index = False)\n",
    "df_copy.to_csv(path + '/관광지 추천시스템 Testset_B.csv', index = False)"
   ]
  },
  {
   "cell_type": "code",
   "execution_count": 76,
   "metadata": {},
   "outputs": [
    {
     "name": "stdout",
     "output_type": "stream",
     "text": [
      "(2473, 25)\n",
      "(583, 20)\n"
     ]
    }
   ],
   "source": [
    "Train = pd.read_csv(path + '/관광지 추천시스템 Trainset_B.csv')\n",
    "test = pd.read_csv(path + '/관광지 추천시스템 Testset_B.csv')\n",
    "\n",
    "Train.dropna(inplace = True)\n",
    "Train.reset_index(inplace = True, drop = True )\n",
    "\n",
    "test.dropna(inplace = True)\n",
    "test.reset_index(inplace = True, drop = True )\n",
    "\n",
    "print(Train.shape)\n",
    "print(test.shape)"
   ]
  },
  {
   "cell_type": "code",
   "execution_count": 77,
   "metadata": {},
   "outputs": [],
   "source": [
    "\"\"\"5번 이상 방문한 곳으로만 필터링\"\"\"\n",
    "Train.reset_index(drop = True, inplace= True)\n",
    "\n",
    "count = pd.DataFrame(Train['VISIT_AREA_NM'].value_counts())\n",
    "count['places'] = count.index\n",
    "five_places = list(count[count['VISIT_AREA_NM']>=5]['places']) \n",
    "for i in range(len(Train)):\n",
    "    if Train['VISIT_AREA_NM'][i] not in five_places:\n",
    "        Train = Train.drop([i], axis = 0)\n",
    "Train.reset_index(drop = True, inplace = True)"
   ]
  },
  {
   "cell_type": "code",
   "execution_count": 78,
   "metadata": {},
   "outputs": [
    {
     "data": {
      "text/html": [
       "<div>\n",
       "<style scoped>\n",
       "    .dataframe tbody tr th:only-of-type {\n",
       "        vertical-align: middle;\n",
       "    }\n",
       "\n",
       "    .dataframe tbody tr th {\n",
       "        vertical-align: top;\n",
       "    }\n",
       "\n",
       "    .dataframe thead th {\n",
       "        text-align: right;\n",
       "    }\n",
       "</style>\n",
       "<table border=\"1\" class=\"dataframe\">\n",
       "  <thead>\n",
       "    <tr style=\"text-align: right;\">\n",
       "      <th></th>\n",
       "      <th>VISIT_AREA_NM</th>\n",
       "    </tr>\n",
       "  </thead>\n",
       "  <tbody>\n",
       "    <tr>\n",
       "      <th>광안리해수욕장</th>\n",
       "      <td>202</td>\n",
       "    </tr>\n",
       "    <tr>\n",
       "      <th>해운대해수욕장</th>\n",
       "      <td>177</td>\n",
       "    </tr>\n",
       "    <tr>\n",
       "      <th>해동용궁사</th>\n",
       "      <td>57</td>\n",
       "    </tr>\n",
       "    <tr>\n",
       "      <th>흰여울문화마을</th>\n",
       "      <td>46</td>\n",
       "    </tr>\n",
       "    <tr>\n",
       "      <th>송정해수욕장</th>\n",
       "      <td>40</td>\n",
       "    </tr>\n",
       "    <tr>\n",
       "      <th>...</th>\n",
       "      <td>...</td>\n",
       "    </tr>\n",
       "    <tr>\n",
       "      <th>BIFF거리</th>\n",
       "      <td>5</td>\n",
       "    </tr>\n",
       "    <tr>\n",
       "      <th>서면젊음의거리</th>\n",
       "      <td>5</td>\n",
       "    </tr>\n",
       "    <tr>\n",
       "      <th>뮤지엄원</th>\n",
       "      <td>5</td>\n",
       "    </tr>\n",
       "    <tr>\n",
       "      <th>송도해상케이블카 송도스카이파크</th>\n",
       "      <td>5</td>\n",
       "    </tr>\n",
       "    <tr>\n",
       "      <th>부산 아시아드 주경기장</th>\n",
       "      <td>5</td>\n",
       "    </tr>\n",
       "  </tbody>\n",
       "</table>\n",
       "<p>83 rows × 1 columns</p>\n",
       "</div>"
      ],
      "text/plain": [
       "                  VISIT_AREA_NM\n",
       "광안리해수욕장                     202\n",
       "해운대해수욕장                     177\n",
       "해동용궁사                        57\n",
       "흰여울문화마을                      46\n",
       "송정해수욕장                       40\n",
       "...                         ...\n",
       "BIFF거리                        5\n",
       "서면젊음의거리                       5\n",
       "뮤지엄원                          5\n",
       "송도해상케이블카 송도스카이파크              5\n",
       "부산 아시아드 주경기장                  5\n",
       "\n",
       "[83 rows x 1 columns]"
      ]
     },
     "execution_count": 78,
     "metadata": {},
     "output_type": "execute_result"
    }
   ],
   "source": [
    "count_visit5 = pd.DataFrame(Train['VISIT_AREA_NM'].value_counts())\n",
    "count_visit5.groupby(['VISIT_AREA_NM'])['VISIT_AREA_NM'].count()\n",
    "count_visit5"
   ]
  },
  {
   "cell_type": "code",
   "execution_count": 79,
   "metadata": {},
   "outputs": [],
   "source": [
    "\"\"\"Drop Features\"\"\"\n",
    "Train.drop(['TRAVELER_ID', 'REVISIT_INTENTION', 'RCMDTN_INTENTION','RESIDENCE_TIME_MIN', 'REVISIT_YN'], axis = 1, inplace = True)\n",
    "test.drop(['TRAVELER_ID', 'REVISIT_INTENTION', 'RCMDTN_INTENTION','RESIDENCE_TIME_MIN', 'REVISIT_YN'], axis = 1, inplace = True)"
   ]
  },
  {
   "cell_type": "code",
   "execution_count": 80,
   "metadata": {},
   "outputs": [],
   "source": [
    "\"\"\"Change dtype\"\"\"\n",
    "Train['VISIT_AREA_TYPE_CD'] = Train['VISIT_AREA_TYPE_CD'].astype('string')\n",
    "test['VISIT_AREA_TYPE_CD'] = test['VISIT_AREA_TYPE_CD'].astype('string')"
   ]
  },
  {
   "cell_type": "code",
   "execution_count": 81,
   "metadata": {},
   "outputs": [],
   "source": [
    "x_train = Train.drop(['DGSTFN', 'TRAVEL_ID'], axis = 1)\n",
    "y_train = Train['DGSTFN']"
   ]
  },
  {
   "cell_type": "code",
   "execution_count": 82,
   "metadata": {},
   "outputs": [],
   "source": [
    "category_features = [\"VISIT_AREA_NM\", \"SIDO\", \"GUNGU\", \"VISIT_AREA_TYPE_CD\", \"TRAVEL_MISSION_PRIORITY\", \"AGE_GRP\", \"GENDER\", \"MVMN_NM\"]"
   ]
  },
  {
   "cell_type": "code",
   "execution_count": 83,
   "metadata": {},
   "outputs": [],
   "source": [
    "x_train['TRAVEL_MISSION_PRIORITY'] = x_train['TRAVEL_MISSION_PRIORITY'].astype('int')\n",
    "x_train['AGE_GRP'] = x_train['AGE_GRP'].astype('int')"
   ]
  },
  {
   "cell_type": "code",
   "execution_count": 84,
   "metadata": {},
   "outputs": [
    {
     "name": "stdout",
     "output_type": "stream",
     "text": [
      "Learning rate set to 0.042412\n",
      "0:\tlearn: 0.7992393\ttotal: 14.1ms\tremaining: 14s\n",
      "100:\tlearn: 0.7197205\ttotal: 1.56s\tremaining: 13.9s\n",
      "200:\tlearn: 0.6930363\ttotal: 3.08s\tremaining: 12.3s\n",
      "300:\tlearn: 0.6656065\ttotal: 4.64s\tremaining: 10.8s\n",
      "400:\tlearn: 0.6485376\ttotal: 6.16s\tremaining: 9.19s\n",
      "500:\tlearn: 0.6286665\ttotal: 7.74s\tremaining: 7.71s\n",
      "600:\tlearn: 0.6108184\ttotal: 9.3s\tremaining: 6.18s\n",
      "700:\tlearn: 0.5998046\ttotal: 10.8s\tremaining: 4.63s\n",
      "800:\tlearn: 0.5937424\ttotal: 12.2s\tremaining: 3.03s\n",
      "900:\tlearn: 0.5892448\ttotal: 13.7s\tremaining: 1.5s\n",
      "999:\tlearn: 0.5841803\ttotal: 15.1s\tremaining: 0us\n"
     ]
    },
    {
     "data": {
      "text/plain": [
       "<catboost.core.CatBoostRegressor at 0x26fff2faa50>"
      ]
     },
     "execution_count": 84,
     "metadata": {},
     "output_type": "execute_result"
    }
   ],
   "source": [
    "model = CatBoostRegressor(cat_features=category_features, random_state=42, task_type=\"GPU\", verbose=100)\n",
    "model.fit(x_train, y_train)"
   ]
  },
  {
   "cell_type": "code",
   "execution_count": 85,
   "metadata": {},
   "outputs": [
    {
     "data": {
      "text/plain": [
       "['C:\\\\workspace\\\\Ko-Swipe-ML\\\\data\\\\preprocessing/catboost_model_B.pkl']"
      ]
     },
     "execution_count": 85,
     "metadata": {},
     "output_type": "execute_result"
    }
   ],
   "source": [
    "joblib.dump(model, path + '/catboost_model_B.pkl')"
   ]
  },
  {
   "cell_type": "code",
   "execution_count": 86,
   "metadata": {},
   "outputs": [],
   "source": [
    "path = r\"C:\\workspace\\Ko-Swipe-ML\\data\\preprocessing\"\n",
    "\n",
    "modelb = joblib.load(path + '/catboost_model_B.pkl')\n",
    "testb = pd.read_csv(path + '/관광지 추천시스템 Testset_B.csv')\n",
    "trainb = pd.read_csv(path + '/관광지 추천시스템 Trainset_B.csv')"
   ]
  },
  {
   "cell_type": "code",
   "execution_count": 87,
   "metadata": {},
   "outputs": [],
   "source": [
    "X_testb = testb.drop(['DGSTFN'], axis = 1)\n",
    "y_testb = testb['DGSTFN']"
   ]
  },
  {
   "cell_type": "code",
   "execution_count": 88,
   "metadata": {},
   "outputs": [],
   "source": [
    "# 유저정보\n",
    "user_info = testb[\n",
    "    [\n",
    "        \"TRAVEL_ID\",\n",
    "        \"SIDO\",\n",
    "        \"GUNGU\",\n",
    "        \"TRAVEL_MISSION_PRIORITY\",\n",
    "        \"MVMN_NM\",\n",
    "        \"GENDER\",\n",
    "        \"AGE_GRP\",\n",
    "        \"INCOME\",\n",
    "        \"TRAVEL_STYL\",\n",
    "        \"TRAVEL_MOTIVE_1\",\n",
    "        \"TRAVEL_NUM\",\n",
    "        \"TRAVEL_COMPANIONS_NUM\",\n",
    "    ]\n",
    "]"
   ]
  },
  {
   "cell_type": "code",
   "execution_count": 89,
   "metadata": {},
   "outputs": [
    {
     "name": "stderr",
     "output_type": "stream",
     "text": [
      "100%|██████████| 287/287 [00:00<00:00, 1142.70it/s]\n"
     ]
    }
   ],
   "source": [
    "new_user_info = pd.DataFrame(columns=['TRAVEL_ID', 'TRAVEL_MISSION_PRIORITY', \"MVMN_NM\", 'GENDER', 'AGE_GRP', 'INCOME',\n",
    "                            'TRAVEL_STYL','TRAVEL_MOTIVE_1', 'TRAVEL_NUM', 'TRAVEL_COMPANIONS_NUM', 'sido_gungu_list'])\n",
    "\n",
    "for i in tqdm(list(user_info['TRAVEL_ID'].unique())):\n",
    "    user_info_filtered = user_info[user_info['TRAVEL_ID'] == i]\n",
    "    userLocations = user_info_filtered[['SIDO', 'GUNGU']] #각 유저별 방문한 시군구 확인\n",
    "    userLocations.reset_index(drop = True, inplace = True)\n",
    "    sido_gungu_visit = []\n",
    "    for j in range(len(userLocations)):\n",
    "        sido_gungu_visit.append(userLocations['SIDO'][j] + '+' + userLocations['GUNGU'][j])\n",
    "    sido_gungu_list = list(set(sido_gungu_visit))\n",
    "    new = user_info_filtered.drop(['SIDO', 'GUNGU'], axis = 1) #기존 시도, 군구 제외하고\n",
    "    new = new.head(1)\n",
    "    new['sido_gungu_list'] = str(sido_gungu_list)\n",
    "    new_user_info = pd.concat([new_user_info, new], axis = 0) #새로운 데이터프레임 생성        \n",
    "    "
   ]
  },
  {
   "cell_type": "code",
   "execution_count": 90,
   "metadata": {},
   "outputs": [],
   "source": [
    "new_user_info.reset_index(drop = True, inplace = True)\n",
    "new_user_info.to_csv(path + '/관광지 추천시스템 Testset_B- 유저 정보.csv', index=False)"
   ]
  },
  {
   "cell_type": "code",
   "execution_count": 91,
   "metadata": {},
   "outputs": [],
   "source": [
    "#여행지 정보\n",
    "info = trainb[['SIDO', 'VISIT_AREA_NM', 'GUNGU','VISIT_AREA_TYPE_CD','RESIDENCE_TIME_MIN_mean', 'RCMDTN_INTENTION_mean',\n",
    "            'REVISIT_YN_mean', 'TRAVEL_COMPANIONS_NUM_mean', 'REVISIT_INTENTION_mean']]\n",
    "info.drop_duplicates(['VISIT_AREA_NM'], inplace = True)"
   ]
  },
  {
   "cell_type": "code",
   "execution_count": 92,
   "metadata": {},
   "outputs": [],
   "source": [
    "###### 2회 이상 관광한 방문지 리스트 생성\n",
    "visiting_list = trainb[['VISIT_AREA_NM']] #train set에 있는 방문지에 대해서만 2회 이상 방문하였는지 확인\n",
    "visiting_list.reset_index(drop = True, inplace = True)\n",
    "#데이터 전처리\n",
    "visit_count_df = pd.DataFrame(visiting_list.value_counts(), columns = ['count'])\n",
    "visit_count_df['VISIT_AREA_NM'] = visit_count_df.index\n",
    "visit_count_df.reset_index(drop = True, inplace = True)\n",
    "for i in range(len(visit_count_df)):\n",
    "    visit_count_df['VISIT_AREA_NM'][i] = str(visit_count_df['VISIT_AREA_NM'][i])\n",
    "    visit_count_df['VISIT_AREA_NM'][i] = visit_count_df['VISIT_AREA_NM'][i].replace(\"(\",\"\").replace(\")\",\"\").replace(\",\",\"\").replace(\"\\''\",\"\")\n",
    "    visit_count_df['VISIT_AREA_NM'][i] = visit_count_df['VISIT_AREA_NM'][i][1:-1]\n",
    "#5회 이상 적용\n",
    "visit_count_df = visit_count_df[visit_count_df['count'] >= 5]  \n",
    "visit_list = list(visit_count_df['VISIT_AREA_NM']) #visit_list에 5회 이상 방문지 리스트"
   ]
  },
  {
   "cell_type": "code",
   "execution_count": 93,
   "metadata": {},
   "outputs": [
    {
     "name": "stderr",
     "output_type": "stream",
     "text": [
      "100%|██████████| 908/908 [00:00<00:00, 9110.29it/s]\n"
     ]
    }
   ],
   "source": [
    "#방문지가 5회 이상 방문한 관광지 아니면 제거\n",
    "info.reset_index(drop = True, inplace = True)\n",
    "for i in tqdm(range(len(info))):\n",
    "    if info['VISIT_AREA_NM'][i] not in visit_list:\n",
    "        info = info.drop([i], axis = 0)\n",
    "info.reset_index(drop = True, inplace = True)"
   ]
  },
  {
   "cell_type": "code",
   "execution_count": 94,
   "metadata": {},
   "outputs": [],
   "source": [
    "#여행자 정보 저장\n",
    "info.reset_index(drop = True, inplace = True)\n",
    "info.to_csv(path + '/관광지 추천시스템 Testset_B- 여행지 정보.csv', index=False)"
   ]
  },
  {
   "cell_type": "code",
   "execution_count": 95,
   "metadata": {},
   "outputs": [],
   "source": [
    "user_info = pd.read_csv(path + '/관광지 추천시스템 Testset_B- 유저 정보.csv')\n",
    "info = pd.read_csv(path + '/관광지 추천시스템 Testset_B- 여행지 정보.csv')"
   ]
  },
  {
   "cell_type": "code",
   "execution_count": 96,
   "metadata": {},
   "outputs": [],
   "source": [
    "new_user_info['TRAVEL_MISSION_PRIORITY'] = new_user_info['TRAVEL_MISSION_PRIORITY'].astype('int')\n",
    "new_user_info['AGE_GRP'] = new_user_info['AGE_GRP'].astype('int')"
   ]
  },
  {
   "cell_type": "code",
   "execution_count": 97,
   "metadata": {},
   "outputs": [
    {
     "data": {
      "text/html": [
       "<div>\n",
       "<style scoped>\n",
       "    .dataframe tbody tr th:only-of-type {\n",
       "        vertical-align: middle;\n",
       "    }\n",
       "\n",
       "    .dataframe tbody tr th {\n",
       "        vertical-align: top;\n",
       "    }\n",
       "\n",
       "    .dataframe thead th {\n",
       "        text-align: right;\n",
       "    }\n",
       "</style>\n",
       "<table border=\"1\" class=\"dataframe\">\n",
       "  <thead>\n",
       "    <tr style=\"text-align: right;\">\n",
       "      <th></th>\n",
       "      <th>TRAVEL_MISSION_PRIORITY</th>\n",
       "      <th>MVMN_NM</th>\n",
       "      <th>GENDER</th>\n",
       "      <th>AGE_GRP</th>\n",
       "      <th>INCOME</th>\n",
       "      <th>TRAVEL_STYL</th>\n",
       "      <th>TRAVEL_MOTIVE_1</th>\n",
       "      <th>TRAVEL_NUM</th>\n",
       "      <th>TRAVEL_COMPANIONS_NUM</th>\n",
       "      <th>sido_gungu_list</th>\n",
       "    </tr>\n",
       "  </thead>\n",
       "  <tbody>\n",
       "    <tr>\n",
       "      <th>7</th>\n",
       "      <td>2.0</td>\n",
       "      <td>자가용</td>\n",
       "      <td>여</td>\n",
       "      <td>30.0</td>\n",
       "      <td>5.0</td>\n",
       "      <td>3.0</td>\n",
       "      <td>1.0</td>\n",
       "      <td>2.0</td>\n",
       "      <td>2.0</td>\n",
       "      <td>['부산+중구', '부산+해운대구']</td>\n",
       "    </tr>\n",
       "  </tbody>\n",
       "</table>\n",
       "</div>"
      ],
      "text/plain": [
       "  TRAVEL_MISSION_PRIORITY MVMN_NM GENDER AGE_GRP INCOME TRAVEL_STYL  \\\n",
       "7                     2.0     자가용      여    30.0    5.0         3.0   \n",
       "\n",
       "  TRAVEL_MOTIVE_1 TRAVEL_NUM TRAVEL_COMPANIONS_NUM       sido_gungu_list  \n",
       "7             1.0        2.0                   2.0  ['부산+중구', '부산+해운대구']  "
      ]
     },
     "execution_count": 97,
     "metadata": {},
     "output_type": "execute_result"
    }
   ],
   "source": [
    "test_data = pd.DataFrame(user_info.iloc[7]).T\n",
    "\n",
    "test_data.drop(['TRAVEL_ID'], axis = 1, inplace = True)\n",
    "\n",
    "test_data"
   ]
  },
  {
   "cell_type": "code",
   "execution_count": 99,
   "metadata": {},
   "outputs": [
    {
     "name": "stdout",
     "output_type": "stream",
     "text": [
      "[['부산', 2, '자가용', '여', 30, 5, 3, 1, 2, 2, ['신세계 센텀시티몰', '부산시립미술관', 'BIFF광장', '롯데백화점 광복점', '롯데백화점 센텀시티점', '청사포 다릿돌 전망대', '신세계백화점 센텀시티점', '부평깡통시장', '벡스코 제2전시장', '행리단길']]]\n"
     ]
    }
   ],
   "source": [
    "import pandas as pd\n",
    "\n",
    "# Define column lists\n",
    "final_columns = [\n",
    "    \"VISIT_AREA_NM\", \"SIDO\", \"GUNGU\", \"VISIT_AREA_TYPE_CD\", \"TRAVEL_MISSION_PRIORITY\", \"MVMN_NM\", \"GENDER\", \"AGE_GRP\", \"INCOME\",\n",
    "    \"TRAVEL_STYL\", \"TRAVEL_MOTIVE_1\", \"TRAVEL_NUM\", \"TRAVEL_COMPANIONS_NUM\", \n",
    "    \"RESIDENCE_TIME_MIN_mean\", \"RCMDTN_INTENTION_mean\", \"REVISIT_YN_mean\", \"TRAVEL_COMPANIONS_NUM_mean\", \n",
    "    \"REVISIT_INTENTION_mean\"\n",
    "]\n",
    "\n",
    "user_columns = [\n",
    "    \"SIDO\", \"TRAVEL_MISSION_PRIORITY\", \"MVMN_NM\", \"GENDER\", \"AGE_GRP\", \"INCOME\", \"TRAVEL_STYL\",\n",
    "    \"TRAVEL_MOTIVE_1\", \"TRAVEL_NUM\", \"TRAVEL_COMPANIONS_NUM\"\n",
    "]\n",
    "\n",
    "features = final_columns\n",
    "\n",
    "def convert_float_to_int(df):\n",
    "    float_cols = df.select_dtypes(include=['float']).columns\n",
    "    \n",
    "    for col in float_cols:\n",
    "        df[col] = df[col].astype(int)\n",
    "    \n",
    "    return df\n",
    "\n",
    "def preprocess_places_list(places_list_str):\n",
    "    \"\"\"\n",
    "    Preprocesses the places list string into a list of places.\n",
    "\n",
    "    Parameters:\n",
    "    places_list_str (str): String representation of the places list.\n",
    "\n",
    "    Returns:\n",
    "    list: A list of places.\n",
    "    \"\"\"\n",
    "    places_list = places_list_str.replace(\"[\", \"\").replace(\"]\", \"\").replace(\"'\", \"\").replace(\", \", \",\")\n",
    "    return list(map(str, places_list.split(\",\")))\n",
    "\n",
    "def generate_final_df(info, new_user_info, places_list):\n",
    "    \"\"\"\n",
    "    Generates the final DataFrame based on user information and places list.\n",
    "\n",
    "    Parameters:\n",
    "    info (DataFrame): DataFrame containing area information.\n",
    "    new_user_info (DataFrame): DataFrame containing new user information.\n",
    "    places_list (list): List of places.\n",
    "\n",
    "    Returns:\n",
    "    DataFrame: The final DataFrame containing combined user and area information.\n",
    "    \"\"\"\n",
    "    final_df = pd.DataFrame(columns=final_columns)\n",
    "    \n",
    "    for place in places_list:\n",
    "        sido, gungu = map(str, place.split(\"+\"))\n",
    "        info_df = info[(info[\"SIDO\"] == sido) & (info[\"GUNGU\"] == gungu)].drop([\"SIDO\"], axis=1).reset_index(drop=True)\n",
    "        user_data = new_user_info.drop([\"sido_gungu_list\"], axis=1).values.tolist()[0]\n",
    "        user_data = [sido] + user_data\n",
    "        user_df = pd.DataFrame([user_data] * len(info_df), columns=user_columns)\n",
    "        df = pd.concat([user_df, info_df], axis=1)[features]\n",
    "        df[\"VISIT_AREA_TYPE_CD\"] = df[\"VISIT_AREA_TYPE_CD\"].astype(\"string\")\n",
    "        final_df = pd.concat([final_df, df], axis=0)\n",
    "        \n",
    "    final_df.reset_index(drop=True, inplace=True)\n",
    "    final_df.drop_duplicates([\"VISIT_AREA_NM\"], inplace=True)\n",
    "    return final_df\n",
    "\n",
    "def recommend_places(model, final_df):\n",
    "    \"\"\"\n",
    "    Recommends places based on the model's predictions.\n",
    "\n",
    "    Parameters:\n",
    "    model: The predictive model.\n",
    "    final_df (DataFrame): The final DataFrame containing combined user and area information.\n",
    "\n",
    "    Returns:\n",
    "    list: List of recommended places.\n",
    "    \"\"\"\n",
    "    final_df = convert_float_to_int(final_df)\n",
    "    y_pred = model.predict(final_df)\n",
    "    y_pred_df = pd.DataFrame(y_pred, columns=[\"y_pred\"])\n",
    "    sorted_df = pd.concat([final_df, y_pred_df], axis=1).sort_values(by=\"y_pred\", ascending=False).iloc[:10]\n",
    "    return list(sorted_df[\"VISIT_AREA_NM\"])\n",
    "\n",
    "\n",
    "def generate_user_info_df(final_df):\n",
    "    \"\"\"\n",
    "    Generates a DataFrame containing user information.\n",
    "\n",
    "    Parameters:\n",
    "    final_df (DataFrame): The final DataFrame containing combined user and area information.\n",
    "\n",
    "    Returns:\n",
    "    DataFrame: DataFrame containing user information.\n",
    "    \"\"\"\n",
    "    return final_df[user_columns]\n",
    "\n",
    "def main(info, new_user_info, model):\n",
    "    \"\"\"\n",
    "    Main function to generate recommendations and user information.\n",
    "\n",
    "    Parameters:\n",
    "    info (DataFrame): DataFrame containing area information.\n",
    "    new_user_info (DataFrame): DataFrame containing new user information.\n",
    "    model: The predictive model.\n",
    "\n",
    "    Returns:\n",
    "    list: A list containing user information and recommended places.\n",
    "    \"\"\"\n",
    "    result = []\n",
    "    places_list_str = new_user_info[\"sido_gungu_list\"].values[0]\n",
    "    places_list = preprocess_places_list(places_list_str)\n",
    "    final_df = generate_final_df(info, new_user_info, places_list)\n",
    "    \n",
    "    visiting_candidates = recommend_places(model, final_df)\n",
    "    user_info_df = generate_user_info_df(final_df)\n",
    "    \n",
    "    if len(user_info_df) == 0:\n",
    "        result.append([])\n",
    "    else:\n",
    "        rec = user_info_df.iloc[0].to_list()\n",
    "        rec.append(visiting_candidates)\n",
    "        result.append(rec)\n",
    "    \n",
    "    return result\n",
    "\n",
    "#Example usage:\n",
    "result = main(info, test_data, modelb)\n",
    "print(result)\n"
   ]
  },
  {
   "cell_type": "code",
   "execution_count": null,
   "metadata": {},
   "outputs": [],
   "source": []
  }
 ],
 "metadata": {
  "kernelspec": {
   "display_name": ".venv",
   "language": "python",
   "name": "python3"
  },
  "language_info": {
   "codemirror_mode": {
    "name": "ipython",
    "version": 3
   },
   "file_extension": ".py",
   "mimetype": "text/x-python",
   "name": "python",
   "nbconvert_exporter": "python",
   "pygments_lexer": "ipython3",
   "version": "3.11.8"
  }
 },
 "nbformat": 4,
 "nbformat_minor": 2
}
