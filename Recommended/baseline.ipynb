{
 "cells": [
  {
   "cell_type": "code",
   "execution_count": null,
   "metadata": {
    "id": "USgkYLwHQYU3"
   },
   "outputs": [],
   "source": [
    "import pandas as pd\n",
    "import numpy as np\n",
    "from catboost import CatBoostRegressor\n",
    "import joblib\n",
    "import time\n",
    "from tqdm import tqdm\n",
    "import warnings\n",
    "\n",
    "warnings.filterwarnings('ignore')\n",
    "pd.set_option('display.max_columns', None)"
   ]
  },
  {
   "cell_type": "code",
   "execution_count": null,
   "metadata": {
    "id": "jyQ2OlZyQYU7"
   },
   "outputs": [],
   "source": [
    "# 데이터 불러오기\n",
    "path = \"./data/train\"\n",
    "# path = 'C:/Users/psj70/Desktop/권역별 4개 모델(0225공유)/권역별 4개 모델(0225공유)'\n",
    "visit_area_info = pd.read_csv(path + \"/tn_visit_area_info_방문지정보_B.csv\")  # 방문지 정보 activity\n",
    "travel = pd.read_csv(path + \"/tn_travel_여행_B.csv\")  # 여행 travel\n",
    "traveller_master = pd.read_csv(path + \"/tn_traveller_master_여행객 Master_B.csv\")  # 여행객 정보 Master traveler"
   ]
  },
  {
   "cell_type": "markdown",
   "metadata": {
    "id": "Wv85rQXZdBZF"
   },
   "source": [
    "# 전처리"
   ]
  },
  {
   "cell_type": "markdown",
   "metadata": {
    "id": "u9SrGzFwa2r8"
   },
   "source": [
    "## 1) visit_area_info 방문지 정보 df"
   ]
  },
  {
   "cell_type": "code",
   "execution_count": null,
   "metadata": {
    "id": "LHG6B87sQYVC"
   },
   "outputs": [],
   "source": [
    "# 관광지 선택\n",
    "visit_area_info = visit_area_info[\n",
    "    (visit_area_info[\"VISIT_AREA_TYPE_CD\"] == 1)\n",
    "    | (visit_area_info[\"VISIT_AREA_TYPE_CD\"] == 2)\n",
    "    | (visit_area_info[\"VISIT_AREA_TYPE_CD\"] == 3)\n",
    "    | (visit_area_info[\"VISIT_AREA_TYPE_CD\"] == 4)\n",
    "    | (visit_area_info[\"VISIT_AREA_TYPE_CD\"] == 5)\n",
    "    | (visit_area_info[\"VISIT_AREA_TYPE_CD\"] == 6)\n",
    "    | (visit_area_info[\"VISIT_AREA_TYPE_CD\"] == 7)\n",
    "    | (visit_area_info[\"VISIT_AREA_TYPE_CD\"] == 8)\n",
    "]"
   ]
  },
  {
   "cell_type": "code",
   "execution_count": null,
   "metadata": {
    "id": "xPHvlu4MQYVC"
   },
   "outputs": [],
   "source": [
    "#인덱스 재정렬\n",
    "visit_area_info = visit_area_info.reset_index(drop = True)"
   ]
  },
  {
   "cell_type": "code",
   "execution_count": null,
   "metadata": {
    "colab": {
     "base_uri": "https://localhost:8080/"
    },
    "id": "ZP0CZV9zQYVD",
    "outputId": "97289921-2ba5-4643-c0b4-006616cf6770"
   },
   "outputs": [],
   "source": [
    "#제대로 추출되었는지 확인\n",
    "visit_area_info['VISIT_AREA_TYPE_CD'].unique()"
   ]
  },
  {
   "cell_type": "code",
   "execution_count": null,
   "metadata": {
    "id": "fKI4EmjgQYVE"
   },
   "outputs": [],
   "source": [
    "visit_area_info.dropna(subset = ['LOTNO_ADDR'], inplace = True)\n",
    "visit_area_info = visit_area_info.reset_index(drop = True)"
   ]
  },
  {
   "cell_type": "code",
   "execution_count": null,
   "metadata": {
    "id": "6QyLFzUgQYVF"
   },
   "outputs": [],
   "source": [
    "# 시도/군구 변수 생성\n",
    "sido = []\n",
    "gungu = []\n",
    "for i in range(len(visit_area_info['LOTNO_ADDR'])):\n",
    "    sido.append(visit_area_info['LOTNO_ADDR'][i].split(' ')[0])\n",
    "    gungu.append(visit_area_info['LOTNO_ADDR'][i].split(' ')[1])"
   ]
  },
  {
   "cell_type": "code",
   "execution_count": null,
   "metadata": {
    "id": "yZEigMD_QYVG"
   },
   "outputs": [],
   "source": [
    "visit_area_info['SIDO'] = sido\n",
    "visit_area_info['GUNGU'] = gungu"
   ]
  },
  {
   "cell_type": "code",
   "execution_count": null,
   "metadata": {
    "colab": {
     "base_uri": "https://localhost:8080/"
    },
    "id": "fx9N60pSQYVH",
    "outputId": "beac8870-73a4-4306-a838-0146671d70a0"
   },
   "outputs": [],
   "source": [
    "visit_area_info['SIDO'].value_counts()"
   ]
  },
  {
   "cell_type": "markdown",
   "metadata": {
    "id": "ZgQBT63ea2sg"
   },
   "source": [
    "### 변수 선택"
   ]
  },
  {
   "cell_type": "markdown",
   "metadata": {
    "id": "nJSnSa1Ta2sg"
   },
   "source": [
    "TRAVEL_ID 여행 ID\n",
    "\n",
    "VISIT_AREA_NM 방문 장소 이름\n",
    "\n",
    "SIDO 시/도\n",
    "\n",
    "GUNGU 군/구\n",
    "\n",
    "VISIT_AREA_TYPE_CD 관광 장소 유형\n",
    "\n",
    "DGSTFN 만족도\n",
    "\n",
    "REVISIT_INTENTION 재방문의향\n",
    "\n",
    "RCMDTN_INTENTION 추천의향\n",
    "\n",
    "RESIDENCE_TIME_MIN 체류시간분\n",
    "\n",
    "REVISIT_YN 재방문여부"
   ]
  },
  {
   "cell_type": "code",
   "execution_count": null,
   "metadata": {
    "id": "wL7Bi8QIQYVJ"
   },
   "outputs": [],
   "source": [
    "visit_area_info = visit_area_info[['TRAVEL_ID', 'VISIT_AREA_NM', 'SIDO', 'GUNGU', 'VISIT_AREA_TYPE_CD', 'DGSTFN',\n",
    "                                  'REVISIT_INTENTION', 'RCMDTN_INTENTION', 'RESIDENCE_TIME_MIN', 'REVISIT_YN']]"
   ]
  },
  {
   "cell_type": "markdown",
   "metadata": {
    "id": "9WLulGcGa2sp"
   },
   "source": [
    "## 2) travel 여행 정보 df"
   ]
  },
  {
   "cell_type": "code",
   "execution_count": null,
   "metadata": {
    "id": "-YvqDZsVQYVK"
   },
   "outputs": [],
   "source": [
    "# TRAVEL_MISSION_CHECK의 첫번째 항목 가져오기\n",
    "travel_list = []\n",
    "for i in range(len(travel)):\n",
    "    value = int(travel['TRAVEL_MISSION_CHECK'][i].split(';')[0])\n",
    "    travel_list.append(value)\n",
    "\n",
    "travel['TRAVEL_MISSION_PRIORITY'] = travel_list"
   ]
  },
  {
   "cell_type": "markdown",
   "metadata": {
    "id": "iHbibo-na2st"
   },
   "source": [
    "### 변수 선택"
   ]
  },
  {
   "cell_type": "markdown",
   "metadata": {
    "id": "dEzER73ka2st"
   },
   "source": [
    "TRAVEL_ID: 여행 ID\n",
    "\n",
    "TRAVELER_ID: 여행자 ID\n",
    "\n",
    "TRAVEL_MISSION_PRIORITY: 개별 미션 우선도 중 첫번째"
   ]
  },
  {
   "cell_type": "code",
   "execution_count": null,
   "metadata": {
    "id": "KummIascQYVL"
   },
   "outputs": [],
   "source": [
    "travel = travel[['TRAVEL_ID', 'TRAVELER_ID', 'TRAVEL_MISSION_PRIORITY']]"
   ]
  },
  {
   "cell_type": "markdown",
   "metadata": {
    "id": "OugGmUI5a2sv"
   },
   "source": [
    "## 3) traveller_master 여행자 정보 df"
   ]
  },
  {
   "cell_type": "markdown",
   "metadata": {
    "id": "gTXgyf47a2sx"
   },
   "source": [
    "### 변수 선택"
   ]
  },
  {
   "cell_type": "markdown",
   "metadata": {
    "id": "nNfFK2tXa2sy"
   },
   "source": [
    "TRAVELER_ID 여행객ID\n",
    "\n",
    "GENDER 성별\n",
    "\n",
    "AGE_GRP 연령대\n",
    "\n",
    "INCOME 소득\n",
    "\n",
    "TRAVEL_STYL(1,2,3,4,5,6,7,8) 여행 스타일 \n",
    "\n",
    "TRAVEL_MOVTIVE(1) 여행 동기 - 2,3은 결측치가 있어 제외\n",
    "\n",
    "TRAVEL_NUM 여행빈도\n",
    "\n",
    "TRAVEL_COMPANIONS_NUM 동반자 수\n"
   ]
  },
  {
   "cell_type": "code",
   "execution_count": null,
   "metadata": {
    "id": "YtMMrmFsQYVN"
   },
   "outputs": [],
   "source": [
    "traveller_master = traveller_master[['TRAVELER_ID', 'GENDER', 'AGE_GRP', 'INCOME', 'TRAVEL_STYL_1', \n",
    "                                     'TRAVEL_STYL_2', 'TRAVEL_STYL_3', 'TRAVEL_STYL_4', 'TRAVEL_STYL_5', \n",
    "                                     'TRAVEL_STYL_6', 'TRAVEL_STYL_7','TRAVEL_STYL_8', \n",
    "                                      'TRAVEL_MOTIVE_1', 'TRAVEL_NUM', 'TRAVEL_COMPANIONS_NUM' ]]"
   ]
  },
  {
   "cell_type": "markdown",
   "metadata": {
    "id": "8zYeidDEa2s0"
   },
   "source": [
    "## 데이터 프레임 합치기"
   ]
  },
  {
   "cell_type": "code",
   "execution_count": null,
   "metadata": {
    "id": "f44IOd67QYVN"
   },
   "outputs": [],
   "source": [
    "df = pd.merge(travel, traveller_master, left_on = 'TRAVELER_ID', right_on = 'TRAVELER_ID', how = 'inner')"
   ]
  },
  {
   "cell_type": "code",
   "execution_count": null,
   "metadata": {
    "id": "MpudW66BQYVO"
   },
   "outputs": [],
   "source": [
    "df = pd.merge(visit_area_info, df, left_on = 'TRAVEL_ID', right_on = 'TRAVEL_ID', how = 'right')"
   ]
  },
  {
   "cell_type": "markdown",
   "metadata": {
    "id": "QT8zoJ9Na2s5"
   },
   "source": [
    "## 만족도(y) 결측치 삭제"
   ]
  },
  {
   "cell_type": "code",
   "execution_count": null,
   "metadata": {
    "id": "Iz_SmmZuQYVP"
   },
   "outputs": [],
   "source": [
    "df = df.dropna(subset = ['DGSTFN'])\n",
    "df.reset_index(drop=True, inplace=True)"
   ]
  },
  {
   "cell_type": "markdown",
   "metadata": {
    "id": "5vEoSqiYa2s6"
   },
   "source": [
    "## 체류시간 결측치 대체\n"
   ]
  },
  {
   "cell_type": "markdown",
   "metadata": {
    "id": "LFdEZmwma2s7"
   },
   "source": [
    "체류시간 0을 median 60으로 바꾸기"
   ]
  },
  {
   "cell_type": "code",
   "execution_count": null,
   "metadata": {
    "id": "B9cy0Bq5QYVQ"
   },
   "outputs": [],
   "source": [
    "df['RESIDENCE_TIME_MIN'] = df['RESIDENCE_TIME_MIN'].replace(0,60)"
   ]
  },
  {
   "cell_type": "markdown",
   "metadata": {
    "id": "MNkzMvbEfRfF"
   },
   "source": [
    "## 재방문여부 원핫인코딩"
   ]
  },
  {
   "cell_type": "code",
   "execution_count": null,
   "metadata": {
    "id": "4FRiN3i3QYVQ"
   },
   "outputs": [],
   "source": [
    "df['REVISIT_YN'] = df['REVISIT_YN'].replace(\"N\",0)\n",
    "df['REVISIT_YN'] = df['REVISIT_YN'].replace(\"Y\",1)"
   ]
  },
  {
   "cell_type": "markdown",
   "metadata": {
    "id": "76z0bPnaa2tA"
   },
   "source": [
    "## 여행스타일 결측치 삭제"
   ]
  },
  {
   "cell_type": "code",
   "execution_count": null,
   "metadata": {
    "id": "G2lRuQZxQYVR"
   },
   "outputs": [],
   "source": [
    "df.dropna(subset = ['TRAVEL_STYL_1'], inplace = True)\n",
    "df.reset_index(drop= True, inplace = True)"
   ]
  },
  {
   "cell_type": "markdown",
   "metadata": {
    "id": "9hZRjQq9KPEC"
   },
   "source": [
    "## 여행 목적 결측치 삭제"
   ]
  },
  {
   "cell_type": "code",
   "execution_count": null,
   "metadata": {
    "id": "lkbLBBBVQYVS"
   },
   "outputs": [],
   "source": [
    "df.dropna(subset = ['TRAVEL_MOTIVE_1'], inplace = True)\n",
    "df.reset_index(drop= True, inplace = True)"
   ]
  },
  {
   "cell_type": "code",
   "execution_count": null,
   "metadata": {
    "colab": {
     "base_uri": "https://localhost:8080/"
    },
    "id": "DIb6pB8ZQYVS",
    "outputId": "3fc53673-7eeb-4bef-9984-bc8b202536ef"
   },
   "outputs": [],
   "source": [
    "df.shape"
   ]
  },
  {
   "cell_type": "code",
   "execution_count": null,
   "metadata": {
    "colab": {
     "base_uri": "https://localhost:8080/"
    },
    "id": "lr4rhd8NQYVT",
    "outputId": "90bd1e86-e80a-45f0-cc12-4b1f8ffaadf0"
   },
   "outputs": [],
   "source": [
    "df.isna().sum().sum()"
   ]
  },
  {
   "cell_type": "markdown",
   "metadata": {
    "id": "3lZsbg6Va2tF"
   },
   "source": [
    "# Train-test split"
   ]
  },
  {
   "cell_type": "markdown",
   "metadata": {
    "id": "kzjOzlxCa2tF"
   },
   "source": [
    "-유니크한 관광지 정보가 모두 train set에 있어야 한다. (train set에 경복궁 없고 test set에만 경복궁 있으면 안된다. 왜냐하면 방문지 변수가 있기 때문에 입력되지 않은 방문지에 대한 정보는 모델이 학습할 수 없기 때문이다.)\n",
    "\n",
    "-또한 새로운 유저에 대한 추측이기 때문에 유저 데이터는 무조건 train / test 중 한 곳에만 있다. (유저 A의 ㄱ관광지는 train, ㄴ관광지는 test 에 있을 수 없다.)\n",
    "\n",
    "-이를 반영해서 train test split 진행하면 된다. \n",
    "\n",
    "-train set에서만 (방문지마다 체류시간 평균, 추천의향의 평균, 재방문여부의 평균, 동반자 수의 평균, 재방문의향의 평균)을 산출하고, 이 값을 test set에 대입한다. "
   ]
  },
  {
   "cell_type": "code",
   "execution_count": null,
   "metadata": {
    "colab": {
     "base_uri": "https://localhost:8080/",
     "height": 53
    },
    "id": "-H2TlbADQYVU",
    "outputId": "1d002d9c-9d8a-4858-ce21-b76c0d6005c6"
   },
   "outputs": [],
   "source": [
    "from tqdm import tqdm\n",
    "df1 = df\n",
    "Train = pd.DataFrame(columns = list(df.columns))\n",
    "for i in tqdm(list(df['VISIT_AREA_NM'].unique())): # 유니크한 관광지 목록 중에서\n",
    "    df2 = df1[df1['VISIT_AREA_NM'] == i] # 특정 관광지에 간 모든 사람 뽑아서\n",
    "    np.random.seed(42)\n",
    "    if df2.empty:\n",
    "        pass\n",
    "    else:\n",
    "        random_number = np.random.randint(len(df2)) \n",
    "        df_id = df2.iloc[[random_number]] # 그 중 랜덤으로 관광지에 간 사람 한 명 뽑아서\n",
    "        index = df_id.iloc[0,0]\n",
    "        df3 = df1[df1['TRAVEL_ID'] == index] #그 사람이 간 모든 관광지를 구해서\n",
    "        df1 = pd.merge(df3, df1, how = 'outer', indicator = True)\n",
    "        df1 = df1.query('_merge ==\"right_only\"').drop(columns = ['_merge']) # 기존 데이터프레임에서 그 사람 내용을 삭제하고\n",
    "        Train = Train.append(df3) #train set 에 추가\n",
    "'''        \n",
    "이 프로세스를 바복하면 전체 데이터프레임(df)에 유저정보는 계속해서 삭제될 것이고, 남은 df가 test set,\n",
    "Train 데이터프레임이 train set이 되는 것임\n",
    "'''"
   ]
  },
  {
   "cell_type": "code",
   "execution_count": null,
   "metadata": {
    "id": "Fl3ws2A3QYVV"
   },
   "outputs": [],
   "source": [
    "while len(df1)/len(df) > 0.2:\n",
    "    np.random.seed(42)\n",
    "    random_number = np.random.randint(len(df1))\n",
    "    df_id = df1.iloc[[random_number]]\n",
    "    index = df_id.iloc[0,0]\n",
    "    df3 = df1[df1['TRAVEL_ID'] == index]\n",
    "    df1 = pd.merge(df3, df1, how = 'outer', indicator = True)\n",
    "    df1 = df1.query('_merge ==\"right_only\"').drop(columns = ['_merge'])\n",
    "    Train = Train.append(df3)"
   ]
  },
  {
   "cell_type": "code",
   "execution_count": null,
   "metadata": {
    "colab": {
     "base_uri": "https://localhost:8080/"
    },
    "id": "frgvGoyAQYVV",
    "outputId": "ead84066-bdd8-4513-c9ec-77aef6d2f5bf"
   },
   "outputs": [],
   "source": [
    "print(len(Train)) # train set 길이\n",
    "print(len(df1)) # test set 길이\n",
    "print(len(df))\n",
    "print(len(df1) / len(df))"
   ]
  },
  {
   "cell_type": "markdown",
   "metadata": {
    "id": "gYAOYuaTa2tK"
   },
   "source": [
    "## Train set에서 방문지에 대한 변수 생성\n",
    "방문지마다 체류시간 평균, 추천의향의 평균, 재방문여부의 평균, 동반자 수의 평균, 재방문의향의 평균 산출"
   ]
  },
  {
   "cell_type": "code",
   "execution_count": null,
   "metadata": {
    "colab": {
     "base_uri": "https://localhost:8080/"
    },
    "id": "1A4gSgPPQYVW",
    "outputId": "4a639bc1-f9b2-40f2-8b6c-b228ae090257"
   },
   "outputs": [],
   "source": [
    "#새로운 데이터프레임 생성해서, 이 데이터프레임에 평균값을 추가한 새로운 Train set 생성할 것임\n",
    "\n",
    "new_train = pd.DataFrame(columns = list(Train.columns) + ['RESIDENCE_TIME_MIN_mean', 'RCMDTN_INTENTION_mean',\n",
    "                                                          'REVISIT_YN_mean', 'TRAVEL_COMPANIONS_NUM_mean',\n",
    "                                                          'REVISIT_INTENTION_mean'])\n",
    "\n",
    "\n",
    "for i in tqdm(list(Train['VISIT_AREA_NM'].unique())): #유니크한 관광지 목록 중에서\n",
    "    df2 = Train[Train['VISIT_AREA_NM'] == i] # 특정 관광지에 간 모든 사람 뽑아서\n",
    "    for j in ['RESIDENCE_TIME_MIN', 'RCMDTN_INTENTION', 'REVISIT_YN', 'TRAVEL_COMPANIONS_NUM', 'REVISIT_INTENTION']:\n",
    "        #체류시간 평균 산출 \n",
    "        globals()[str(j)+'_mean'] = df2[str(j)]\n",
    "        globals()[str(j)+'_mean'] = np.mean(globals()[str(j)+'_mean'])\n",
    "        #데이터프레임에 들어가게 값을 리스트 형태로 변환\n",
    "        globals()[str(j)+'_mean'] = np.repeat(globals()[str(j)+'_mean'], len(df2)) \n",
    "        df2[str(j)+'_mean'] = globals()[str(j)+'_mean']\n",
    "    #새로운 데이터프레임에 방문지별 평균값 대입\n",
    "    new_train = pd.concat([new_train, df2], axis = 0)"
   ]
  },
  {
   "cell_type": "code",
   "execution_count": null,
   "metadata": {
    "id": "qyvzkPtdQYVX"
   },
   "outputs": [],
   "source": [
    "#편의를 위해 유저별 정렬\n",
    "new_train.sort_values(by = ['TRAVEL_ID'], axis = 0, inplace = True)"
   ]
  },
  {
   "cell_type": "markdown",
   "metadata": {
    "id": "hXxMv8Kaa2tM"
   },
   "source": [
    "## DATA SET 저장"
   ]
  },
  {
   "cell_type": "code",
   "execution_count": null,
   "metadata": {
    "id": "t85E2zZxQYVY"
   },
   "outputs": [],
   "source": [
    "#train set 저장\n",
    "new_train.to_csv(path + '/관광지 추천시스템 Trainset_B.csv', index = False)\n",
    "#test set 저장\n",
    "df1.to_csv(path + '/관광지 추천시스템 Testset_B.csv', index = False)"
   ]
  },
  {
   "cell_type": "code",
   "execution_count": null,
   "metadata": {
    "id": "uLafZKVvQYVY"
   },
   "outputs": [],
   "source": [
    "# 파일 불러오기\n",
    "Train = pd.read_csv(path + '/관광지 추천시스템 Trainset_B.csv')\n",
    "test = pd.read_csv(path + '/관광지 추천시스템 Testset_B.csv')"
   ]
  },
  {
   "cell_type": "code",
   "execution_count": null,
   "metadata": {
    "id": "3GtYY1jyptFe"
   },
   "outputs": [],
   "source": [
    "Train.dropna(inplace = True)\n",
    "Train.reset_index(inplace = True, drop = True )"
   ]
  },
  {
   "cell_type": "code",
   "execution_count": null,
   "metadata": {
    "id": "PBxH_s80kxot"
   },
   "outputs": [],
   "source": [
    "test.dropna(inplace = True)\n",
    "test.reset_index(inplace = True, drop = True )"
   ]
  },
  {
   "cell_type": "code",
   "execution_count": null,
   "metadata": {
    "colab": {
     "base_uri": "https://localhost:8080/"
    },
    "id": "PUX8oer1i1Tu",
    "outputId": "1e52679f-2c6f-41c8-fe2e-4d1183673cd3"
   },
   "outputs": [],
   "source": [
    "print(Train.shape)\n",
    "print(test.shape)"
   ]
  },
  {
   "cell_type": "markdown",
   "metadata": {
    "id": "jS5BWHhmQYVa"
   },
   "source": [
    "# Train set 여행 방문지 필터링"
   ]
  },
  {
   "cell_type": "markdown",
   "metadata": {
    "id": "6nglDfQFQYVa"
   },
   "source": [
    "## 5번 이상 방문한 곳에 대해서만 학습 / 테스트"
   ]
  },
  {
   "cell_type": "code",
   "execution_count": null,
   "metadata": {
    "id": "dkPzTFKYQYVb"
   },
   "outputs": [],
   "source": [
    "count = pd.DataFrame(Train['VISIT_AREA_NM'].value_counts())"
   ]
  },
  {
   "cell_type": "code",
   "execution_count": null,
   "metadata": {
    "colab": {
     "base_uri": "https://localhost:8080/"
    },
    "id": "rPO6bCM_QYVb",
    "outputId": "529200b1-22e4-4484-ca1d-52468db0b552"
   },
   "outputs": [],
   "source": [
    "print(list(count.groupby(['VISIT_AREA_NM'])['VISIT_AREA_NM'].count()))"
   ]
  },
  {
   "cell_type": "code",
   "execution_count": null,
   "metadata": {
    "id": "CmVrFwnYQYVc"
   },
   "outputs": [],
   "source": [
    "Train.reset_index(drop = True, inplace= True)\n",
    "#5번 이상 방문한 곳으로만 필터링\n",
    "count = pd.DataFrame(Train['VISIT_AREA_NM'].value_counts())\n",
    "count['places'] = count.index\n",
    "### 여기 숫자 변경\n",
    "five_places = list(count[count['VISIT_AREA_NM']>=5]['places']) \n",
    "###\n",
    "for i in range(len(Train)):\n",
    "    if Train['VISIT_AREA_NM'][i] not in five_places:\n",
    "        Train = Train.drop([i], axis = 0)\n",
    "Train.reset_index(drop = True, inplace = True)"
   ]
  },
  {
   "cell_type": "code",
   "execution_count": null,
   "metadata": {
    "colab": {
     "base_uri": "https://localhost:8080/"
    },
    "id": "qzKld5uAQYVc",
    "outputId": "f40a9d1c-53e5-4fb2-b602-321d9c9f2722",
    "scrolled": true
   },
   "outputs": [],
   "source": [
    "#확인\n",
    "count1 = pd.DataFrame(Train['VISIT_AREA_NM'].value_counts())\n",
    "count1.groupby(['VISIT_AREA_NM'])['VISIT_AREA_NM'].count()"
   ]
  },
  {
   "cell_type": "code",
   "execution_count": null,
   "metadata": {
    "colab": {
     "base_uri": "https://localhost:8080/"
    },
    "id": "6v_fPHpiQYVd",
    "outputId": "c0949872-a3cb-4676-cee0-22532a837cd1",
    "scrolled": true
   },
   "outputs": [],
   "source": [
    "Train.shape"
   ]
  },
  {
   "cell_type": "code",
   "execution_count": null,
   "metadata": {
    "colab": {
     "base_uri": "https://localhost:8080/"
    },
    "id": "7BOnHclhQYVe",
    "outputId": "48f5dffc-a061-4831-d8a8-117619eb5d0b"
   },
   "outputs": [],
   "source": [
    "print(Train.shape)\n",
    "print(test.shape)"
   ]
  },
  {
   "cell_type": "markdown",
   "metadata": {
    "id": "5SdnrQA8aQ84"
   },
   "source": [
    "# Catboost 모델 기반 추천시스템 학습"
   ]
  },
  {
   "cell_type": "code",
   "execution_count": null,
   "metadata": {
    "id": "95d6czwhQYVf"
   },
   "outputs": [],
   "source": [
    "#학습에 필요없는 feature 제거\n",
    "Train.drop(['TRAVELER_ID', 'REVISIT_INTENTION',\n",
    "            'RCMDTN_INTENTION','RESIDENCE_TIME_MIN', 'REVISIT_YN'], axis = 1, inplace = True)\n",
    "test.drop(['TRAVELER_ID', 'REVISIT_INTENTION',\n",
    "            'RCMDTN_INTENTION','RESIDENCE_TIME_MIN', 'REVISIT_YN'], axis = 1, inplace = True)"
   ]
  },
  {
   "cell_type": "code",
   "execution_count": null,
   "metadata": {
    "id": "NkI_aGyPQYVh"
   },
   "outputs": [],
   "source": [
    "# 데이터 타입 변경\n",
    "Train['VISIT_AREA_TYPE_CD'] = Train['VISIT_AREA_TYPE_CD'].astype('string')\n",
    "test['VISIT_AREA_TYPE_CD'] = test['VISIT_AREA_TYPE_CD'].astype('string')"
   ]
  },
  {
   "cell_type": "code",
   "execution_count": null,
   "metadata": {
    "id": "IImI0a_uQYVh"
   },
   "outputs": [],
   "source": [
    "y_train = Train['DGSTFN']\n",
    "X_train = Train.drop(['DGSTFN'], axis = 1)"
   ]
  },
  {
   "cell_type": "markdown",
   "metadata": {
    "id": "h5IIPl47m9N4"
   },
   "source": [
    "train set의 feature, target, cv 개수를 입력하면 cross validaiton set을 생성해주는 함수 생성\n",
    "\n",
    "최대한 많은 관광지 정보를 보존하기 위해 cv = 10 으로 설정"
   ]
  },
  {
   "cell_type": "code",
   "execution_count": null,
   "metadata": {},
   "outputs": [],
   "source": [
    "def cross_validation(X_train, y_train, cv, iteration,number, random_state): #X_train 데이터, y_train 데이터, cv 개수, random search 횟수, random_state\n",
    "\n",
    "    X_train1 = X_train #변수 옮기기\n",
    "    y_train1 = y_train #변수 옮기기\n",
    "    for i in range(cv): #각 fold마다의 X_train, y_train 생성 (Train_1, Train_2, ... / target_1, target_2, ...)\n",
    "        globals()['Train_'+str(i+1)] = pd.DataFrame(columns = list(X_train.columns))\n",
    "        globals()['target_'+str(i+1)] = []\n",
    "    print(str(cv)+'개의 fold를 생성중입니다.....')\n",
    "    for i in tqdm(range(cv)):\n",
    "        np.random.seed(random_state) #초기 시드 설정\n",
    "        while (len(globals()['Train_'+str(i+1)]) / len(X_train)) < (1/cv): #1/cv 비율 만큼의 데이터가 모일 때까지\n",
    "            random_number = np.random.randint(len(X_train1))\n",
    "            df_id = X_train1.iloc[[random_number]]\n",
    "            index = df_id.iloc[0,0] #랜덤하게 유저를 선택하고\n",
    "            df1 = X_train1[X_train1['TRAVEL_ID'] == index] #그 유저가 갔던 모든 여행지 불러오고\n",
    "            target_index = X_train1[X_train1['TRAVEL_ID'] == index].index\n",
    "            X_train1 = pd.merge(df1, X_train1, how = 'outer', indicator = True)\n",
    "            X_train1 = X_train1.query('_merge ==\"right_only\"').drop(columns = ['_merge']) #기존 데이터프레임은 해당 유저 정보 삭제\n",
    "            globals()['Train_'+str(i+1)] = globals()['Train_'+str(i+1)].append(df1) #validation set에 유저의 X_train 삽입\n",
    "            globals()['target_'+str(i+1)].extend(list(y_train[list(target_index)])) #유저의 X_train에 상응하는 y_train 삽입\n",
    "            if len(X_train1) == 0: #기존 데이터프레임에 모든 유저정보가 사라지면 validation set 생성이 완료된 것이므로 정지\n",
    "                break\n",
    "    print(str(cv)+'개의 fold 생성이 완료되었습니다!')\n",
    "    print('함수에서 설정한 초모수 범위 내에서 ' + str(cv)+'개의 validation 검정을 진행합니다...' )\n",
    "    \n",
    "    \n",
    "    np.random.seed(random_state)\n",
    "    initial = 0 \n",
    "    for a in tqdm(range(iteration)):\n",
    "        print(str(a+1) + \"번째 초모수 조절치에 대한 학습을 진행합니다....\")\n",
    "        ##########여기에 원하는 hyperparameter 기입###########\n",
    "        ######################################################\n",
    "        n_estimators = np.random.choice(np.arange(700, 1301, 50))\n",
    "        max_depth = np.random.choice(np.arange(5, 11, 1))\n",
    "        subsample = np.random.choice(np.arange(0.75, 1.0001, 0.05))\n",
    "        colsample_bylevel = np.random.choice(np.arange(0.8, 1.0001, 0.05))\n",
    "        ######################################################\n",
    "######################################################\n",
    "        final_recall = [] # K개의 검증 성능이 들어갈 리스트\n",
    "\n",
    "        for j in range(cv): #K개 fold중\n",
    "            print(str(a+1) + '번째 초모수 조절치의' + str(j+1)+'번째 fold를 학습하고 있습니다....')\n",
    "            #한 fold에 대해서 학습\n",
    "            combine_df_list = list(range(1, (cv+1))) # 1부터 cv까지 숫자리스트 만들어서\n",
    "            del combine_df_list[j] #숫자 하나를 지우고, 그 숫자가 있는 Train set을 Validation set으로 설정\n",
    "            #예를 들어 1이 빠졌으면 Train_1이 validation set, Train_2, Train_3, ... 는 Train set\n",
    "            X_new_train = pd.DataFrame(columns = list(globals()['Train_'+str(j+1)].columns))\n",
    "            y_new_train = []\n",
    "            for i in combine_df_list: #지운 숫자 외의 숫자가 있는 Train set들을 결합\n",
    "                X_new_train = pd.concat([X_new_train, globals()['Train_'+str(i)]], axis = 0) #X_train 결합\n",
    "                y_new_train.extend(globals()['target_'+str(i)]) #y_train 결합\n",
    "            y_new_train = np.array(y_new_train).astype(np.float)\n",
    "            X_new_train.drop(['TRAVEL_ID'], axis = 1, inplace = True) #필요 없는 컬럼 제거\n",
    "            if 'DGSTFN' in list(X_new_train.columns): #global 함수에서 발생하는 오류 해결\n",
    "                X_new_train.drop(['DGSTFN'], axis = 1, inplace = True)\n",
    "            model = CatBoostRegressor(n_estimators = n_estimators,\n",
    "                                  max_depth = max_depth,\n",
    "                                  subsample = subsample,\n",
    "                                  colsample_bylevel = colsample_bylevel,\n",
    "                                  cat_features = ['VISIT_AREA_NM', 'SIDO', 'GUNGU','VISIT_AREA_TYPE_CD',\n",
    "                                              'TRAVEL_MISSION_PRIORITY', 'AGE_GRP', 'GENDER'], \n",
    "                                  random_state = 42)\n",
    "        ##############################################################################################\n",
    "\n",
    "            model.fit(X_new_train, y_new_train) #########모델 적합\n",
    "\n",
    "            #학습한 fold에 대한 test 값 도출\n",
    "            recall_10_list = [] #validation set의 recall 측정값들이 들어갈 리스트\n",
    "            #####################유저 정보##################################\n",
    "            data = globals()['Train_'+str(j+1)][['TRAVEL_ID', 'SIDO', 'GUNGU', 'TRAVEL_MISSION_PRIORITY', 'GENDER', 'AGE_GRP', 'INCOME',\n",
    "                                    'TRAVEL_STYL_1', 'TRAVEL_STYL_2', 'TRAVEL_STYL_3', 'TRAVEL_STYL_4',\n",
    "                                    'TRAVEL_STYL_5', 'TRAVEL_STYL_6', 'TRAVEL_STYL_7', 'TRAVEL_STYL_8',\n",
    "                                    'TRAVEL_MOTIVE_1', 'TRAVEL_NUM', 'TRAVEL_COMPANIONS_NUM']]\n",
    "            data1 = pd.DataFrame(columns=['TRAVEL_ID', 'TRAVEL_MISSION_PRIORITY', 'GENDER', 'AGE_GRP', 'INCOME',\n",
    "                                    'TRAVEL_STYL_1', 'TRAVEL_STYL_2', 'TRAVEL_STYL_3', 'TRAVEL_STYL_4',\n",
    "                                    'TRAVEL_STYL_5', 'TRAVEL_STYL_6', 'TRAVEL_STYL_7', 'TRAVEL_STYL_8',\n",
    "                                    'TRAVEL_MOTIVE_1', 'TRAVEL_NUM', 'TRAVEL_COMPANIONS_NUM', 'sido_gungu_list'])\n",
    "            for i in list(data['TRAVEL_ID'].unique()):\n",
    "                temp_df = data[data['TRAVEL_ID'] == i]\n",
    "                temp_df1 = temp_df[['SIDO', 'GUNGU']] #각 유저별 방문한 시군구 확인\n",
    "                temp_df1.reset_index(drop = True, inplace = True)\n",
    "                sido_gungu_visit = []\n",
    "                for k in range(len(temp_df1)):\n",
    "                    sido_gungu_visit.append(temp_df1['SIDO'][k] + '+' + temp_df1['GUNGU'][k])\n",
    "                sido_gungu_list = list(set(sido_gungu_visit))\n",
    "                new = temp_df.drop(['SIDO', 'GUNGU'], axis = 1) #기존 시도, 군구 제외하고\n",
    "                new = new.head(1)\n",
    "                new['sido_gungu_list'] = str(sido_gungu_list)\n",
    "                data1 = pd.concat([data1, new], axis = 0) #새로운 데이터프레임 생성 \n",
    "            data1.reset_index(drop = True, inplace = True)\n",
    "            ##########################여행지 정보################################\n",
    "            info = X_new_train[['SIDO', 'VISIT_AREA_NM', 'GUNGU','VISIT_AREA_TYPE_CD','RESIDENCE_TIME_MIN_mean', 'RCMDTN_INTENTION_mean',\n",
    "            'REVISIT_YN_mean', 'TRAVEL_COMPANIONS_NUM_mean', 'REVISIT_INTENTION_mean']]\n",
    "            info.drop_duplicates(['VISIT_AREA_NM'], inplace = True)\n",
    "            ###### 2회 이상 관광한 방문지 리스트 생성\n",
    "            visiting_list = X_new_train[['VISIT_AREA_NM']] #train set에 있는 방문지에 대해서만 2회 이상 방문하였는지 확인\n",
    "            visiting_list.reset_index(drop = True, inplace = True)\n",
    "            #데이터 전처리\n",
    "            dfdf = pd.DataFrame(visiting_list.value_counts(), columns = ['count'])\n",
    "            dfdf['VISIT_AREA_NM'] = dfdf.index\n",
    "            dfdf.reset_index(drop = True, inplace = True)\n",
    "            for i in range(len(dfdf)):\n",
    "                dfdf['VISIT_AREA_NM'][i] = str(dfdf['VISIT_AREA_NM'][i])\n",
    "                dfdf['VISIT_AREA_NM'][i] = dfdf['VISIT_AREA_NM'][i].replace(\"(\",\"\").replace(\")\",\"\").replace(\",\",\"\").replace(\"\\''\",\"\")\n",
    "                dfdf['VISIT_AREA_NM'][i] = dfdf['VISIT_AREA_NM'][i][1:-1]\n",
    "            #n회 이상 적용\n",
    "            dfdf = dfdf[dfdf['count'] >= number] \n",
    "            visit_list = list(dfdf['VISIT_AREA_NM']) #visit_list에 2회 이상 방문지 리스트\n",
    "            #방문지가 2회 이상 방문한 관광지 아니면 제거\n",
    "            info.reset_index(drop = True, inplace = True)\n",
    "            for i in range(len(info)):\n",
    "                if info['VISIT_AREA_NM'][i] not in visit_list:\n",
    "                    info = info.drop([i], axis = 0)\n",
    "            info.reset_index(drop = True, inplace = True)\n",
    "            ##########################모델 10개 관광지 추천############################\n",
    "            result = []\n",
    "            for i in range(len(data1)):\n",
    "                #데이터\n",
    "\n",
    "                final_df = pd.DataFrame(columns = ['VISIT_AREA_NM', 'SIDO', 'GUNGU', 'VISIT_AREA_TYPE_CD',\n",
    "                       'TRAVEL_MISSION_PRIORITY', 'GENDER', 'AGE_GRP', 'INCOME',\n",
    "                       'TRAVEL_STYL_1', 'TRAVEL_STYL_2', 'TRAVEL_STYL_3', 'TRAVEL_STYL_4',\n",
    "                       'TRAVEL_STYL_5', 'TRAVEL_STYL_6', 'TRAVEL_STYL_7', 'TRAVEL_STYL_8',\n",
    "                       'TRAVEL_MOTIVE_1', 'TRAVEL_NUM', 'TRAVEL_COMPANIONS_NUM',\n",
    "                       'RESIDENCE_TIME_MIN_mean', 'RCMDTN_INTENTION_mean', 'REVISIT_YN_mean',\n",
    "                       'TRAVEL_COMPANIONS_NUM_mean', 'REVISIT_INTENTION_mean']) #빈 데이터프레임에 내용 추가\n",
    "                ####### 시/도 군/구 별 자료 수집\n",
    "                temp = data1['sido_gungu_list'][i].replace(\"[\",\"\").replace(\"]\",\"\").replace(\"\\'\",\"\").replace(\", \",\",\")\n",
    "                places_list = list(map(str, temp.split(\",\")))\n",
    "                for q in places_list:\n",
    "                    sido, gungu = map(str, q.split(\"+\"))\n",
    "\n",
    "                    info_df = info[(info['SIDO'] == sido) & (info['GUNGU'] == gungu)] \n",
    "\n",
    "                    info_df.drop(['SIDO'], inplace = True, axis = 1)\n",
    "                    info_df.reset_index(inplace = True, drop = True)\n",
    "                    data2 = data1.drop(['sido_gungu_list'], axis =1)\n",
    "                    user_df = pd.DataFrame([data2.iloc[i].to_list()]*len(info_df), columns = ['SIDO', 'TRAVEL_MISSION_PRIORITY', 'GENDER', 'AGE_GRP', 'INCOME',\n",
    "                                        'TRAVEL_STYL_1', 'TRAVEL_STYL_2', 'TRAVEL_STYL_3', 'TRAVEL_STYL_4',\n",
    "                                        'TRAVEL_STYL_5', 'TRAVEL_STYL_6', 'TRAVEL_STYL_7', 'TRAVEL_STYL_8',\n",
    "                                        'TRAVEL_MOTIVE_1', 'TRAVEL_NUM', 'TRAVEL_COMPANIONS_NUM'])\n",
    "                    df = pd.concat([user_df, info_df], axis = 1)\n",
    "                    df = df[['VISIT_AREA_NM', 'SIDO', 'GUNGU', 'VISIT_AREA_TYPE_CD',\n",
    "                   'TRAVEL_MISSION_PRIORITY', 'GENDER', 'AGE_GRP', 'INCOME',\n",
    "                   'TRAVEL_STYL_1', 'TRAVEL_STYL_2', 'TRAVEL_STYL_3', 'TRAVEL_STYL_4',\n",
    "                   'TRAVEL_STYL_5', 'TRAVEL_STYL_6', 'TRAVEL_STYL_7', 'TRAVEL_STYL_8',\n",
    "                   'TRAVEL_MOTIVE_1', 'TRAVEL_NUM', 'TRAVEL_COMPANIONS_NUM',\n",
    "                   'RESIDENCE_TIME_MIN_mean', 'RCMDTN_INTENTION_mean', 'REVISIT_YN_mean',\n",
    "                   'TRAVEL_COMPANIONS_NUM_mean', 'REVISIT_INTENTION_mean']] # 변수정렬\n",
    "                    df['VISIT_AREA_TYPE_CD'] = df['VISIT_AREA_TYPE_CD'].astype('string')\n",
    "                    final_df = pd.concat([final_df, df], axis = 0)\n",
    "                final_df.reset_index(drop = True, inplace = True)\n",
    "                final_df.drop_duplicates(['VISIT_AREA_NM'], inplace = True)\n",
    "\n",
    "                #모델 예측\n",
    "                y_pred = model.predict(final_df)\n",
    "                y_pred = pd.DataFrame(y_pred, columns = ['y_pred'])\n",
    "                test_df1 = pd.concat([final_df, y_pred], axis = 1)\n",
    "                test_df1.sort_values(by = ['y_pred'], axis = 0, ascending=False, inplace = True) # 예측치가 높은 순대로 정렬\n",
    "\n",
    "                test_df1 = test_df1.iloc[0:10,] #상위 10개 관광지 추천\n",
    "\n",
    "                visiting_candidates = list(test_df1['VISIT_AREA_NM']) # 모델이 추천한 관광지들을 리스트 형태로 변환\n",
    "\n",
    "               # 유저정보와 추천 관광지\n",
    "                test_df2 = test_df1[['SIDO','TRAVEL_MISSION_PRIORITY', 'GENDER', 'AGE_GRP', 'INCOME',\n",
    "                                    'TRAVEL_STYL_1', 'TRAVEL_STYL_2', 'TRAVEL_STYL_3', 'TRAVEL_STYL_4',\n",
    "                                    'TRAVEL_STYL_5', 'TRAVEL_STYL_6', 'TRAVEL_STYL_7', 'TRAVEL_STYL_8',\n",
    "                                    'TRAVEL_MOTIVE_1', 'TRAVEL_NUM', 'TRAVEL_COMPANIONS_NUM']]\n",
    "                if len(test_df2) == 0:\n",
    "                    rec = []\n",
    "                    result.append(rec)\n",
    "                else:\n",
    "\n",
    "                    rec = test_df2.iloc[0].to_list()\n",
    "\n",
    "                    rec.append(visiting_candidates)\n",
    "\n",
    "                    result.append(rec)\n",
    "            final_df = pd.DataFrame(result,\n",
    "                                columns = ['SIDO', 'TRAVEL_MISSION_PRIORITY', 'GENDER', 'AGE_GRP', 'INCOME',\n",
    "                                'TRAVEL_STYL_1', 'TRAVEL_STYL_2', 'TRAVEL_STYL_3', 'TRAVEL_STYL_4',\n",
    "                                'TRAVEL_STYL_5', 'TRAVEL_STYL_6', 'TRAVEL_STYL_7', 'TRAVEL_STYL_8',\n",
    "                                'TRAVEL_MOTIVE_1', 'TRAVEL_NUM', 'TRAVEL_COMPANIONS_NUM', 'recommend_result_place'])\n",
    "            final_df = final_df[['recommend_result_place']]\n",
    "            travel_id = data1[['TRAVEL_ID']]\n",
    "            travel_id.reset_index(drop = True, inplace = True)\n",
    "            final_df = pd.concat([travel_id, final_df], axis = 1)\n",
    "\n",
    "            #추천지 10개 미만인 여행 ID확인\n",
    "            travel_id_list = []\n",
    "            for i in range(len(final_df)):\n",
    "                recommend_list = final_df['recommend_result_place'][i]\n",
    "                if str(recommend_list).count(',') < 9:\n",
    "                    travel_id_list.append(final_df['TRAVEL_ID'][i])\n",
    "                if pd.isna(str(recommend_list)):\n",
    "                    travel_id_list.append(final_df['TRAVEL_ID'][i])\n",
    "            ## 군구 리스트\n",
    "            places = list(set(globals()['Train_'+str(j+1)]['GUNGU']))\n",
    "            for i in range(len(places)):\n",
    "                if places[i][-1] == '구' or places[i][-1] == '시' or places[i][-1] == '군':\n",
    "                    places[i] = places[i][:-1]\n",
    "\n",
    "            ###############################################################\n",
    "            ######## 최종 성능 평가 #########################################\n",
    "            #########################################################\n",
    "            visit_list = list(info['VISIT_AREA_NM'])\n",
    "            globals()['Train_'+str(j+1)]['DGSTFN'] = globals()['target_'+str(j+1)]\n",
    "\n",
    "\n",
    "\n",
    "            for i in list(globals()['Train_'+str(j+1)]['TRAVEL_ID'].unique()):\n",
    "\n",
    "                #추천한 방문지가 10개 미만이면 0\n",
    "                if i in travel_id_list:\n",
    "                    recall_10_list.append(0)\n",
    "                    continue\n",
    "\n",
    "                satisfied = globals()['Train_'+str(j+1)][globals()['Train_'+str(j+1)]['TRAVEL_ID'] == i] #실제(y_actual) 관광객이 만족한 관광지\n",
    "                satisfied.reset_index(drop = True, inplace = True) \n",
    "\n",
    "\n",
    "                satisfied1 = satisfied[satisfied['DGSTFN'] >=4 ] #만족의 기준은 4이상 일때만 만족이라고 정의\n",
    "                if len(satisfied1) == 0: # 유저가 만족한 관광지가 하나도 없으면 recall@10은 어차피 0\n",
    "                    recall_10_list.append(0)\n",
    "                    continue\n",
    "                else:\n",
    "                    item_list = satisfied1['VISIT_AREA_NM']\n",
    "\n",
    "\n",
    "                item_list = list(set(item_list))\n",
    "\n",
    "\n",
    "            #final_df의 추천지 10개랑 비교\n",
    "\n",
    "                recommend_list = final_df[final_df['TRAVEL_ID'] == i]['recommend_result_place'] #모델 추천 관광지 30개\n",
    "\n",
    "                summ = 0\n",
    "                for n in item_list:\n",
    "                    word_list = list(n.split(' '))\n",
    "                    if word_list[-1][-1] == '점': #지점명 삭제\n",
    "                        del word_list[-1]\n",
    "                    for o in word_list:\n",
    "                        if o in places:#장소에 군/구 명 있으면 아무것도 하지 않고 스킵\n",
    "                            pass\n",
    "                        else:\n",
    "                            for p in recommend_list: #장소에 교차어 있으면 해당 장소는 방문했다고 인식하기\n",
    "                                if o in str(p) :\n",
    "                                    summ += 1\n",
    "                recall10_for_1user = summ / min(10, len(satisfied1)) #recall@10 산식\n",
    "                if recall10_for_1user > 1:\n",
    "                    recall10_for_1user = 1\n",
    "                recall_10_list.append(recall10_for_1user)\n",
    "            globals()['Train_'+str(j+1)].drop(['DGSTFN'], axis = 1, inplace = True) #globals 함수 오류 해결하기 위한 코드\n",
    "            \n",
    "            recall_for_one_cv = sum(recall_10_list) / len(recall_10_list) #한 fold에 대한 recall@10값 추출\n",
    "                \n",
    "            final_recall.append(recall_for_one_cv)\n",
    "\n",
    "        recallat10 = sum(final_recall) / len(final_recall)\n",
    "        print('이번 결과는:', recallat10)\n",
    "        ###################### hyperparameter 바꾸면 여기도 수정해야 ######################\n",
    "        ###################################################################################\n",
    "        print('이번 결과의 parameter은: ', 'n_estimators:', n_estimators, 'max_depth:', max_depth, \n",
    "                  'subsample:', subsample, 'colsample_bylevel:', colsample_bylevel)\n",
    "        if recallat10 > initial:\n",
    "            initial = recallat10\n",
    "            print('신기록!:', initial)\n",
    "            print('n_estimators:', n_estimators, 'max_depth:', max_depth, \n",
    "                  'subsample:', subsample, 'colsample_bylevel:', colsample_bylevel)\n",
    "            final_estimator = n_estimators\n",
    "            final_max_depth = max_depth\n",
    "            final_subsample = subsample\n",
    "            final_colsample_bylevel = colsample_bylevel\n",
    "         #####################################################################################\n",
    "    print('최종 parameter은 :',  final_estimator, 'max_depth:', final_max_depth, \n",
    "                  'subsample:', final_subsample, 'colsample_bylevel:', final_colsample_bylevel)\n",
    "    return(initial)"
   ]
  },
  {
   "cell_type": "code",
   "execution_count": null,
   "metadata": {
    "colab": {
     "base_uri": "https://localhost:8080/"
    },
    "id": "YVTesaO4QYVm",
    "outputId": "dee2b099-7cfb-44c8-e969-e9fd52c56960",
    "scrolled": true
   },
   "outputs": [],
   "source": [
    "#초모수 조절\n",
    "cross_validation(X_train, y_train, cv = 10, iteration = 10, number = 5, random_state = 42)"
   ]
  },
  {
   "cell_type": "markdown",
   "metadata": {
    "id": "HpNrQwRbaQ86"
   },
   "source": [
    "## Catboost 적합"
   ]
  },
  {
   "cell_type": "markdown",
   "metadata": {
    "id": "frJbbfR2aQ86"
   },
   "source": [
    "범주형 변수 목록\n",
    "\n",
    "VISIT_AREA_NM 방문지\n",
    "\n",
    "SIDO 시도\n",
    "\n",
    "GUNGU 군구\n",
    "\n",
    "VISIT_AREA_CD 관광지 종류 코드\n",
    "\n",
    "TRAVEL_MISSION_PRIORITY 유저가 설정한 본인의 미션 중 첫번째\n",
    "\n",
    "AGE_GRP 연령대\n",
    "\n",
    "GENDER 성별"
   ]
  },
  {
   "cell_type": "code",
   "execution_count": null,
   "metadata": {
    "id": "zljrwcClQYVp"
   },
   "outputs": [],
   "source": [
    "y_train = Train['DGSTFN']\n",
    "X_train = Train.drop(['DGSTFN', 'TRAVEL_ID'], axis = 1)"
   ]
  },
  {
   "cell_type": "code",
   "execution_count": null,
   "metadata": {
    "colab": {
     "base_uri": "https://localhost:8080/"
    },
    "id": "WUM8jN7sQYVp",
    "outputId": "752da460-c625-4308-e037-1cd14aec86e0",
    "scrolled": true
   },
   "outputs": [],
   "source": [
    "model = CatBoostRegressor(n_estimators = 1150, max_depth = 10, subsample = 0.9500000000000002, \n",
    "                          colsample_bylevel = 0.9500000000000002,\n",
    "    cat_features = ['VISIT_AREA_NM', 'SIDO', 'GUNGU','VISIT_AREA_TYPE_CD',\n",
    "                                                  'TRAVEL_MISSION_PRIORITY', 'AGE_GRP', 'GENDER'], random_state = 42)\n",
    "model.fit(X_train, y_train)"
   ]
  },
  {
   "cell_type": "code",
   "execution_count": null,
   "metadata": {
    "colab": {
     "base_uri": "https://localhost:8080/"
    },
    "id": "hsMKl5wJQYVp",
    "outputId": "195cb865-22aa-461c-f666-cb8cce6211f0"
   },
   "outputs": [],
   "source": [
    "now = time\n",
    "print(now.strftime('%Y-%m-%d %H:%M:%S'))"
   ]
  },
  {
   "cell_type": "code",
   "execution_count": null,
   "metadata": {
    "colab": {
     "base_uri": "https://localhost:8080/"
    },
    "id": "hODd53gfQYVq",
    "outputId": "6cbf2d3b-8073-485d-fe1c-4a4497897fb2"
   },
   "outputs": [],
   "source": [
    "joblib.dump(model,path + '/catboost_model_B.pkl')"
   ]
  },
  {
   "cell_type": "code",
   "execution_count": null,
   "metadata": {
    "id": "nWM8FQaMQYVq"
   },
   "outputs": [],
   "source": [
    "modelb = joblib.load(path + '/catboost_model_B.pkl')\n",
    "testb = pd.read_csv(path + '/관광지 추천시스템 Testset_B.csv')\n",
    "trainb = pd.read_csv(path + '/관광지 추천시스템 Trainset_B.csv')"
   ]
  },
  {
   "cell_type": "markdown",
   "metadata": {
    "id": "jsHZ5VmzQYVr"
   },
   "source": [
    "# Test B"
   ]
  },
  {
   "cell_type": "markdown",
   "metadata": {
    "id": "nP6gdZxyQYVr"
   },
   "source": [
    "## 모델의 10개 관광지 후보 불러오기"
   ]
  },
  {
   "cell_type": "markdown",
   "metadata": {
    "id": "PIr68HSVQYVr"
   },
   "source": [
    "### 유저 정보"
   ]
  },
  {
   "cell_type": "code",
   "execution_count": null,
   "metadata": {
    "id": "0y8GQj5yQYVr"
   },
   "outputs": [],
   "source": [
    "y_testb = testb['DGSTFN']\n",
    "X_testb = testb.drop(['DGSTFN'], axis = 1)"
   ]
  },
  {
   "cell_type": "code",
   "execution_count": null,
   "metadata": {
    "id": "QJW8rnspQYVs"
   },
   "outputs": [],
   "source": [
    "#유저정보\n",
    "data = testb[['TRAVEL_ID', 'SIDO', 'GUNGU', 'TRAVEL_MISSION_PRIORITY', 'GENDER', 'AGE_GRP', 'INCOME',\n",
    "                            'TRAVEL_STYL_1', 'TRAVEL_STYL_2', 'TRAVEL_STYL_3', 'TRAVEL_STYL_4',\n",
    "                            'TRAVEL_STYL_5', 'TRAVEL_STYL_6', 'TRAVEL_STYL_7', 'TRAVEL_STYL_8',\n",
    "                            'TRAVEL_MOTIVE_1', 'TRAVEL_NUM', 'TRAVEL_COMPANIONS_NUM']]"
   ]
  },
  {
   "cell_type": "code",
   "execution_count": null,
   "metadata": {
    "colab": {
     "base_uri": "https://localhost:8080/"
    },
    "id": "QXZYm-lPQYVs",
    "outputId": "e8ef6038-062c-456d-c785-a6754dcef7c8"
   },
   "outputs": [],
   "source": [
    "#내가 간 시도 군구 리스트:\n",
    "data1 = pd.DataFrame(columns=['TRAVEL_ID', 'TRAVEL_MISSION_PRIORITY', 'GENDER', 'AGE_GRP', 'INCOME',\n",
    "                            'TRAVEL_STYL_1', 'TRAVEL_STYL_2', 'TRAVEL_STYL_3', 'TRAVEL_STYL_4',\n",
    "                            'TRAVEL_STYL_5', 'TRAVEL_STYL_6', 'TRAVEL_STYL_7', 'TRAVEL_STYL_8',\n",
    "                            'TRAVEL_MOTIVE_1', 'TRAVEL_NUM', 'TRAVEL_COMPANIONS_NUM', 'sido_gungu_list'])\n",
    "for i in tqdm(list(data['TRAVEL_ID'].unique())):\n",
    "    temp_df = data[data['TRAVEL_ID'] == i]\n",
    "    temp_df1 = temp_df[['SIDO', 'GUNGU']] #각 유저별 방문한 시군구 확인\n",
    "    temp_df1.reset_index(drop = True, inplace = True)\n",
    "    sido_gungu_visit = []\n",
    "    for j in range(len(temp_df1)):\n",
    "        sido_gungu_visit.append(temp_df1['SIDO'][j] + '+' + temp_df1['GUNGU'][j])\n",
    "    sido_gungu_list = list(set(sido_gungu_visit))\n",
    "    new = temp_df.drop(['SIDO', 'GUNGU'], axis = 1) #기존 시도, 군구 제외하고\n",
    "    new = new.head(1)\n",
    "    new['sido_gungu_list'] = str(sido_gungu_list)\n",
    "    data1 = pd.concat([data1, new], axis = 0) #새로운 데이터프레임 생성        \n",
    "    "
   ]
  },
  {
   "cell_type": "code",
   "execution_count": null,
   "metadata": {
    "id": "DdWPlBm2QYVs"
   },
   "outputs": [],
   "source": [
    "#유저 정보 저장\n",
    "data1.reset_index(drop = True, inplace = True)\n",
    "data1.to_csv(path + '/관광지 추천시스템 Testset_B- 유저 정보.csv', index=False)"
   ]
  },
  {
   "cell_type": "markdown",
   "metadata": {
    "id": "GnT9NOH-QYVt"
   },
   "source": [
    "### 여행지 정보"
   ]
  },
  {
   "cell_type": "code",
   "execution_count": null,
   "metadata": {
    "id": "jqBtblsDQYVt"
   },
   "outputs": [],
   "source": [
    "#여행지 정보\n",
    "info = trainb[['SIDO', 'VISIT_AREA_NM', 'GUNGU','VISIT_AREA_TYPE_CD','RESIDENCE_TIME_MIN_mean', 'RCMDTN_INTENTION_mean',\n",
    "            'REVISIT_YN_mean', 'TRAVEL_COMPANIONS_NUM_mean', 'REVISIT_INTENTION_mean']]\n",
    "info.drop_duplicates(['VISIT_AREA_NM'], inplace = True)"
   ]
  },
  {
   "cell_type": "markdown",
   "metadata": {
    "id": "HuhT2XeWQYVt"
   },
   "source": [
    "2회 이상 방문지 리스트 뽑아서 여행지 정보에 없는 것 제거"
   ]
  },
  {
   "cell_type": "code",
   "execution_count": null,
   "metadata": {
    "colab": {
     "base_uri": "https://localhost:8080/",
     "height": 396
    },
    "id": "UbPX2_0ZQYVu",
    "outputId": "380fe764-c606-4564-c44b-a1417c8e22b5"
   },
   "outputs": [],
   "source": [
    "###### 2회 이상 관광한 방문지 리스트 생성\n",
    "visiting_list = trainb[['VISIT_AREA_NM']] #train set에 있는 방문지에 대해서만 2회 이상 방문하였는지 확인\n",
    "visiting_list.reset_index(drop = True, inplace = True)\n",
    "#데이터 전처리\n",
    "dfdf = pd.DataFrame(visiting_list.value_counts(), columns = ['count'])\n",
    "dfdf['VISIT_AREA_NM'] = dfdf.index\n",
    "dfdf.reset_index(drop = True, inplace = True)\n",
    "for i in range(len(dfdf)):\n",
    "    dfdf['VISIT_AREA_NM'][i] = str(dfdf['VISIT_AREA_NM'][i])\n",
    "    dfdf['VISIT_AREA_NM'][i] = dfdf['VISIT_AREA_NM'][i].replace(\"(\",\"\").replace(\")\",\"\").replace(\",\",\"\").replace(\"\\''\",\"\")\n",
    "    dfdf['VISIT_AREA_NM'][i] = dfdf['VISIT_AREA_NM'][i][1:-1]\n",
    "#5회 이상 적용\n",
    "dfdf = dfdf[dfdf['count'] >= 5]  \n",
    "visit_list = list(dfdf['VISIT_AREA_NM']) #visit_list에 5회 이상 방문지 리스트"
   ]
  },
  {
   "cell_type": "code",
   "execution_count": null,
   "metadata": {
    "id": "bYItctDkQYVu",
    "outputId": "ec2c9d2e-d3df-4e27-b639-c12b648daf54"
   },
   "outputs": [],
   "source": [
    "#방문지가 5회 이상 방문한 관광지 아니면 제거\n",
    "info.reset_index(drop = True, inplace = True)\n",
    "for i in tqdm(range(len(info))):\n",
    "    if info['VISIT_AREA_NM'][i] not in visit_list:\n",
    "        info = info.drop([i], axis = 0)\n",
    "info.reset_index(drop = True, inplace = True)"
   ]
  },
  {
   "cell_type": "code",
   "execution_count": null,
   "metadata": {
    "id": "ZPYyLNAqQYVu"
   },
   "outputs": [],
   "source": [
    "#여행자 정보 저장\n",
    "info.reset_index(drop = True, inplace = True)\n",
    "info.to_csv(path + '/관광지 추천시스템 Testset_B- 여행지 정보.csv', index=False)"
   ]
  },
  {
   "cell_type": "markdown",
   "metadata": {
    "id": "_-KQXs0xQYVv"
   },
   "source": [
    "### 모델의 10개 추천 관광지 목록 제작 코드"
   ]
  },
  {
   "cell_type": "code",
   "execution_count": null,
   "metadata": {
    "id": "AeKI8H7PQYVv"
   },
   "outputs": [],
   "source": [
    "data = pd.read_csv(path + '/관광지 추천시스템 Testset_B- 유저 정보.csv')\n",
    "info = pd.read_csv(path + '/관광지 추천시스템 Testset_B- 여행지 정보.csv')"
   ]
  },
  {
   "cell_type": "code",
   "execution_count": null,
   "metadata": {
    "id": "QOJNk8JVQYVv",
    "outputId": "ad889af6-607f-4b72-b922-330652518e86"
   },
   "outputs": [],
   "source": [
    "result = []\n",
    "for i in tqdm(range(len(data1))):\n",
    "    #데이터\n",
    "    \n",
    "    final_df = pd.DataFrame(columns = ['VISIT_AREA_NM', 'SIDO', 'GUNGU', 'VISIT_AREA_TYPE_CD',\n",
    "           'TRAVEL_MISSION_PRIORITY', 'GENDER', 'AGE_GRP', 'INCOME',\n",
    "           'TRAVEL_STYL_1', 'TRAVEL_STYL_2', 'TRAVEL_STYL_3', 'TRAVEL_STYL_4',\n",
    "           'TRAVEL_STYL_5', 'TRAVEL_STYL_6', 'TRAVEL_STYL_7', 'TRAVEL_STYL_8',\n",
    "           'TRAVEL_MOTIVE_1', 'TRAVEL_NUM', 'TRAVEL_COMPANIONS_NUM',\n",
    "           'RESIDENCE_TIME_MIN_mean', 'RCMDTN_INTENTION_mean', 'REVISIT_YN_mean',\n",
    "           'TRAVEL_COMPANIONS_NUM_mean', 'REVISIT_INTENTION_mean']) #빈 데이터프레임에 내용 추가\n",
    "    ####### 시/도 군/구 별 자료 수집\n",
    "    temp = data1['sido_gungu_list'][i].replace(\"[\",\"\").replace(\"]\",\"\").replace(\"\\'\",\"\").replace(\", \",\",\")\n",
    "    places_list = list(map(str, temp.split(\",\")))\n",
    "    for q in places_list:\n",
    "        sido, gungu = map(str, q.split(\"+\"))\n",
    "\n",
    "        info_df = info[(info['SIDO'] == sido) & (info['GUNGU'] == gungu)] \n",
    "\n",
    "        info_df.drop(['SIDO'], inplace = True, axis = 1)\n",
    "        info_df.reset_index(inplace = True, drop = True)\n",
    "        data2 = data1.drop(['sido_gungu_list'], axis =1)\n",
    "        user_df = pd.DataFrame([data2.iloc[i].to_list()]*len(info_df), columns = ['SIDO', 'TRAVEL_MISSION_PRIORITY', 'GENDER', 'AGE_GRP', 'INCOME',\n",
    "                            'TRAVEL_STYL_1', 'TRAVEL_STYL_2', 'TRAVEL_STYL_3', 'TRAVEL_STYL_4',\n",
    "                            'TRAVEL_STYL_5', 'TRAVEL_STYL_6', 'TRAVEL_STYL_7', 'TRAVEL_STYL_8',\n",
    "                            'TRAVEL_MOTIVE_1', 'TRAVEL_NUM', 'TRAVEL_COMPANIONS_NUM'])\n",
    "        df = pd.concat([user_df, info_df], axis = 1)\n",
    "        df = df[['VISIT_AREA_NM', 'SIDO', 'GUNGU', 'VISIT_AREA_TYPE_CD',\n",
    "       'TRAVEL_MISSION_PRIORITY', 'GENDER', 'AGE_GRP', 'INCOME',\n",
    "       'TRAVEL_STYL_1', 'TRAVEL_STYL_2', 'TRAVEL_STYL_3', 'TRAVEL_STYL_4',\n",
    "       'TRAVEL_STYL_5', 'TRAVEL_STYL_6', 'TRAVEL_STYL_7', 'TRAVEL_STYL_8',\n",
    "       'TRAVEL_MOTIVE_1', 'TRAVEL_NUM', 'TRAVEL_COMPANIONS_NUM',\n",
    "       'RESIDENCE_TIME_MIN_mean', 'RCMDTN_INTENTION_mean', 'REVISIT_YN_mean',\n",
    "       'TRAVEL_COMPANIONS_NUM_mean', 'REVISIT_INTENTION_mean']] # 변수정렬\n",
    "        df['VISIT_AREA_TYPE_CD'] = df['VISIT_AREA_TYPE_CD'].astype('string')\n",
    "        final_df = pd.concat([final_df, df], axis = 0)\n",
    "    final_df.reset_index(drop = True, inplace = True)\n",
    "    final_df.drop_duplicates(['VISIT_AREA_NM'], inplace = True)\n",
    "\n",
    "    #모델 예측\n",
    "    y_pred = modelb.predict(final_df)\n",
    "    y_pred = pd.DataFrame(y_pred, columns = ['y_pred'])\n",
    "    test_df1 = pd.concat([final_df, y_pred], axis = 1)\n",
    "    test_df1.sort_values(by = ['y_pred'], axis = 0, ascending=False, inplace = True) # 예측치가 높은 순대로 정렬\n",
    "\n",
    "    test_df1 = test_df1.iloc[0:10,] #상위 10개 관광지 추천\n",
    "\n",
    "    visiting_candidates = list(test_df1['VISIT_AREA_NM']) # 모델이 추천한 관광지들을 리스트 형태로 변환\n",
    "\n",
    "# 유저정보와 추천 관광지\n",
    "    test_df2 = test_df1[['SIDO','TRAVEL_MISSION_PRIORITY', 'GENDER', 'AGE_GRP', 'INCOME',\n",
    "                        'TRAVEL_STYL_1', 'TRAVEL_STYL_2', 'TRAVEL_STYL_3', 'TRAVEL_STYL_4',\n",
    "                        'TRAVEL_STYL_5', 'TRAVEL_STYL_6', 'TRAVEL_STYL_7', 'TRAVEL_STYL_8',\n",
    "                        'TRAVEL_MOTIVE_1', 'TRAVEL_NUM', 'TRAVEL_COMPANIONS_NUM']]\n",
    "    if len(test_df2) == 0:\n",
    "        rec = []\n",
    "        result.append(rec)\n",
    "    else:\n",
    "        \n",
    "        rec = test_df2.iloc[0].to_list()\n",
    "\n",
    "        rec.append(visiting_candidates)\n",
    "\n",
    "        result.append(rec)\n",
    "\n"
   ]
  },
  {
   "cell_type": "code",
   "execution_count": null,
   "metadata": {
    "id": "L26kWLwJQYVw"
   },
   "outputs": [],
   "source": [
    "final_df = pd.DataFrame(result,\n",
    "                            columns = ['SIDO', 'TRAVEL_MISSION_PRIORITY', 'GENDER', 'AGE_GRP', 'INCOME',\n",
    "                            'TRAVEL_STYL_1', 'TRAVEL_STYL_2', 'TRAVEL_STYL_3', 'TRAVEL_STYL_4',\n",
    "                            'TRAVEL_STYL_5', 'TRAVEL_STYL_6', 'TRAVEL_STYL_7', 'TRAVEL_STYL_8',\n",
    "                            'TRAVEL_MOTIVE_1', 'TRAVEL_NUM', 'TRAVEL_COMPANIONS_NUM', 'recommend_result_place'])\n",
    "final_df = final_df[['recommend_result_place']]\n",
    "travel_id = data1[['TRAVEL_ID']]\n",
    "travel_id.reset_index(drop = True, inplace = True)\n",
    "final_df = pd.concat([travel_id, final_df], axis = 1)"
   ]
  },
  {
   "cell_type": "code",
   "execution_count": null,
   "metadata": {
    "id": "Q59QpXDeQYVx"
   },
   "outputs": [],
   "source": [
    "#output_df 저장\n",
    "final_df.to_csv(path + '/관광지 추천시스템 Testset- OUTPUT_B.csv', index=False)\n",
    "#output_df 불러오기\n",
    "final_df = pd.read_csv(path + '/관광지 추천시스템 Testset- OUTPUT_B.csv')"
   ]
  },
  {
   "cell_type": "markdown",
   "metadata": {
    "id": "vr42tNg7QYVx"
   },
   "source": [
    "## 실제 유저가 다녀온 관광지랑 비교하여 Recall@10 산출"
   ]
  },
  {
   "cell_type": "code",
   "execution_count": null,
   "metadata": {
    "id": "qwils2KAQYVx",
    "outputId": "6434e284-2056-4e32-bb88-c7ce56d78334"
   },
   "outputs": [],
   "source": [
    "final_df"
   ]
  },
  {
   "cell_type": "code",
   "execution_count": null,
   "metadata": {
    "id": "sXzrbe1zQYVy",
    "outputId": "ae27b20e-8bf8-429f-b991-f3d9abe46048"
   },
   "outputs": [],
   "source": [
    "#추천지 10개 미만인 여행 ID확인\n",
    "travel_id_list = []\n",
    "for i in tqdm(range(len(final_df))):\n",
    "    recommend_list = final_df['recommend_result_place'][i]\n",
    "    if pd.isna(recommend_list):\n",
    "        travel_id_list.append(final_df['TRAVEL_ID'][i])\n",
    "        continue\n",
    "    if recommend_list.count(',') < 9:\n",
    "        travel_id_list.append(final_df['TRAVEL_ID'][i])"
   ]
  },
  {
   "cell_type": "code",
   "execution_count": null,
   "metadata": {
    "id": "Sh9Y_88vQYVy"
   },
   "outputs": [],
   "source": [
    "#군/군 리스트 출력\n",
    "## 이 부분 해결 하기 위해서 군/구 목록 places라는 변수에 뽑아오기\n",
    "'''\n",
    "4. 성능을 올리기 위해 다음과 같은 추가 방법 도입:\n",
    "- 아무래도 사람이 수기로 데이터를 입력하다 보니까 유사/동일 장소를 갔음에도 컴퓨터는 다른 장소로 인식 \n",
    "    -ex1: ’파라다이스시티‘와 ’파라다이스시티 주차장‘을 다른 장소로 인식\n",
    "    -ex2: ‘국립중앙박물관 특별전시관’과 ‘국립중앙박물관’을 다른 장소로 인식\n",
    "- 그러므로 ‘모델이 추천한 추천지 10개’와 ‘유저가 만족한다고 했던 곳’을 단어 별로 쪼개서 공통어가 있으면 교집합 개수에 추가\n",
    "    -ex1: ‘파라다이스시티’와 ‘파라다이스시티 주차장’은 ‘파라다이스시티’라는 공통어가 있으므로 교집합 개수에 추가\n",
    "    -ex2: ‘국립중앙박물관 특별전시관’과 ‘국립중앙박물관’은 ‘국립중앙박물관’이라는 공통어가 있으므로 교집합 개수에 추가\n",
    "- ‘파주점’, ‘하남점’ 등 지점명이 공통어가 되는 경우 배제\n",
    "    -ex1: ‘롯데프리미엄아울렛 파주점'이라는 장소가 있을 때, 마지막 단어의 마지막 글자가 '점'일 경우에 마지막 글자를 제거 (공통어 비교 시 '롯데프리미엄아울렛'만 비교)\n",
    "- 유저가 방문한 장소에 군/구가 공통어가 되는 경우 배제\n",
    "    -ex1: 유저가 방문한 '스타필드 고양'은 ’스타필드‘, ’고양‘으로 나누어지는데, '고양'이라는 군/구 명을 제거해서 ’고양 어울림누리‘ 같은 장소와 교차어로 포함되지 않도록 함\n",
    "'''\n",
    "places = list(set(X_testb['GUNGU']))\n",
    "for i in range(len(places)):\n",
    "    if places[i][-1] == '구' or places[i][-1] == '시' or places[i][-1] == '군':\n",
    "        places[i] = places[i][:-1]"
   ]
  },
  {
   "cell_type": "code",
   "execution_count": null,
   "metadata": {},
   "outputs": [],
   "source": [
    "#유저가 다녀온 관광지 중에서 만족도가 4이상인 관광지 목록\n",
    "recall_10_list = []\n",
    "visit_list = list(info['VISIT_AREA_NM'])\n",
    "for i in tqdm(list(testb['TRAVEL_ID'].unique())):\n",
    "    \n",
    "    #추천한 방문지가 10개 미만이면 0\n",
    "    if i in travel_id_list:\n",
    "        recall_10_list.append(0)\n",
    "        continue\n",
    "    \n",
    "    satisfied = testb[testb['TRAVEL_ID'] == i] #실제(y_actual) 관광객이 만족한 관광지\n",
    "    satisfied.reset_index(drop = True, inplace = True) \n",
    "    '''\n",
    "    #2회 이상 방문한 곳에 대해서만 확인\n",
    "    for c in range(len(satisfied)):\n",
    "        if satisfied['VISIT_AREA_NM'][c] not in visit_list:\n",
    "            satisfied = satisfied.drop([c], axis = 0)\n",
    "    satisfied.reset_index(drop = True, inplace = True)    \n",
    "    if len(satisfied) == 0:\n",
    "        recall_10_list.append(0)\n",
    "        continue\n",
    "    '''\n",
    "    satisfied1 = satisfied[satisfied['DGSTFN'] >=4 ] #만족의 기준은 4이상 일때만 만족이라고 정의\n",
    "    if len(satisfied1) == 0: # 유저가 만족한 관광지가 하나도 없으면 recall@10은 어차피 0\n",
    "        recall_10_list.append(0)\n",
    "        continue\n",
    "    else:\n",
    "        item_list = satisfied1['VISIT_AREA_NM']\n",
    "                \n",
    "                \n",
    "    item_list = list(set(item_list))\n",
    "    \n",
    "\n",
    "#final_df의 추천지 10개랑 비교\n",
    "    recommend_list = final_df[final_df['TRAVEL_ID'] == i]['recommend_result_place'] #모델 추천 관광지 30개\n",
    "\n",
    "    summ = 0\n",
    "    for n in item_list:\n",
    "        word_list = list(n.split(' '))\n",
    "        if word_list[-1][-1] == '점': #지점명 삭제\n",
    "            del word_list[-1]\n",
    "        for o in word_list:\n",
    "            if o in places:#장소에 군/구 명 있으면 아무것도 하지 않고 스킵\n",
    "                pass\n",
    "            else:\n",
    "                for p in recommend_list: #장소에 교차어 있으면 해당 장소는 방문했다고 인식하기\n",
    "                    if o in str(p) :\n",
    "                        summ += 1\n",
    "    recall10_for_1user = summ / min(10, len(satisfied1)) #recall@10 산식\n",
    "    if recall10_for_1user > 1:\n",
    "        recall10_for_1user = 1\n",
    "    recall_10_list.append(recall10_for_1user)"
   ]
  },
  {
   "cell_type": "code",
   "execution_count": null,
   "metadata": {
    "id": "DRK8ILQ1QYVz",
    "outputId": "9ee04066-6faf-4ead-c342-bc70f67a0a64"
   },
   "outputs": [],
   "source": [
    "now = time\n",
    "print(now.strftime('%Y-%m-%d %H:%M:%S'))"
   ]
  },
  {
   "cell_type": "code",
   "execution_count": null,
   "metadata": {},
   "outputs": [],
   "source": [
    "#recall@10 구하기 \n",
    "np.mean(recall_10_list)"
   ]
  },
  {
   "cell_type": "code",
   "execution_count": null,
   "metadata": {
    "id": "GB2i9bncQYV0",
    "outputId": "432992a8-d134-4a2b-8074-4dcdd2db7e9c",
    "scrolled": true
   },
   "outputs": [],
   "source": [
    "recall_10_list"
   ]
  },
  {
   "cell_type": "code",
   "execution_count": null,
   "metadata": {
    "id": "IUh4kKXMQYV1"
   },
   "outputs": [],
   "source": []
  },
  {
   "cell_type": "code",
   "execution_count": null,
   "metadata": {
    "id": "VLBUXUyuQYV1"
   },
   "outputs": [],
   "source": []
  },
  {
   "cell_type": "code",
   "execution_count": null,
   "metadata": {
    "id": "xYK1mroUQYV2"
   },
   "outputs": [],
   "source": []
  }
 ],
 "metadata": {
  "colab": {
   "provenance": []
  },
  "kernelspec": {
   "display_name": "Python 3",
   "language": "python",
   "name": "python3"
  },
  "language_info": {
   "codemirror_mode": {
    "name": "ipython",
    "version": 3
   },
   "file_extension": ".py",
   "mimetype": "text/x-python",
   "name": "python",
   "nbconvert_exporter": "python",
   "pygments_lexer": "ipython3",
   "version": "3.11.8"
  }
 },
 "nbformat": 4,
 "nbformat_minor": 1
}
