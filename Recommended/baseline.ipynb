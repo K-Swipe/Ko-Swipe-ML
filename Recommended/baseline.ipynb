{
 "cells": [
  {
   "cell_type": "code",
   "execution_count": 1,
   "metadata": {
    "id": "USgkYLwHQYU3"
   },
   "outputs": [],
   "source": [
    "import pandas as pd\n",
    "import numpy as np\n",
    "from catboost import CatBoostRegressor\n",
    "import joblib\n",
    "import time\n",
    "from tqdm import tqdm\n",
    "import warnings\n",
    "\n",
    "warnings.filterwarnings('ignore')\n",
    "pd.set_option('display.max_columns', None)"
   ]
  },
  {
   "cell_type": "code",
   "execution_count": 3,
   "metadata": {
    "id": "jyQ2OlZyQYU7"
   },
   "outputs": [],
   "source": [
    "# 데이터 불러오기\n",
    "path = \"./data/train_2022\"\n",
    "# path = 'C:/Users/psj70/Desktop/권역별 4개 모델(0225공유)/권역별 4개 모델(0225공유)'\n",
    "visit_area_info = pd.read_csv(path + \"/tn_visit_area_info_방문지정보_B.csv\")  # 방문지 정보 activity\n",
    "travel = pd.read_csv(path + \"/tn_travel_여행_B.csv\")  # 여행 travel\n",
    "traveller_master = pd.read_csv(path + \"/tn_traveller_master_여행객 Master_B.csv\")  # 여행객 정보 Master traveler"
   ]
  },
  {
   "cell_type": "markdown",
   "metadata": {
    "id": "Wv85rQXZdBZF"
   },
   "source": [
    "# 전처리"
   ]
  },
  {
   "cell_type": "markdown",
   "metadata": {
    "id": "u9SrGzFwa2r8"
   },
   "source": [
    "## 1) visit_area_info 방문지 정보 df"
   ]
  },
  {
   "cell_type": "code",
   "execution_count": 4,
   "metadata": {
    "id": "LHG6B87sQYVC"
   },
   "outputs": [],
   "source": [
    "# 관광지 선택\n",
    "visit_area_info = visit_area_info[\n",
    "    (visit_area_info[\"VISIT_AREA_TYPE_CD\"] == 1)\n",
    "    | (visit_area_info[\"VISIT_AREA_TYPE_CD\"] == 2)\n",
    "    | (visit_area_info[\"VISIT_AREA_TYPE_CD\"] == 3)\n",
    "    | (visit_area_info[\"VISIT_AREA_TYPE_CD\"] == 4)\n",
    "    | (visit_area_info[\"VISIT_AREA_TYPE_CD\"] == 5)\n",
    "    | (visit_area_info[\"VISIT_AREA_TYPE_CD\"] == 6)\n",
    "    | (visit_area_info[\"VISIT_AREA_TYPE_CD\"] == 7)\n",
    "    | (visit_area_info[\"VISIT_AREA_TYPE_CD\"] == 8)\n",
    "]"
   ]
  },
  {
   "cell_type": "code",
   "execution_count": 5,
   "metadata": {
    "id": "xPHvlu4MQYVC"
   },
   "outputs": [],
   "source": [
    "#인덱스 재정렬\n",
    "visit_area_info = visit_area_info.reset_index(drop = True)"
   ]
  },
  {
   "cell_type": "code",
   "execution_count": 6,
   "metadata": {
    "colab": {
     "base_uri": "https://localhost:8080/"
    },
    "id": "ZP0CZV9zQYVD",
    "outputId": "97289921-2ba5-4643-c0b4-006616cf6770"
   },
   "outputs": [
    {
     "data": {
      "text/plain": [
       "array([1, 4, 2, 6, 7, 3, 5, 8], dtype=int64)"
      ]
     },
     "execution_count": 6,
     "metadata": {},
     "output_type": "execute_result"
    }
   ],
   "source": [
    "#제대로 추출되었는지 확인\n",
    "visit_area_info['VISIT_AREA_TYPE_CD'].unique()"
   ]
  },
  {
   "cell_type": "code",
   "execution_count": 7,
   "metadata": {
    "id": "fKI4EmjgQYVE"
   },
   "outputs": [],
   "source": [
    "visit_area_info.dropna(subset = ['LOTNO_ADDR'], inplace = True)\n",
    "visit_area_info = visit_area_info.reset_index(drop = True)"
   ]
  },
  {
   "cell_type": "code",
   "execution_count": 8,
   "metadata": {
    "id": "6QyLFzUgQYVF"
   },
   "outputs": [],
   "source": [
    "# 시도/군구 변수 생성\n",
    "sido = []\n",
    "gungu = []\n",
    "for i in range(len(visit_area_info['LOTNO_ADDR'])):\n",
    "    sido.append(visit_area_info['LOTNO_ADDR'][i].split(' ')[0])\n",
    "    gungu.append(visit_area_info['LOTNO_ADDR'][i].split(' ')[1])"
   ]
  },
  {
   "cell_type": "code",
   "execution_count": 9,
   "metadata": {
    "id": "yZEigMD_QYVG"
   },
   "outputs": [],
   "source": [
    "visit_area_info['SIDO'] = sido\n",
    "visit_area_info['GUNGU'] = gungu"
   ]
  },
  {
   "cell_type": "code",
   "execution_count": 10,
   "metadata": {
    "colab": {
     "base_uri": "https://localhost:8080/"
    },
    "id": "fx9N60pSQYVH",
    "outputId": "beac8870-73a4-4306-a838-0146671d70a0"
   },
   "outputs": [
    {
     "data": {
      "text/plain": [
       "강원         3896\n",
       "경북         2647\n",
       "부산         1695\n",
       "경남          935\n",
       "대구          559\n",
       "울산          371\n",
       "경기           74\n",
       "강원도          55\n",
       "경상북도         43\n",
       "서울           32\n",
       "부산광역시        24\n",
       "충북           24\n",
       "충남            9\n",
       "경상남도          8\n",
       "전남            6\n",
       "대전            5\n",
       "전북            5\n",
       "대구광역시         3\n",
       "울산광역시         2\n",
       "제주특별자치도       2\n",
       "인천            1\n",
       "광복동           1\n",
       "경기도           1\n",
       "Name: SIDO, dtype: int64"
      ]
     },
     "execution_count": 10,
     "metadata": {},
     "output_type": "execute_result"
    }
   ],
   "source": [
    "visit_area_info['SIDO'].value_counts()"
   ]
  },
  {
   "cell_type": "markdown",
   "metadata": {
    "id": "ZgQBT63ea2sg"
   },
   "source": [
    "### 변수 선택"
   ]
  },
  {
   "cell_type": "markdown",
   "metadata": {
    "id": "nJSnSa1Ta2sg"
   },
   "source": [
    "TRAVEL_ID 여행 ID\n",
    "\n",
    "VISIT_AREA_NM 방문 장소 이름\n",
    "\n",
    "SIDO 시/도\n",
    "\n",
    "GUNGU 군/구\n",
    "\n",
    "VISIT_AREA_TYPE_CD 관광 장소 유형\n",
    "\n",
    "DGSTFN 만족도\n",
    "\n",
    "REVISIT_INTENTION 재방문의향\n",
    "\n",
    "RCMDTN_INTENTION 추천의향\n",
    "\n",
    "RESIDENCE_TIME_MIN 체류시간분\n",
    "\n",
    "REVISIT_YN 재방문여부"
   ]
  },
  {
   "cell_type": "code",
   "execution_count": 11,
   "metadata": {
    "id": "wL7Bi8QIQYVJ"
   },
   "outputs": [],
   "source": [
    "visit_area_info = visit_area_info[['TRAVEL_ID', 'VISIT_AREA_NM', 'SIDO', 'GUNGU', 'VISIT_AREA_TYPE_CD', 'DGSTFN',\n",
    "                                  'REVISIT_INTENTION', 'RCMDTN_INTENTION', 'RESIDENCE_TIME_MIN', 'REVISIT_YN']]"
   ]
  },
  {
   "cell_type": "markdown",
   "metadata": {
    "id": "9WLulGcGa2sp"
   },
   "source": [
    "## 2) travel 여행 정보 df"
   ]
  },
  {
   "cell_type": "code",
   "execution_count": 12,
   "metadata": {
    "id": "-YvqDZsVQYVK"
   },
   "outputs": [],
   "source": [
    "# TRAVEL_MISSION_CHECK의 첫번째 항목 가져오기\n",
    "travel_list = []\n",
    "for i in range(len(travel)):\n",
    "    value = int(travel['TRAVEL_MISSION_CHECK'][i].split(';')[0])\n",
    "    travel_list.append(value)\n",
    "\n",
    "travel['TRAVEL_MISSION_PRIORITY'] = travel_list"
   ]
  },
  {
   "cell_type": "markdown",
   "metadata": {
    "id": "iHbibo-na2st"
   },
   "source": [
    "### 변수 선택"
   ]
  },
  {
   "cell_type": "markdown",
   "metadata": {
    "id": "dEzER73ka2st"
   },
   "source": [
    "TRAVEL_ID: 여행 ID\n",
    "\n",
    "TRAVELER_ID: 여행자 ID\n",
    "\n",
    "TRAVEL_MISSION_PRIORITY: 개별 미션 우선도 중 첫번째"
   ]
  },
  {
   "cell_type": "code",
   "execution_count": 13,
   "metadata": {
    "id": "KummIascQYVL"
   },
   "outputs": [],
   "source": [
    "travel = travel[['TRAVEL_ID', 'TRAVELER_ID', 'TRAVEL_MISSION_PRIORITY']]"
   ]
  },
  {
   "cell_type": "markdown",
   "metadata": {
    "id": "OugGmUI5a2sv"
   },
   "source": [
    "## 3) traveller_master 여행자 정보 df"
   ]
  },
  {
   "cell_type": "markdown",
   "metadata": {
    "id": "gTXgyf47a2sx"
   },
   "source": [
    "### 변수 선택"
   ]
  },
  {
   "cell_type": "markdown",
   "metadata": {
    "id": "nNfFK2tXa2sy"
   },
   "source": [
    "TRAVELER_ID 여행객ID\n",
    "\n",
    "GENDER 성별\n",
    "\n",
    "AGE_GRP 연령대\n",
    "\n",
    "INCOME 소득\n",
    "\n",
    "TRAVEL_STYL(1,2,3,4,5,6,7,8) 여행 스타일 \n",
    "\n",
    "TRAVEL_MOVTIVE(1) 여행 동기 - 2,3은 결측치가 있어 제외\n",
    "\n",
    "TRAVEL_NUM 여행빈도\n",
    "\n",
    "TRAVEL_COMPANIONS_NUM 동반자 수\n"
   ]
  },
  {
   "cell_type": "code",
   "execution_count": 14,
   "metadata": {
    "id": "YtMMrmFsQYVN"
   },
   "outputs": [],
   "source": [
    "traveller_master = traveller_master[['TRAVELER_ID', 'GENDER', 'AGE_GRP', 'INCOME', 'TRAVEL_STYL_1', \n",
    "                                     'TRAVEL_STYL_2', 'TRAVEL_STYL_3', 'TRAVEL_STYL_4', 'TRAVEL_STYL_5', \n",
    "                                     'TRAVEL_STYL_6', 'TRAVEL_STYL_7','TRAVEL_STYL_8', \n",
    "                                      'TRAVEL_MOTIVE_1', 'TRAVEL_NUM', 'TRAVEL_COMPANIONS_NUM' ]]"
   ]
  },
  {
   "cell_type": "markdown",
   "metadata": {
    "id": "8zYeidDEa2s0"
   },
   "source": [
    "## 데이터 프레임 합치기"
   ]
  },
  {
   "cell_type": "code",
   "execution_count": 15,
   "metadata": {
    "id": "f44IOd67QYVN"
   },
   "outputs": [],
   "source": [
    "df = pd.merge(travel, traveller_master, left_on = 'TRAVELER_ID', right_on = 'TRAVELER_ID', how = 'inner')"
   ]
  },
  {
   "cell_type": "code",
   "execution_count": 16,
   "metadata": {
    "id": "MpudW66BQYVO"
   },
   "outputs": [],
   "source": [
    "df = pd.merge(visit_area_info, df, left_on = 'TRAVEL_ID', right_on = 'TRAVEL_ID', how = 'right')"
   ]
  },
  {
   "cell_type": "markdown",
   "metadata": {
    "id": "QT8zoJ9Na2s5"
   },
   "source": [
    "## 만족도(y) 결측치 삭제"
   ]
  },
  {
   "cell_type": "code",
   "execution_count": 17,
   "metadata": {
    "id": "Iz_SmmZuQYVP"
   },
   "outputs": [],
   "source": [
    "df = df.dropna(subset = ['DGSTFN'])\n",
    "df.reset_index(drop=True, inplace=True)"
   ]
  },
  {
   "cell_type": "markdown",
   "metadata": {
    "id": "5vEoSqiYa2s6"
   },
   "source": [
    "## 체류시간 결측치 대체\n"
   ]
  },
  {
   "cell_type": "markdown",
   "metadata": {
    "id": "LFdEZmwma2s7"
   },
   "source": [
    "체류시간 0을 median 60으로 바꾸기"
   ]
  },
  {
   "cell_type": "code",
   "execution_count": 18,
   "metadata": {
    "id": "B9cy0Bq5QYVQ"
   },
   "outputs": [],
   "source": [
    "df['RESIDENCE_TIME_MIN'] = df['RESIDENCE_TIME_MIN'].replace(0,60)"
   ]
  },
  {
   "cell_type": "markdown",
   "metadata": {
    "id": "MNkzMvbEfRfF"
   },
   "source": [
    "## 재방문여부 원핫인코딩"
   ]
  },
  {
   "cell_type": "code",
   "execution_count": 19,
   "metadata": {
    "id": "4FRiN3i3QYVQ"
   },
   "outputs": [],
   "source": [
    "df['REVISIT_YN'] = df['REVISIT_YN'].replace(\"N\",0)\n",
    "df['REVISIT_YN'] = df['REVISIT_YN'].replace(\"Y\",1)"
   ]
  },
  {
   "cell_type": "markdown",
   "metadata": {
    "id": "76z0bPnaa2tA"
   },
   "source": [
    "## 여행스타일 결측치 삭제"
   ]
  },
  {
   "cell_type": "code",
   "execution_count": 20,
   "metadata": {
    "id": "G2lRuQZxQYVR"
   },
   "outputs": [],
   "source": [
    "df.dropna(subset = ['TRAVEL_STYL_1'], inplace = True)\n",
    "df.reset_index(drop= True, inplace = True)"
   ]
  },
  {
   "cell_type": "markdown",
   "metadata": {
    "id": "9hZRjQq9KPEC"
   },
   "source": [
    "## 여행 목적 결측치 삭제"
   ]
  },
  {
   "cell_type": "code",
   "execution_count": 21,
   "metadata": {
    "id": "lkbLBBBVQYVS"
   },
   "outputs": [],
   "source": [
    "df.dropna(subset = ['TRAVEL_MOTIVE_1'], inplace = True)\n",
    "df.reset_index(drop= True, inplace = True)"
   ]
  },
  {
   "cell_type": "code",
   "execution_count": 22,
   "metadata": {
    "colab": {
     "base_uri": "https://localhost:8080/"
    },
    "id": "DIb6pB8ZQYVS",
    "outputId": "3fc53673-7eeb-4bef-9984-bc8b202536ef"
   },
   "outputs": [
    {
     "data": {
      "text/plain": [
       "(6765, 26)"
      ]
     },
     "execution_count": 22,
     "metadata": {},
     "output_type": "execute_result"
    }
   ],
   "source": [
    "df.shape"
   ]
  },
  {
   "cell_type": "code",
   "execution_count": 23,
   "metadata": {
    "colab": {
     "base_uri": "https://localhost:8080/"
    },
    "id": "lr4rhd8NQYVT",
    "outputId": "90bd1e86-e80a-45f0-cc12-4b1f8ffaadf0"
   },
   "outputs": [
    {
     "data": {
      "text/plain": [
       "0"
      ]
     },
     "execution_count": 23,
     "metadata": {},
     "output_type": "execute_result"
    }
   ],
   "source": [
    "df.isna().sum().sum()"
   ]
  },
  {
   "cell_type": "markdown",
   "metadata": {
    "id": "3lZsbg6Va2tF"
   },
   "source": [
    "# Train-test split"
   ]
  },
  {
   "cell_type": "markdown",
   "metadata": {
    "id": "kzjOzlxCa2tF"
   },
   "source": [
    "-유니크한 관광지 정보가 모두 train set에 있어야 한다. (train set에 경복궁 없고 test set에만 경복궁 있으면 안된다. 왜냐하면 방문지 변수가 있기 때문에 입력되지 않은 방문지에 대한 정보는 모델이 학습할 수 없기 때문이다.)\n",
    "\n",
    "-또한 새로운 유저에 대한 추측이기 때문에 유저 데이터는 무조건 train / test 중 한 곳에만 있다. (유저 A의 ㄱ관광지는 train, ㄴ관광지는 test 에 있을 수 없다.)\n",
    "\n",
    "-이를 반영해서 train test split 진행하면 된다. \n",
    "\n",
    "-train set에서만 (방문지마다 체류시간 평균, 추천의향의 평균, 재방문여부의 평균, 동반자 수의 평균, 재방문의향의 평균)을 산출하고, 이 값을 test set에 대입한다. "
   ]
  },
  {
   "cell_type": "code",
   "execution_count": 24,
   "metadata": {
    "colab": {
     "base_uri": "https://localhost:8080/",
     "height": 53
    },
    "id": "-H2TlbADQYVU",
    "outputId": "1d002d9c-9d8a-4858-ce21-b76c0d6005c6"
   },
   "outputs": [
    {
     "name": "stderr",
     "output_type": "stream",
     "text": [
      "100%|██████████| 2432/2432 [00:21<00:00, 111.38it/s]\n"
     ]
    },
    {
     "data": {
      "text/plain": [
       "'        \\n이 프로세스를 바복하면 전체 데이터프레임(df)에 유저정보는 계속해서 삭제될 것이고, 남은 df가 test set,\\nTrain 데이터프레임이 train set이 되는 것임\\n'"
      ]
     },
     "execution_count": 24,
     "metadata": {},
     "output_type": "execute_result"
    }
   ],
   "source": [
    "from tqdm import tqdm\n",
    "df1 = df\n",
    "Train = pd.DataFrame(columns = list(df.columns))\n",
    "for i in tqdm(list(df['VISIT_AREA_NM'].unique())): # 유니크한 관광지 목록 중에서\n",
    "    df2 = df1[df1['VISIT_AREA_NM'] == i] # 특정 관광지에 간 모든 사람 뽑아서\n",
    "    np.random.seed(42)\n",
    "    if df2.empty:\n",
    "        pass\n",
    "    else:\n",
    "        random_number = np.random.randint(len(df2)) \n",
    "        df_id = df2.iloc[[random_number]] # 그 중 랜덤으로 관광지에 간 사람 한 명 뽑아서\n",
    "        index = df_id.iloc[0,0]\n",
    "        df3 = df1[df1['TRAVEL_ID'] == index] #그 사람이 간 모든 관광지를 구해서\n",
    "        df1 = pd.merge(df3, df1, how = 'outer', indicator = True)\n",
    "        df1 = df1.query('_merge ==\"right_only\"').drop(columns = ['_merge']) # 기존 데이터프레임에서 그 사람 내용을 삭제하고\n",
    "        Train = Train.append(df3) #train set 에 추가\n",
    "'''        \n",
    "이 프로세스를 바복하면 전체 데이터프레임(df)에 유저정보는 계속해서 삭제될 것이고, 남은 df가 test set,\n",
    "Train 데이터프레임이 train set이 되는 것임\n",
    "'''"
   ]
  },
  {
   "cell_type": "code",
   "execution_count": 25,
   "metadata": {
    "id": "Fl3ws2A3QYVV"
   },
   "outputs": [],
   "source": [
    "while len(df1)/len(df) > 0.2:\n",
    "    np.random.seed(42)\n",
    "    random_number = np.random.randint(len(df1))\n",
    "    df_id = df1.iloc[[random_number]]\n",
    "    index = df_id.iloc[0,0]\n",
    "    df3 = df1[df1['TRAVEL_ID'] == index]\n",
    "    df1 = pd.merge(df3, df1, how = 'outer', indicator = True)\n",
    "    df1 = df1.query('_merge ==\"right_only\"').drop(columns = ['_merge'])\n",
    "    Train = Train.append(df3)"
   ]
  },
  {
   "cell_type": "code",
   "execution_count": 26,
   "metadata": {
    "colab": {
     "base_uri": "https://localhost:8080/"
    },
    "id": "frgvGoyAQYVV",
    "outputId": "ead84066-bdd8-4513-c9ec-77aef6d2f5bf"
   },
   "outputs": [
    {
     "name": "stdout",
     "output_type": "stream",
     "text": [
      "5412\n",
      "1353\n",
      "6765\n",
      "0.2\n"
     ]
    }
   ],
   "source": [
    "print(len(Train)) # train set 길이\n",
    "print(len(df1)) # test set 길이\n",
    "print(len(df))\n",
    "print(len(df1) / len(df))"
   ]
  },
  {
   "cell_type": "markdown",
   "metadata": {
    "id": "gYAOYuaTa2tK"
   },
   "source": [
    "## Train set에서 방문지에 대한 변수 생성\n",
    "방문지마다 체류시간 평균, 추천의향의 평균, 재방문여부의 평균, 동반자 수의 평균, 재방문의향의 평균 산출"
   ]
  },
  {
   "cell_type": "code",
   "execution_count": 27,
   "metadata": {
    "colab": {
     "base_uri": "https://localhost:8080/"
    },
    "id": "1A4gSgPPQYVW",
    "outputId": "4a639bc1-f9b2-40f2-8b6c-b228ae090257"
   },
   "outputs": [
    {
     "name": "stderr",
     "output_type": "stream",
     "text": [
      "100%|██████████| 2432/2432 [00:03<00:00, 662.64it/s]\n"
     ]
    }
   ],
   "source": [
    "#새로운 데이터프레임 생성해서, 이 데이터프레임에 평균값을 추가한 새로운 Train set 생성할 것임\n",
    "\n",
    "new_train = pd.DataFrame(columns = list(Train.columns) + ['RESIDENCE_TIME_MIN_mean', 'RCMDTN_INTENTION_mean',\n",
    "                                                          'REVISIT_YN_mean', 'TRAVEL_COMPANIONS_NUM_mean',\n",
    "                                                          'REVISIT_INTENTION_mean'])\n",
    "\n",
    "\n",
    "for i in tqdm(list(Train['VISIT_AREA_NM'].unique())): #유니크한 관광지 목록 중에서\n",
    "    df2 = Train[Train['VISIT_AREA_NM'] == i] # 특정 관광지에 간 모든 사람 뽑아서\n",
    "    for j in ['RESIDENCE_TIME_MIN', 'RCMDTN_INTENTION', 'REVISIT_YN', 'TRAVEL_COMPANIONS_NUM', 'REVISIT_INTENTION']:\n",
    "        #체류시간 평균 산출 \n",
    "        globals()[str(j)+'_mean'] = df2[str(j)]\n",
    "        globals()[str(j)+'_mean'] = np.mean(globals()[str(j)+'_mean'])\n",
    "        #데이터프레임에 들어가게 값을 리스트 형태로 변환\n",
    "        globals()[str(j)+'_mean'] = np.repeat(globals()[str(j)+'_mean'], len(df2)) \n",
    "        df2[str(j)+'_mean'] = globals()[str(j)+'_mean']\n",
    "    #새로운 데이터프레임에 방문지별 평균값 대입\n",
    "    new_train = pd.concat([new_train, df2], axis = 0)"
   ]
  },
  {
   "cell_type": "code",
   "execution_count": 28,
   "metadata": {
    "id": "qyvzkPtdQYVX"
   },
   "outputs": [],
   "source": [
    "#편의를 위해 유저별 정렬\n",
    "new_train.sort_values(by = ['TRAVEL_ID'], axis = 0, inplace = True)"
   ]
  },
  {
   "cell_type": "markdown",
   "metadata": {
    "id": "hXxMv8Kaa2tM"
   },
   "source": [
    "## DATA SET 저장"
   ]
  },
  {
   "cell_type": "code",
   "execution_count": 29,
   "metadata": {
    "id": "t85E2zZxQYVY"
   },
   "outputs": [],
   "source": [
    "#train set 저장\n",
    "new_train.to_csv(path + '/관광지 추천시스템 Trainset_B.csv', index = False)\n",
    "#test set 저장\n",
    "df1.to_csv(path + '/관광지 추천시스템 Testset_B.csv', index = False)"
   ]
  },
  {
   "cell_type": "code",
   "execution_count": 30,
   "metadata": {
    "id": "uLafZKVvQYVY"
   },
   "outputs": [],
   "source": [
    "# 파일 불러오기\n",
    "Train = pd.read_csv(path + '/관광지 추천시스템 Trainset_B.csv')\n",
    "test = pd.read_csv(path + '/관광지 추천시스템 Testset_B.csv')"
   ]
  },
  {
   "cell_type": "code",
   "execution_count": 31,
   "metadata": {
    "id": "3GtYY1jyptFe"
   },
   "outputs": [],
   "source": [
    "Train.dropna(inplace = True)\n",
    "Train.reset_index(inplace = True, drop = True )"
   ]
  },
  {
   "cell_type": "code",
   "execution_count": 32,
   "metadata": {
    "id": "PBxH_s80kxot"
   },
   "outputs": [],
   "source": [
    "test.dropna(inplace = True)\n",
    "test.reset_index(inplace = True, drop = True )"
   ]
  },
  {
   "cell_type": "code",
   "execution_count": 33,
   "metadata": {
    "colab": {
     "base_uri": "https://localhost:8080/"
    },
    "id": "PUX8oer1i1Tu",
    "outputId": "1e52679f-2c6f-41c8-fe2e-4d1183673cd3"
   },
   "outputs": [
    {
     "name": "stdout",
     "output_type": "stream",
     "text": [
      "(5412, 31)\n",
      "(1353, 26)\n"
     ]
    }
   ],
   "source": [
    "print(Train.shape)\n",
    "print(test.shape)"
   ]
  },
  {
   "cell_type": "markdown",
   "metadata": {
    "id": "jS5BWHhmQYVa"
   },
   "source": [
    "# Train set 여행 방문지 필터링"
   ]
  },
  {
   "cell_type": "markdown",
   "metadata": {
    "id": "6nglDfQFQYVa"
   },
   "source": [
    "## 5번 이상 방문한 곳에 대해서만 학습 / 테스트"
   ]
  },
  {
   "cell_type": "code",
   "execution_count": 34,
   "metadata": {
    "id": "dkPzTFKYQYVb"
   },
   "outputs": [],
   "source": [
    "count = pd.DataFrame(Train['VISIT_AREA_NM'].value_counts())"
   ]
  },
  {
   "cell_type": "code",
   "execution_count": 35,
   "metadata": {
    "colab": {
     "base_uri": "https://localhost:8080/"
    },
    "id": "rPO6bCM_QYVb",
    "outputId": "529200b1-22e4-4484-ca1d-52468db0b552"
   },
   "outputs": [
    {
     "name": "stdout",
     "output_type": "stream",
     "text": [
      "[1634, 355, 165, 84, 49, 29, 15, 17, 13, 10, 8, 5, 7, 7, 3, 4, 2, 2, 2, 2, 2, 1, 2, 1, 1, 1, 1, 1, 1, 1, 1, 1, 1, 1, 1, 1, 1]\n"
     ]
    }
   ],
   "source": [
    "print(list(count.groupby(['VISIT_AREA_NM'])['VISIT_AREA_NM'].count()))"
   ]
  },
  {
   "cell_type": "code",
   "execution_count": 36,
   "metadata": {
    "id": "CmVrFwnYQYVc"
   },
   "outputs": [],
   "source": [
    "Train.reset_index(drop = True, inplace= True)\n",
    "#5번 이상 방문한 곳으로만 필터링\n",
    "count = pd.DataFrame(Train['VISIT_AREA_NM'].value_counts())\n",
    "count['places'] = count.index\n",
    "### 여기 숫자 변경\n",
    "five_places = list(count[count['VISIT_AREA_NM']>=5]['places']) \n",
    "###\n",
    "for i in range(len(Train)):\n",
    "    if Train['VISIT_AREA_NM'][i] not in five_places:\n",
    "        Train = Train.drop([i], axis = 0)\n",
    "Train.reset_index(drop = True, inplace = True)"
   ]
  },
  {
   "cell_type": "code",
   "execution_count": 37,
   "metadata": {
    "colab": {
     "base_uri": "https://localhost:8080/"
    },
    "id": "qzKld5uAQYVc",
    "outputId": "f40a9d1c-53e5-4fb2-b602-321d9c9f2722",
    "scrolled": true
   },
   "outputs": [
    {
     "data": {
      "text/plain": [
       "VISIT_AREA_NM\n",
       "5     49\n",
       "6     29\n",
       "7     15\n",
       "8     17\n",
       "9     13\n",
       "10    10\n",
       "11     8\n",
       "12     5\n",
       "13     7\n",
       "14     7\n",
       "16     3\n",
       "17     4\n",
       "18     2\n",
       "19     2\n",
       "20     2\n",
       "21     2\n",
       "23     2\n",
       "24     1\n",
       "25     2\n",
       "26     1\n",
       "30     1\n",
       "32     1\n",
       "33     1\n",
       "37     1\n",
       "38     1\n",
       "42     1\n",
       "46     1\n",
       "49     1\n",
       "52     1\n",
       "54     1\n",
       "59     1\n",
       "63     1\n",
       "70     1\n",
       "Name: VISIT_AREA_NM, dtype: int64"
      ]
     },
     "execution_count": 37,
     "metadata": {},
     "output_type": "execute_result"
    }
   ],
   "source": [
    "#확인\n",
    "count1 = pd.DataFrame(Train['VISIT_AREA_NM'].value_counts())\n",
    "count1.groupby(['VISIT_AREA_NM'])['VISIT_AREA_NM'].count()"
   ]
  },
  {
   "cell_type": "code",
   "execution_count": 38,
   "metadata": {
    "colab": {
     "base_uri": "https://localhost:8080/"
    },
    "id": "6v_fPHpiQYVd",
    "outputId": "c0949872-a3cb-4676-cee0-22532a837cd1",
    "scrolled": true
   },
   "outputs": [
    {
     "data": {
      "text/plain": [
       "(2237, 31)"
      ]
     },
     "execution_count": 38,
     "metadata": {},
     "output_type": "execute_result"
    }
   ],
   "source": [
    "Train.shape"
   ]
  },
  {
   "cell_type": "code",
   "execution_count": 39,
   "metadata": {
    "colab": {
     "base_uri": "https://localhost:8080/"
    },
    "id": "7BOnHclhQYVe",
    "outputId": "48f5dffc-a061-4831-d8a8-117619eb5d0b"
   },
   "outputs": [
    {
     "name": "stdout",
     "output_type": "stream",
     "text": [
      "(2237, 31)\n",
      "(1353, 26)\n"
     ]
    }
   ],
   "source": [
    "print(Train.shape)\n",
    "print(test.shape)"
   ]
  },
  {
   "cell_type": "markdown",
   "metadata": {
    "id": "5SdnrQA8aQ84"
   },
   "source": [
    "# Catboost 모델 기반 추천시스템 학습"
   ]
  },
  {
   "cell_type": "code",
   "execution_count": 40,
   "metadata": {
    "id": "95d6czwhQYVf"
   },
   "outputs": [],
   "source": [
    "#학습에 필요없는 feature 제거\n",
    "Train.drop(['TRAVELER_ID', 'REVISIT_INTENTION',\n",
    "            'RCMDTN_INTENTION','RESIDENCE_TIME_MIN', 'REVISIT_YN'], axis = 1, inplace = True)\n",
    "test.drop(['TRAVELER_ID', 'REVISIT_INTENTION',\n",
    "            'RCMDTN_INTENTION','RESIDENCE_TIME_MIN', 'REVISIT_YN'], axis = 1, inplace = True)"
   ]
  },
  {
   "cell_type": "code",
   "execution_count": 41,
   "metadata": {
    "id": "NkI_aGyPQYVh"
   },
   "outputs": [],
   "source": [
    "# 데이터 타입 변경\n",
    "Train['VISIT_AREA_TYPE_CD'] = Train['VISIT_AREA_TYPE_CD'].astype('string')\n",
    "test['VISIT_AREA_TYPE_CD'] = test['VISIT_AREA_TYPE_CD'].astype('string')"
   ]
  },
  {
   "cell_type": "code",
   "execution_count": 42,
   "metadata": {
    "id": "IImI0a_uQYVh"
   },
   "outputs": [],
   "source": [
    "y_train = Train['DGSTFN']\n",
    "X_train = Train.drop(['DGSTFN'], axis = 1)"
   ]
  },
  {
   "cell_type": "markdown",
   "metadata": {
    "id": "h5IIPl47m9N4"
   },
   "source": [
    "train set의 feature, target, cv 개수를 입력하면 cross validaiton set을 생성해주는 함수 생성\n",
    "\n",
    "최대한 많은 관광지 정보를 보존하기 위해 cv = 10 으로 설정"
   ]
  },
  {
   "cell_type": "code",
   "execution_count": 47,
   "metadata": {},
   "outputs": [],
   "source": [
    "def cross_validation(X_train, y_train, cv, iteration,number, random_state): #X_train 데이터, y_train 데이터, cv 개수, random search 횟수, random_state\n",
    "\n",
    "    X_train1 = X_train #변수 옮기기\n",
    "    y_train1 = y_train #변수 옮기기\n",
    "    for i in range(cv): #각 fold마다의 X_train, y_train 생성 (Train_1, Train_2, ... / target_1, target_2, ...)\n",
    "        globals()['Train_'+str(i+1)] = pd.DataFrame(columns = list(X_train.columns))\n",
    "        globals()['target_'+str(i+1)] = []\n",
    "    print(str(cv)+'개의 fold를 생성중입니다.....')\n",
    "    for i in tqdm(range(cv)):\n",
    "        np.random.seed(random_state) #초기 시드 설정\n",
    "        while (len(globals()['Train_'+str(i+1)]) / len(X_train)) < (1/cv): #1/cv 비율 만큼의 데이터가 모일 때까지\n",
    "            random_number = np.random.randint(len(X_train1))\n",
    "            df_id = X_train1.iloc[[random_number]]\n",
    "            index = df_id.iloc[0,0] #랜덤하게 유저를 선택하고\n",
    "            df1 = X_train1[X_train1['TRAVEL_ID'] == index] #그 유저가 갔던 모든 여행지 불러오고\n",
    "            target_index = X_train1[X_train1['TRAVEL_ID'] == index].index\n",
    "            X_train1 = pd.merge(df1, X_train1, how = 'outer', indicator = True)\n",
    "            X_train1 = X_train1.query('_merge ==\"right_only\"').drop(columns = ['_merge']) #기존 데이터프레임은 해당 유저 정보 삭제\n",
    "            globals()['Train_'+str(i+1)] = globals()['Train_'+str(i+1)].append(df1) #validation set에 유저의 X_train 삽입\n",
    "            globals()['target_'+str(i+1)].extend(list(y_train[list(target_index)])) #유저의 X_train에 상응하는 y_train 삽입\n",
    "            if len(X_train1) == 0: #기존 데이터프레임에 모든 유저정보가 사라지면 validation set 생성이 완료된 것이므로 정지\n",
    "                break\n",
    "    print(str(cv)+'개의 fold 생성이 완료되었습니다!')\n",
    "    print('함수에서 설정한 초모수 범위 내에서 ' + str(cv)+'개의 validation 검정을 진행합니다...' )\n",
    "    \n",
    "    \n",
    "    np.random.seed(random_state)\n",
    "    initial = 0 \n",
    "    for a in tqdm(range(iteration)):\n",
    "        print(str(a+1) + \"번째 초모수 조절치에 대한 학습을 진행합니다....\")\n",
    "        ##########여기에 원하는 hyperparameter 기입###########\n",
    "        ######################################################\n",
    "        n_estimators = np.random.choice(np.arange(700, 1301, 50))\n",
    "        max_depth = np.random.choice(np.arange(5, 11, 1))\n",
    "        subsample = np.random.choice(np.arange(0.75, 1.0001, 0.05))\n",
    "        colsample_bylevel = np.random.choice(np.arange(0.8, 1.0001, 0.05))\n",
    "        ######################################################\n",
    "######################################################\n",
    "        final_recall = [] # K개의 검증 성능이 들어갈 리스트\n",
    "\n",
    "        for j in range(cv): #K개 fold중\n",
    "            print(str(a+1) + '번째 초모수 조절치의' + str(j+1)+'번째 fold를 학습하고 있습니다....')\n",
    "            #한 fold에 대해서 학습\n",
    "            combine_df_list = list(range(1, (cv+1))) # 1부터 cv까지 숫자리스트 만들어서\n",
    "            del combine_df_list[j] #숫자 하나를 지우고, 그 숫자가 있는 Train set을 Validation set으로 설정\n",
    "            #예를 들어 1이 빠졌으면 Train_1이 validation set, Train_2, Train_3, ... 는 Train set\n",
    "            X_new_train = pd.DataFrame(columns = list(globals()['Train_'+str(j+1)].columns))\n",
    "            y_new_train = []\n",
    "            for i in combine_df_list: #지운 숫자 외의 숫자가 있는 Train set들을 결합\n",
    "                X_new_train = pd.concat([X_new_train, globals()['Train_'+str(i)]], axis = 0) #X_train 결합\n",
    "                y_new_train.extend(globals()['target_'+str(i)]) #y_train 결합\n",
    "            y_new_train = np.array(y_new_train).astype(np.float)\n",
    "            X_new_train.drop(['TRAVEL_ID'], axis = 1, inplace = True) #필요 없는 컬럼 제거\n",
    "            if 'DGSTFN' in list(X_new_train.columns): #global 함수에서 발생하는 오류 해결\n",
    "                X_new_train.drop(['DGSTFN'], axis = 1, inplace = True)\n",
    "            model = CatBoostRegressor(n_estimators = n_estimators,\n",
    "                                  max_depth = max_depth,\n",
    "                                  subsample = subsample,\n",
    "                                  colsample_bylevel = colsample_bylevel,\n",
    "                                  cat_features = ['VISIT_AREA_NM', 'SIDO', 'GUNGU','VISIT_AREA_TYPE_CD',\n",
    "                                              'TRAVEL_MISSION_PRIORITY', 'AGE_GRP', 'GENDER'], \n",
    "                                  random_state = 42)\n",
    "        ##############################################################################################\n",
    "\n",
    "            model.fit(X_new_train, y_new_train) #########모델 적합\n",
    "\n",
    "            #학습한 fold에 대한 test 값 도출\n",
    "            recall_10_list = [] #validation set의 recall 측정값들이 들어갈 리스트\n",
    "            #####################유저 정보##################################\n",
    "            data = globals()['Train_'+str(j+1)][['TRAVEL_ID', 'SIDO', 'GUNGU', 'TRAVEL_MISSION_PRIORITY', 'GENDER', 'AGE_GRP', 'INCOME',\n",
    "                                    'TRAVEL_STYL_1', 'TRAVEL_STYL_2', 'TRAVEL_STYL_3', 'TRAVEL_STYL_4',\n",
    "                                    'TRAVEL_STYL_5', 'TRAVEL_STYL_6', 'TRAVEL_STYL_7', 'TRAVEL_STYL_8',\n",
    "                                    'TRAVEL_MOTIVE_1', 'TRAVEL_NUM', 'TRAVEL_COMPANIONS_NUM']]\n",
    "            data1 = pd.DataFrame(columns=['TRAVEL_ID', 'TRAVEL_MISSION_PRIORITY', 'GENDER', 'AGE_GRP', 'INCOME',\n",
    "                                    'TRAVEL_STYL_1', 'TRAVEL_STYL_2', 'TRAVEL_STYL_3', 'TRAVEL_STYL_4',\n",
    "                                    'TRAVEL_STYL_5', 'TRAVEL_STYL_6', 'TRAVEL_STYL_7', 'TRAVEL_STYL_8',\n",
    "                                    'TRAVEL_MOTIVE_1', 'TRAVEL_NUM', 'TRAVEL_COMPANIONS_NUM', 'sido_gungu_list'])\n",
    "            for i in list(data['TRAVEL_ID'].unique()):\n",
    "                temp_df = data[data['TRAVEL_ID'] == i]\n",
    "                temp_df1 = temp_df[['SIDO', 'GUNGU']] #각 유저별 방문한 시군구 확인\n",
    "                temp_df1.reset_index(drop = True, inplace = True)\n",
    "                sido_gungu_visit = []\n",
    "                for k in range(len(temp_df1)):\n",
    "                    sido_gungu_visit.append(temp_df1['SIDO'][k] + '+' + temp_df1['GUNGU'][k])\n",
    "                sido_gungu_list = list(set(sido_gungu_visit))\n",
    "                new = temp_df.drop(['SIDO', 'GUNGU'], axis = 1) #기존 시도, 군구 제외하고\n",
    "                new = new.head(1)\n",
    "                new['sido_gungu_list'] = str(sido_gungu_list)\n",
    "                data1 = pd.concat([data1, new], axis = 0) #새로운 데이터프레임 생성 \n",
    "            data1.reset_index(drop = True, inplace = True)\n",
    "            ##########################여행지 정보################################\n",
    "            info = X_new_train[['SIDO', 'VISIT_AREA_NM', 'GUNGU','VISIT_AREA_TYPE_CD','RESIDENCE_TIME_MIN_mean', 'RCMDTN_INTENTION_mean',\n",
    "            'REVISIT_YN_mean', 'TRAVEL_COMPANIONS_NUM_mean', 'REVISIT_INTENTION_mean']]\n",
    "            info.drop_duplicates(['VISIT_AREA_NM'], inplace = True)\n",
    "            ###### 2회 이상 관광한 방문지 리스트 생성\n",
    "            visiting_list = X_new_train[['VISIT_AREA_NM']] #train set에 있는 방문지에 대해서만 2회 이상 방문하였는지 확인\n",
    "            visiting_list.reset_index(drop = True, inplace = True)\n",
    "            #데이터 전처리\n",
    "            dfdf = pd.DataFrame(visiting_list.value_counts(), columns = ['count'])\n",
    "            dfdf['VISIT_AREA_NM'] = dfdf.index\n",
    "            dfdf.reset_index(drop = True, inplace = True)\n",
    "            for i in range(len(dfdf)):\n",
    "                dfdf['VISIT_AREA_NM'][i] = str(dfdf['VISIT_AREA_NM'][i])\n",
    "                dfdf['VISIT_AREA_NM'][i] = dfdf['VISIT_AREA_NM'][i].replace(\"(\",\"\").replace(\")\",\"\").replace(\",\",\"\").replace(\"\\''\",\"\")\n",
    "                dfdf['VISIT_AREA_NM'][i] = dfdf['VISIT_AREA_NM'][i][1:-1]\n",
    "            #n회 이상 적용\n",
    "            dfdf = dfdf[dfdf['count'] >= number] \n",
    "            visit_list = list(dfdf['VISIT_AREA_NM']) #visit_list에 2회 이상 방문지 리스트\n",
    "            #방문지가 2회 이상 방문한 관광지 아니면 제거\n",
    "            info.reset_index(drop = True, inplace = True)\n",
    "            for i in range(len(info)):\n",
    "                if info['VISIT_AREA_NM'][i] not in visit_list:\n",
    "                    info = info.drop([i], axis = 0)\n",
    "            info.reset_index(drop = True, inplace = True)\n",
    "            ##########################모델 10개 관광지 추천############################\n",
    "            result = []\n",
    "            for i in range(len(data1)):\n",
    "                #데이터\n",
    "\n",
    "                final_df = pd.DataFrame(columns = ['VISIT_AREA_NM', 'SIDO', 'GUNGU', 'VISIT_AREA_TYPE_CD',\n",
    "                       'TRAVEL_MISSION_PRIORITY', 'GENDER', 'AGE_GRP', 'INCOME',\n",
    "                       'TRAVEL_STYL_1', 'TRAVEL_STYL_2', 'TRAVEL_STYL_3', 'TRAVEL_STYL_4',\n",
    "                       'TRAVEL_STYL_5', 'TRAVEL_STYL_6', 'TRAVEL_STYL_7', 'TRAVEL_STYL_8',\n",
    "                       'TRAVEL_MOTIVE_1', 'TRAVEL_NUM', 'TRAVEL_COMPANIONS_NUM',\n",
    "                       'RESIDENCE_TIME_MIN_mean', 'RCMDTN_INTENTION_mean', 'REVISIT_YN_mean',\n",
    "                       'TRAVEL_COMPANIONS_NUM_mean', 'REVISIT_INTENTION_mean']) #빈 데이터프레임에 내용 추가\n",
    "                ####### 시/도 군/구 별 자료 수집\n",
    "                temp = data1['sido_gungu_list'][i].replace(\"[\",\"\").replace(\"]\",\"\").replace(\"\\'\",\"\").replace(\", \",\",\")\n",
    "                places_list = list(map(str, temp.split(\",\")))\n",
    "                for q in places_list:\n",
    "                    sido, gungu = map(str, q.split(\"+\"))\n",
    "\n",
    "                    info_df = info[(info['SIDO'] == sido) & (info['GUNGU'] == gungu)] \n",
    "\n",
    "                    info_df.drop(['SIDO'], inplace = True, axis = 1)\n",
    "                    info_df.reset_index(inplace = True, drop = True)\n",
    "                    data2 = data1.drop(['sido_gungu_list'], axis =1)\n",
    "                    user_df = pd.DataFrame([data2.iloc[i].to_list()]*len(info_df), columns = ['SIDO', 'TRAVEL_MISSION_PRIORITY', 'GENDER', 'AGE_GRP', 'INCOME',\n",
    "                                        'TRAVEL_STYL_1', 'TRAVEL_STYL_2', 'TRAVEL_STYL_3', 'TRAVEL_STYL_4',\n",
    "                                        'TRAVEL_STYL_5', 'TRAVEL_STYL_6', 'TRAVEL_STYL_7', 'TRAVEL_STYL_8',\n",
    "                                        'TRAVEL_MOTIVE_1', 'TRAVEL_NUM', 'TRAVEL_COMPANIONS_NUM'])\n",
    "                    df = pd.concat([user_df, info_df], axis = 1)\n",
    "                    df = df[['VISIT_AREA_NM', 'SIDO', 'GUNGU', 'VISIT_AREA_TYPE_CD',\n",
    "                   'TRAVEL_MISSION_PRIORITY', 'GENDER', 'AGE_GRP', 'INCOME',\n",
    "                   'TRAVEL_STYL_1', 'TRAVEL_STYL_2', 'TRAVEL_STYL_3', 'TRAVEL_STYL_4',\n",
    "                   'TRAVEL_STYL_5', 'TRAVEL_STYL_6', 'TRAVEL_STYL_7', 'TRAVEL_STYL_8',\n",
    "                   'TRAVEL_MOTIVE_1', 'TRAVEL_NUM', 'TRAVEL_COMPANIONS_NUM',\n",
    "                   'RESIDENCE_TIME_MIN_mean', 'RCMDTN_INTENTION_mean', 'REVISIT_YN_mean',\n",
    "                   'TRAVEL_COMPANIONS_NUM_mean', 'REVISIT_INTENTION_mean']] # 변수정렬\n",
    "                    df['VISIT_AREA_TYPE_CD'] = df['VISIT_AREA_TYPE_CD'].astype('string')\n",
    "                    final_df = pd.concat([final_df, df], axis = 0)\n",
    "                final_df.reset_index(drop = True, inplace = True)\n",
    "                final_df.drop_duplicates(['VISIT_AREA_NM'], inplace = True)\n",
    "\n",
    "                #모델 예측\n",
    "                y_pred = model.predict(final_df)\n",
    "                y_pred = pd.DataFrame(y_pred, columns = ['y_pred'])\n",
    "                test_df1 = pd.concat([final_df, y_pred], axis = 1)\n",
    "                test_df1.sort_values(by = ['y_pred'], axis = 0, ascending=False, inplace = True) # 예측치가 높은 순대로 정렬\n",
    "\n",
    "                test_df1 = test_df1.iloc[0:10,] #상위 10개 관광지 추천\n",
    "\n",
    "                visiting_candidates = list(test_df1['VISIT_AREA_NM']) # 모델이 추천한 관광지들을 리스트 형태로 변환\n",
    "\n",
    "               # 유저정보와 추천 관광지\n",
    "                test_df2 = test_df1[['SIDO','TRAVEL_MISSION_PRIORITY', 'GENDER', 'AGE_GRP', 'INCOME',\n",
    "                                    'TRAVEL_STYL_1', 'TRAVEL_STYL_2', 'TRAVEL_STYL_3', 'TRAVEL_STYL_4',\n",
    "                                    'TRAVEL_STYL_5', 'TRAVEL_STYL_6', 'TRAVEL_STYL_7', 'TRAVEL_STYL_8',\n",
    "                                    'TRAVEL_MOTIVE_1', 'TRAVEL_NUM', 'TRAVEL_COMPANIONS_NUM']]\n",
    "                if len(test_df2) == 0:\n",
    "                    rec = []\n",
    "                    result.append(rec)\n",
    "                else:\n",
    "\n",
    "                    rec = test_df2.iloc[0].to_list()\n",
    "\n",
    "                    rec.append(visiting_candidates)\n",
    "\n",
    "                    result.append(rec)\n",
    "            final_df = pd.DataFrame(result,\n",
    "                                columns = ['SIDO', 'TRAVEL_MISSION_PRIORITY', 'GENDER', 'AGE_GRP', 'INCOME',\n",
    "                                'TRAVEL_STYL_1', 'TRAVEL_STYL_2', 'TRAVEL_STYL_3', 'TRAVEL_STYL_4',\n",
    "                                'TRAVEL_STYL_5', 'TRAVEL_STYL_6', 'TRAVEL_STYL_7', 'TRAVEL_STYL_8',\n",
    "                                'TRAVEL_MOTIVE_1', 'TRAVEL_NUM', 'TRAVEL_COMPANIONS_NUM', 'recommend_result_place'])\n",
    "            final_df = final_df[['recommend_result_place']]\n",
    "            travel_id = data1[['TRAVEL_ID']]\n",
    "            travel_id.reset_index(drop = True, inplace = True)\n",
    "            final_df = pd.concat([travel_id, final_df], axis = 1)\n",
    "\n",
    "            #추천지 10개 미만인 여행 ID확인\n",
    "            travel_id_list = []\n",
    "            for i in range(len(final_df)):\n",
    "                recommend_list = final_df['recommend_result_place'][i]\n",
    "                if str(recommend_list).count(',') < 9:\n",
    "                    travel_id_list.append(final_df['TRAVEL_ID'][i])\n",
    "                if pd.isna(str(recommend_list)):\n",
    "                    travel_id_list.append(final_df['TRAVEL_ID'][i])\n",
    "            ## 군구 리스트\n",
    "            places = list(set(globals()['Train_'+str(j+1)]['GUNGU']))\n",
    "            for i in range(len(places)):\n",
    "                if places[i][-1] == '구' or places[i][-1] == '시' or places[i][-1] == '군':\n",
    "                    places[i] = places[i][:-1]\n",
    "\n",
    "            ###############################################################\n",
    "            ######## 최종 성능 평가 #########################################\n",
    "            #########################################################\n",
    "            visit_list = list(info['VISIT_AREA_NM'])\n",
    "            globals()['Train_'+str(j+1)]['DGSTFN'] = globals()['target_'+str(j+1)]\n",
    "\n",
    "\n",
    "\n",
    "            for i in list(globals()['Train_'+str(j+1)]['TRAVEL_ID'].unique()):\n",
    "\n",
    "                #추천한 방문지가 10개 미만이면 0\n",
    "                if i in travel_id_list:\n",
    "                    recall_10_list.append(0)\n",
    "                    continue\n",
    "\n",
    "                satisfied = globals()['Train_'+str(j+1)][globals()['Train_'+str(j+1)]['TRAVEL_ID'] == i] #실제(y_actual) 관광객이 만족한 관광지\n",
    "                satisfied.reset_index(drop = True, inplace = True) \n",
    "\n",
    "\n",
    "                satisfied1 = satisfied[satisfied['DGSTFN'] >=4 ] #만족의 기준은 4이상 일때만 만족이라고 정의\n",
    "                if len(satisfied1) == 0: # 유저가 만족한 관광지가 하나도 없으면 recall@10은 어차피 0\n",
    "                    recall_10_list.append(0)\n",
    "                    continue\n",
    "                else:\n",
    "                    item_list = satisfied1['VISIT_AREA_NM']\n",
    "\n",
    "\n",
    "                item_list = list(set(item_list))\n",
    "\n",
    "\n",
    "            #final_df의 추천지 10개랑 비교\n",
    "\n",
    "                recommend_list = final_df[final_df['TRAVEL_ID'] == i]['recommend_result_place'] #모델 추천 관광지 30개\n",
    "\n",
    "                summ = 0\n",
    "                for n in item_list:\n",
    "                    word_list = list(n.split(' '))\n",
    "                    if word_list[-1][-1] == '점': #지점명 삭제\n",
    "                        del word_list[-1]\n",
    "                    for o in word_list:\n",
    "                        if o in places:#장소에 군/구 명 있으면 아무것도 하지 않고 스킵\n",
    "                            pass\n",
    "                        else:\n",
    "                            for p in recommend_list: #장소에 교차어 있으면 해당 장소는 방문했다고 인식하기\n",
    "                                if o in str(p) :\n",
    "                                    summ += 1\n",
    "                recall10_for_1user = summ / min(10, len(satisfied1)) #recall@10 산식\n",
    "                if recall10_for_1user > 1:\n",
    "                    recall10_for_1user = 1\n",
    "                recall_10_list.append(recall10_for_1user)\n",
    "            globals()['Train_'+str(j+1)].drop(['DGSTFN'], axis = 1, inplace = True) #globals 함수 오류 해결하기 위한 코드\n",
    "            \n",
    "            recall_for_one_cv = sum(recall_10_list) / len(recall_10_list) #한 fold에 대한 recall@10값 추출\n",
    "                \n",
    "            final_recall.append(recall_for_one_cv)\n",
    "\n",
    "        recallat10 = sum(final_recall) / len(final_recall)\n",
    "        print('이번 결과는:', recallat10)\n",
    "        ###################### hyperparameter 바꾸면 여기도 수정해야 ######################\n",
    "        ###################################################################################\n",
    "        print('이번 결과의 parameter은: ', 'n_estimators:', n_estimators, 'max_depth:', max_depth, \n",
    "                  'subsample:', subsample, 'colsample_bylevel:', colsample_bylevel)\n",
    "        if recallat10 > initial:\n",
    "            initial = recallat10\n",
    "            print('신기록!:', initial)\n",
    "            print('n_estimators:', n_estimators, 'max_depth:', max_depth, \n",
    "                  'subsample:', subsample, 'colsample_bylevel:', colsample_bylevel)\n",
    "            final_estimator = n_estimators\n",
    "            final_max_depth = max_depth\n",
    "            final_subsample = subsample\n",
    "            final_colsample_bylevel = colsample_bylevel\n",
    "         #####################################################################################\n",
    "    print('최종 parameter은 :',  final_estimator, 'max_depth:', final_max_depth, \n",
    "                  'subsample:', final_subsample, 'colsample_bylevel:', final_colsample_bylevel)\n",
    "    return(initial)"
   ]
  },
  {
   "cell_type": "code",
   "execution_count": null,
   "metadata": {
    "colab": {
     "base_uri": "https://localhost:8080/"
    },
    "id": "YVTesaO4QYVm",
    "outputId": "dee2b099-7cfb-44c8-e969-e9fd52c56960",
    "scrolled": true
   },
   "outputs": [],
   "source": [
    "#초모수 조절\n",
    "cross_validation(X_train, y_train, cv = 2, iteration = 100, number = 5, random_state = 42)"
   ]
  },
  {
   "cell_type": "markdown",
   "metadata": {
    "id": "HpNrQwRbaQ86"
   },
   "source": [
    "## Catboost 적합"
   ]
  },
  {
   "cell_type": "markdown",
   "metadata": {
    "id": "frJbbfR2aQ86"
   },
   "source": [
    "범주형 변수 목록\n",
    "\n",
    "VISIT_AREA_NM 방문지\n",
    "\n",
    "SIDO 시도\n",
    "\n",
    "GUNGU 군구\n",
    "\n",
    "VISIT_AREA_CD 관광지 종류 코드\n",
    "\n",
    "TRAVEL_MISSION_PRIORITY 유저가 설정한 본인의 미션 중 첫번째\n",
    "\n",
    "AGE_GRP 연령대\n",
    "\n",
    "GENDER 성별"
   ]
  },
  {
   "cell_type": "code",
   "execution_count": 49,
   "metadata": {
    "id": "zljrwcClQYVp"
   },
   "outputs": [],
   "source": [
    "y_train = Train['DGSTFN']\n",
    "X_train = Train.drop(['DGSTFN', 'TRAVEL_ID'], axis = 1)"
   ]
  },
  {
   "cell_type": "code",
   "execution_count": 50,
   "metadata": {
    "colab": {
     "base_uri": "https://localhost:8080/"
    },
    "id": "WUM8jN7sQYVp",
    "outputId": "752da460-c625-4308-e037-1cd14aec86e0",
    "scrolled": true
   },
   "outputs": [
    {
     "name": "stdout",
     "output_type": "stream",
     "text": [
      "Learning rate set to 0.041503\n",
      "0:\tlearn: 0.7866447\ttotal: 31.2ms\tremaining: 35.8s\n",
      "1:\tlearn: 0.7819436\ttotal: 65.6ms\tremaining: 37.7s\n",
      "2:\tlearn: 0.7775042\ttotal: 100ms\tremaining: 38.4s\n",
      "3:\tlearn: 0.7725809\ttotal: 132ms\tremaining: 37.8s\n",
      "4:\tlearn: 0.7687635\ttotal: 166ms\tremaining: 37.9s\n",
      "5:\tlearn: 0.7648580\ttotal: 203ms\tremaining: 38.7s\n",
      "6:\tlearn: 0.7621005\ttotal: 239ms\tremaining: 38.9s\n",
      "7:\tlearn: 0.7577136\ttotal: 273ms\tremaining: 39s\n",
      "8:\tlearn: 0.7534636\ttotal: 308ms\tremaining: 39.1s\n",
      "9:\tlearn: 0.7503152\ttotal: 343ms\tremaining: 39.1s\n",
      "10:\tlearn: 0.7468061\ttotal: 379ms\tremaining: 39.3s\n",
      "11:\tlearn: 0.7433756\ttotal: 410ms\tremaining: 38.9s\n",
      "12:\tlearn: 0.7402325\ttotal: 441ms\tremaining: 38.6s\n",
      "13:\tlearn: 0.7364577\ttotal: 473ms\tremaining: 38.4s\n",
      "14:\tlearn: 0.7342140\ttotal: 506ms\tremaining: 38.3s\n",
      "15:\tlearn: 0.7321943\ttotal: 538ms\tremaining: 38.2s\n",
      "16:\tlearn: 0.7284717\ttotal: 572ms\tremaining: 38.1s\n",
      "17:\tlearn: 0.7273078\ttotal: 588ms\tremaining: 37s\n",
      "18:\tlearn: 0.7240589\ttotal: 621ms\tremaining: 36.9s\n",
      "19:\tlearn: 0.7231398\ttotal: 635ms\tremaining: 35.9s\n",
      "20:\tlearn: 0.7213878\ttotal: 668ms\tremaining: 35.9s\n",
      "21:\tlearn: 0.7196699\ttotal: 702ms\tremaining: 36s\n",
      "22:\tlearn: 0.7170100\ttotal: 735ms\tremaining: 36s\n",
      "23:\tlearn: 0.7148270\ttotal: 767ms\tremaining: 36s\n",
      "24:\tlearn: 0.7126758\ttotal: 799ms\tremaining: 35.9s\n",
      "25:\tlearn: 0.7121123\ttotal: 810ms\tremaining: 35s\n",
      "26:\tlearn: 0.7105338\ttotal: 842ms\tremaining: 35s\n",
      "27:\tlearn: 0.7090440\ttotal: 875ms\tremaining: 35.1s\n",
      "28:\tlearn: 0.7057219\ttotal: 907ms\tremaining: 35.1s\n",
      "29:\tlearn: 0.7031971\ttotal: 941ms\tremaining: 35.1s\n",
      "30:\tlearn: 0.6999262\ttotal: 990ms\tremaining: 35.7s\n",
      "31:\tlearn: 0.6973249\ttotal: 1.02s\tremaining: 35.8s\n",
      "32:\tlearn: 0.6938422\ttotal: 1.06s\tremaining: 35.8s\n",
      "33:\tlearn: 0.6911705\ttotal: 1.09s\tremaining: 35.8s\n",
      "34:\tlearn: 0.6893018\ttotal: 1.12s\tremaining: 35.8s\n",
      "35:\tlearn: 0.6876196\ttotal: 1.16s\tremaining: 35.9s\n",
      "36:\tlearn: 0.6853297\ttotal: 1.19s\tremaining: 35.9s\n",
      "37:\tlearn: 0.6826631\ttotal: 1.23s\tremaining: 35.9s\n",
      "38:\tlearn: 0.6804480\ttotal: 1.26s\tremaining: 35.8s\n",
      "39:\tlearn: 0.6783667\ttotal: 1.29s\tremaining: 35.8s\n",
      "40:\tlearn: 0.6757865\ttotal: 1.32s\tremaining: 35.8s\n",
      "41:\tlearn: 0.6728027\ttotal: 1.35s\tremaining: 35.7s\n",
      "42:\tlearn: 0.6702610\ttotal: 1.39s\tremaining: 35.7s\n",
      "43:\tlearn: 0.6700180\ttotal: 1.4s\tremaining: 35.1s\n",
      "44:\tlearn: 0.6687308\ttotal: 1.43s\tremaining: 35s\n",
      "45:\tlearn: 0.6664270\ttotal: 1.46s\tremaining: 35s\n",
      "46:\tlearn: 0.6644142\ttotal: 1.49s\tremaining: 35s\n",
      "47:\tlearn: 0.6627111\ttotal: 1.52s\tremaining: 34.9s\n",
      "48:\tlearn: 0.6609483\ttotal: 1.55s\tremaining: 34.9s\n",
      "49:\tlearn: 0.6586198\ttotal: 1.58s\tremaining: 34.8s\n",
      "50:\tlearn: 0.6565997\ttotal: 1.62s\tremaining: 34.8s\n",
      "51:\tlearn: 0.6535144\ttotal: 1.65s\tremaining: 34.8s\n",
      "52:\tlearn: 0.6511392\ttotal: 1.68s\tremaining: 34.7s\n",
      "53:\tlearn: 0.6483915\ttotal: 1.71s\tremaining: 34.7s\n",
      "54:\tlearn: 0.6461504\ttotal: 1.74s\tremaining: 34.6s\n",
      "55:\tlearn: 0.6447678\ttotal: 1.77s\tremaining: 34.6s\n",
      "56:\tlearn: 0.6434075\ttotal: 1.8s\tremaining: 34.6s\n",
      "57:\tlearn: 0.6407140\ttotal: 1.83s\tremaining: 34.6s\n",
      "58:\tlearn: 0.6371646\ttotal: 1.87s\tremaining: 34.5s\n",
      "59:\tlearn: 0.6349765\ttotal: 1.9s\tremaining: 34.5s\n",
      "60:\tlearn: 0.6333472\ttotal: 1.93s\tremaining: 34.5s\n",
      "61:\tlearn: 0.6306751\ttotal: 1.96s\tremaining: 34.4s\n",
      "62:\tlearn: 0.6287525\ttotal: 1.99s\tremaining: 34.3s\n",
      "63:\tlearn: 0.6258181\ttotal: 2.02s\tremaining: 34.3s\n",
      "64:\tlearn: 0.6248340\ttotal: 2.05s\tremaining: 34.3s\n",
      "65:\tlearn: 0.6240627\ttotal: 2.08s\tremaining: 34.2s\n",
      "66:\tlearn: 0.6221574\ttotal: 2.11s\tremaining: 34.2s\n",
      "67:\tlearn: 0.6193017\ttotal: 2.14s\tremaining: 34.1s\n",
      "68:\tlearn: 0.6188567\ttotal: 2.18s\tremaining: 34.1s\n",
      "69:\tlearn: 0.6177239\ttotal: 2.21s\tremaining: 34.1s\n",
      "70:\tlearn: 0.6155366\ttotal: 2.24s\tremaining: 34.1s\n",
      "71:\tlearn: 0.6139094\ttotal: 2.27s\tremaining: 34s\n",
      "72:\tlearn: 0.6126632\ttotal: 2.3s\tremaining: 34s\n",
      "73:\tlearn: 0.6103871\ttotal: 2.33s\tremaining: 33.9s\n",
      "74:\tlearn: 0.6094615\ttotal: 2.36s\tremaining: 33.9s\n",
      "75:\tlearn: 0.6078368\ttotal: 2.4s\tremaining: 33.9s\n",
      "76:\tlearn: 0.6062040\ttotal: 2.43s\tremaining: 33.8s\n",
      "77:\tlearn: 0.6044536\ttotal: 2.46s\tremaining: 33.8s\n",
      "78:\tlearn: 0.6032460\ttotal: 2.49s\tremaining: 33.8s\n",
      "79:\tlearn: 0.6008260\ttotal: 2.52s\tremaining: 33.7s\n",
      "80:\tlearn: 0.5996087\ttotal: 2.55s\tremaining: 33.7s\n",
      "81:\tlearn: 0.5985724\ttotal: 2.58s\tremaining: 33.7s\n",
      "82:\tlearn: 0.5961902\ttotal: 2.62s\tremaining: 33.6s\n",
      "83:\tlearn: 0.5957170\ttotal: 2.65s\tremaining: 33.6s\n",
      "84:\tlearn: 0.5936290\ttotal: 2.68s\tremaining: 33.6s\n",
      "85:\tlearn: 0.5920720\ttotal: 2.71s\tremaining: 33.6s\n",
      "86:\tlearn: 0.5905274\ttotal: 2.75s\tremaining: 33.6s\n",
      "87:\tlearn: 0.5888855\ttotal: 2.78s\tremaining: 33.6s\n",
      "88:\tlearn: 0.5876013\ttotal: 2.81s\tremaining: 33.5s\n",
      "89:\tlearn: 0.5864574\ttotal: 2.85s\tremaining: 33.5s\n",
      "90:\tlearn: 0.5854716\ttotal: 2.88s\tremaining: 33.5s\n",
      "91:\tlearn: 0.5841445\ttotal: 2.91s\tremaining: 33.5s\n",
      "92:\tlearn: 0.5825151\ttotal: 2.94s\tremaining: 33.5s\n",
      "93:\tlearn: 0.5807387\ttotal: 2.98s\tremaining: 33.4s\n",
      "94:\tlearn: 0.5794215\ttotal: 3.01s\tremaining: 33.4s\n",
      "95:\tlearn: 0.5780012\ttotal: 3.04s\tremaining: 33.4s\n",
      "96:\tlearn: 0.5763455\ttotal: 3.07s\tremaining: 33.3s\n",
      "97:\tlearn: 0.5748717\ttotal: 3.1s\tremaining: 33.3s\n",
      "98:\tlearn: 0.5735725\ttotal: 3.13s\tremaining: 33.3s\n",
      "99:\tlearn: 0.5720329\ttotal: 3.17s\tremaining: 33.3s\n",
      "100:\tlearn: 0.5700030\ttotal: 3.2s\tremaining: 33.3s\n",
      "101:\tlearn: 0.5676406\ttotal: 3.23s\tremaining: 33.2s\n",
      "102:\tlearn: 0.5666367\ttotal: 3.26s\tremaining: 33.2s\n",
      "103:\tlearn: 0.5652116\ttotal: 3.29s\tremaining: 33.1s\n",
      "104:\tlearn: 0.5633666\ttotal: 3.33s\tremaining: 33.2s\n",
      "105:\tlearn: 0.5622209\ttotal: 3.36s\tremaining: 33.1s\n",
      "106:\tlearn: 0.5603159\ttotal: 3.39s\tremaining: 33.1s\n",
      "107:\tlearn: 0.5590507\ttotal: 3.42s\tremaining: 33s\n",
      "108:\tlearn: 0.5568158\ttotal: 3.46s\tremaining: 33s\n",
      "109:\tlearn: 0.5551965\ttotal: 3.49s\tremaining: 33s\n",
      "110:\tlearn: 0.5544898\ttotal: 3.53s\tremaining: 33s\n",
      "111:\tlearn: 0.5530855\ttotal: 3.57s\tremaining: 33.1s\n",
      "112:\tlearn: 0.5519388\ttotal: 3.6s\tremaining: 33.1s\n",
      "113:\tlearn: 0.5509034\ttotal: 3.63s\tremaining: 33s\n",
      "114:\tlearn: 0.5498023\ttotal: 3.67s\tremaining: 33s\n",
      "115:\tlearn: 0.5489314\ttotal: 3.7s\tremaining: 33s\n",
      "116:\tlearn: 0.5474750\ttotal: 3.73s\tremaining: 33s\n",
      "117:\tlearn: 0.5473316\ttotal: 3.74s\tremaining: 32.7s\n",
      "118:\tlearn: 0.5457245\ttotal: 3.78s\tremaining: 32.7s\n",
      "119:\tlearn: 0.5447706\ttotal: 3.81s\tremaining: 32.7s\n",
      "120:\tlearn: 0.5429770\ttotal: 3.85s\tremaining: 32.7s\n",
      "121:\tlearn: 0.5419524\ttotal: 3.88s\tremaining: 32.7s\n",
      "122:\tlearn: 0.5405816\ttotal: 3.91s\tremaining: 32.6s\n",
      "123:\tlearn: 0.5404993\ttotal: 3.92s\tremaining: 32.4s\n",
      "124:\tlearn: 0.5404282\ttotal: 3.93s\tremaining: 32.2s\n",
      "125:\tlearn: 0.5392197\ttotal: 3.96s\tremaining: 32.2s\n",
      "126:\tlearn: 0.5370556\ttotal: 3.99s\tremaining: 32.2s\n",
      "127:\tlearn: 0.5370291\ttotal: 4s\tremaining: 31.9s\n",
      "128:\tlearn: 0.5359346\ttotal: 4.03s\tremaining: 31.9s\n",
      "129:\tlearn: 0.5343704\ttotal: 4.06s\tremaining: 31.9s\n",
      "130:\tlearn: 0.5333527\ttotal: 4.1s\tremaining: 31.9s\n",
      "131:\tlearn: 0.5316986\ttotal: 4.13s\tremaining: 31.8s\n",
      "132:\tlearn: 0.5302674\ttotal: 4.16s\tremaining: 31.8s\n",
      "133:\tlearn: 0.5291279\ttotal: 4.2s\tremaining: 31.8s\n",
      "134:\tlearn: 0.5283679\ttotal: 4.23s\tremaining: 31.8s\n",
      "135:\tlearn: 0.5268293\ttotal: 4.26s\tremaining: 31.8s\n",
      "136:\tlearn: 0.5254848\ttotal: 4.29s\tremaining: 31.7s\n",
      "137:\tlearn: 0.5246555\ttotal: 4.33s\tremaining: 31.7s\n",
      "138:\tlearn: 0.5227420\ttotal: 4.36s\tremaining: 31.7s\n",
      "139:\tlearn: 0.5207847\ttotal: 4.39s\tremaining: 31.7s\n",
      "140:\tlearn: 0.5199333\ttotal: 4.42s\tremaining: 31.6s\n",
      "141:\tlearn: 0.5186997\ttotal: 4.45s\tremaining: 31.6s\n",
      "142:\tlearn: 0.5173114\ttotal: 4.49s\tremaining: 31.6s\n",
      "143:\tlearn: 0.5162065\ttotal: 4.51s\tremaining: 31.5s\n",
      "144:\tlearn: 0.5147820\ttotal: 4.55s\tremaining: 31.5s\n",
      "145:\tlearn: 0.5134699\ttotal: 4.58s\tremaining: 31.5s\n",
      "146:\tlearn: 0.5122178\ttotal: 4.61s\tremaining: 31.5s\n",
      "147:\tlearn: 0.5113681\ttotal: 4.64s\tremaining: 31.4s\n",
      "148:\tlearn: 0.5098958\ttotal: 4.67s\tremaining: 31.4s\n",
      "149:\tlearn: 0.5084137\ttotal: 4.7s\tremaining: 31.4s\n",
      "150:\tlearn: 0.5071702\ttotal: 4.73s\tremaining: 31.3s\n",
      "151:\tlearn: 0.5059913\ttotal: 4.77s\tremaining: 31.3s\n",
      "152:\tlearn: 0.5050984\ttotal: 4.8s\tremaining: 31.3s\n",
      "153:\tlearn: 0.5044335\ttotal: 4.83s\tremaining: 31.2s\n",
      "154:\tlearn: 0.5043243\ttotal: 4.84s\tremaining: 31.1s\n",
      "155:\tlearn: 0.5033286\ttotal: 4.87s\tremaining: 31s\n",
      "156:\tlearn: 0.5030274\ttotal: 4.9s\tremaining: 31s\n",
      "157:\tlearn: 0.5013922\ttotal: 4.94s\tremaining: 31s\n",
      "158:\tlearn: 0.5008910\ttotal: 4.97s\tremaining: 31s\n",
      "159:\tlearn: 0.4999576\ttotal: 5s\tremaining: 30.9s\n",
      "160:\tlearn: 0.4983915\ttotal: 5.04s\tremaining: 31s\n",
      "161:\tlearn: 0.4962831\ttotal: 5.08s\tremaining: 31s\n",
      "162:\tlearn: 0.4953486\ttotal: 5.11s\tremaining: 31s\n",
      "163:\tlearn: 0.4928349\ttotal: 5.14s\tremaining: 30.9s\n",
      "164:\tlearn: 0.4920484\ttotal: 5.18s\tremaining: 30.9s\n",
      "165:\tlearn: 0.4910779\ttotal: 5.21s\tremaining: 30.9s\n",
      "166:\tlearn: 0.4900088\ttotal: 5.24s\tremaining: 30.9s\n",
      "167:\tlearn: 0.4884428\ttotal: 5.27s\tremaining: 30.8s\n",
      "168:\tlearn: 0.4879913\ttotal: 5.3s\tremaining: 30.8s\n",
      "169:\tlearn: 0.4868327\ttotal: 5.34s\tremaining: 30.8s\n",
      "170:\tlearn: 0.4863881\ttotal: 5.37s\tremaining: 30.7s\n",
      "171:\tlearn: 0.4852384\ttotal: 5.4s\tremaining: 30.7s\n",
      "172:\tlearn: 0.4843600\ttotal: 5.43s\tremaining: 30.7s\n",
      "173:\tlearn: 0.4825915\ttotal: 5.46s\tremaining: 30.6s\n",
      "174:\tlearn: 0.4812951\ttotal: 5.49s\tremaining: 30.6s\n",
      "175:\tlearn: 0.4802677\ttotal: 5.53s\tremaining: 30.6s\n",
      "176:\tlearn: 0.4779981\ttotal: 5.56s\tremaining: 30.6s\n",
      "177:\tlearn: 0.4763903\ttotal: 5.59s\tremaining: 30.5s\n",
      "178:\tlearn: 0.4753307\ttotal: 5.62s\tremaining: 30.5s\n",
      "179:\tlearn: 0.4741889\ttotal: 5.65s\tremaining: 30.5s\n",
      "180:\tlearn: 0.4729883\ttotal: 5.68s\tremaining: 30.4s\n",
      "181:\tlearn: 0.4728359\ttotal: 5.7s\tremaining: 30.3s\n",
      "182:\tlearn: 0.4719440\ttotal: 5.73s\tremaining: 30.3s\n",
      "183:\tlearn: 0.4707066\ttotal: 5.76s\tremaining: 30.2s\n",
      "184:\tlearn: 0.4689503\ttotal: 5.79s\tremaining: 30.2s\n",
      "185:\tlearn: 0.4679695\ttotal: 5.82s\tremaining: 30.2s\n",
      "186:\tlearn: 0.4669542\ttotal: 5.85s\tremaining: 30.1s\n",
      "187:\tlearn: 0.4664045\ttotal: 5.88s\tremaining: 30.1s\n",
      "188:\tlearn: 0.4650885\ttotal: 5.92s\tremaining: 30.1s\n",
      "189:\tlearn: 0.4640293\ttotal: 5.95s\tremaining: 30.1s\n",
      "190:\tlearn: 0.4628973\ttotal: 5.98s\tremaining: 30s\n",
      "191:\tlearn: 0.4616304\ttotal: 6.01s\tremaining: 30s\n",
      "192:\tlearn: 0.4602405\ttotal: 6.04s\tremaining: 29.9s\n",
      "193:\tlearn: 0.4588705\ttotal: 6.07s\tremaining: 29.9s\n",
      "194:\tlearn: 0.4576578\ttotal: 6.1s\tremaining: 29.9s\n",
      "195:\tlearn: 0.4562025\ttotal: 6.13s\tremaining: 29.9s\n",
      "196:\tlearn: 0.4546036\ttotal: 6.17s\tremaining: 29.8s\n",
      "197:\tlearn: 0.4529232\ttotal: 6.2s\tremaining: 29.8s\n",
      "198:\tlearn: 0.4513420\ttotal: 6.23s\tremaining: 29.8s\n",
      "199:\tlearn: 0.4508707\ttotal: 6.26s\tremaining: 29.7s\n",
      "200:\tlearn: 0.4501492\ttotal: 6.29s\tremaining: 29.7s\n",
      "201:\tlearn: 0.4485680\ttotal: 6.32s\tremaining: 29.7s\n",
      "202:\tlearn: 0.4479878\ttotal: 6.35s\tremaining: 29.6s\n",
      "203:\tlearn: 0.4474000\ttotal: 6.38s\tremaining: 29.6s\n",
      "204:\tlearn: 0.4456319\ttotal: 6.41s\tremaining: 29.6s\n",
      "205:\tlearn: 0.4437171\ttotal: 6.44s\tremaining: 29.5s\n",
      "206:\tlearn: 0.4430608\ttotal: 6.47s\tremaining: 29.5s\n",
      "207:\tlearn: 0.4426858\ttotal: 6.51s\tremaining: 29.5s\n",
      "208:\tlearn: 0.4421705\ttotal: 6.54s\tremaining: 29.4s\n",
      "209:\tlearn: 0.4409507\ttotal: 6.57s\tremaining: 29.4s\n",
      "210:\tlearn: 0.4397536\ttotal: 6.61s\tremaining: 29.4s\n",
      "211:\tlearn: 0.4387202\ttotal: 6.64s\tremaining: 29.4s\n",
      "212:\tlearn: 0.4375985\ttotal: 6.67s\tremaining: 29.3s\n",
      "213:\tlearn: 0.4365638\ttotal: 6.7s\tremaining: 29.3s\n",
      "214:\tlearn: 0.4344183\ttotal: 6.73s\tremaining: 29.3s\n",
      "215:\tlearn: 0.4330888\ttotal: 6.77s\tremaining: 29.3s\n",
      "216:\tlearn: 0.4317861\ttotal: 6.8s\tremaining: 29.2s\n",
      "217:\tlearn: 0.4312056\ttotal: 6.83s\tremaining: 29.2s\n",
      "218:\tlearn: 0.4310349\ttotal: 6.86s\tremaining: 29.2s\n",
      "219:\tlearn: 0.4298568\ttotal: 6.89s\tremaining: 29.1s\n",
      "220:\tlearn: 0.4294807\ttotal: 6.92s\tremaining: 29.1s\n",
      "221:\tlearn: 0.4282029\ttotal: 6.95s\tremaining: 29.1s\n",
      "222:\tlearn: 0.4263044\ttotal: 6.98s\tremaining: 29s\n",
      "223:\tlearn: 0.4256908\ttotal: 7.01s\tremaining: 29s\n",
      "224:\tlearn: 0.4252268\ttotal: 7.05s\tremaining: 29s\n",
      "225:\tlearn: 0.4243678\ttotal: 7.08s\tremaining: 28.9s\n",
      "226:\tlearn: 0.4236366\ttotal: 7.11s\tremaining: 28.9s\n",
      "227:\tlearn: 0.4230388\ttotal: 7.14s\tremaining: 28.9s\n",
      "228:\tlearn: 0.4222849\ttotal: 7.17s\tremaining: 28.8s\n",
      "229:\tlearn: 0.4212507\ttotal: 7.2s\tremaining: 28.8s\n",
      "230:\tlearn: 0.4198137\ttotal: 7.23s\tremaining: 28.8s\n",
      "231:\tlearn: 0.4194650\ttotal: 7.26s\tremaining: 28.7s\n",
      "232:\tlearn: 0.4183527\ttotal: 7.29s\tremaining: 28.7s\n",
      "233:\tlearn: 0.4173698\ttotal: 7.33s\tremaining: 28.7s\n",
      "234:\tlearn: 0.4165550\ttotal: 7.36s\tremaining: 28.6s\n",
      "235:\tlearn: 0.4154360\ttotal: 7.39s\tremaining: 28.6s\n",
      "236:\tlearn: 0.4145565\ttotal: 7.42s\tremaining: 28.6s\n",
      "237:\tlearn: 0.4138917\ttotal: 7.46s\tremaining: 28.6s\n",
      "238:\tlearn: 0.4125196\ttotal: 7.5s\tremaining: 28.6s\n",
      "239:\tlearn: 0.4114731\ttotal: 7.53s\tremaining: 28.6s\n",
      "240:\tlearn: 0.4109239\ttotal: 7.57s\tremaining: 28.6s\n",
      "241:\tlearn: 0.4106217\ttotal: 7.6s\tremaining: 28.5s\n",
      "242:\tlearn: 0.4096048\ttotal: 7.63s\tremaining: 28.5s\n",
      "243:\tlearn: 0.4085741\ttotal: 7.67s\tremaining: 28.5s\n",
      "244:\tlearn: 0.4082112\ttotal: 7.7s\tremaining: 28.4s\n",
      "245:\tlearn: 0.4079958\ttotal: 7.73s\tremaining: 28.4s\n",
      "246:\tlearn: 0.4075107\ttotal: 7.77s\tremaining: 28.4s\n",
      "247:\tlearn: 0.4058699\ttotal: 7.8s\tremaining: 28.4s\n",
      "248:\tlearn: 0.4050593\ttotal: 7.84s\tremaining: 28.4s\n",
      "249:\tlearn: 0.4046182\ttotal: 7.87s\tremaining: 28.3s\n",
      "250:\tlearn: 0.4036071\ttotal: 7.91s\tremaining: 28.3s\n",
      "251:\tlearn: 0.4033899\ttotal: 7.94s\tremaining: 28.3s\n",
      "252:\tlearn: 0.4022113\ttotal: 7.96s\tremaining: 28.2s\n",
      "253:\tlearn: 0.4017561\ttotal: 8s\tremaining: 28.2s\n",
      "254:\tlearn: 0.4006801\ttotal: 8.03s\tremaining: 28.2s\n",
      "255:\tlearn: 0.3993524\ttotal: 8.06s\tremaining: 28.1s\n",
      "256:\tlearn: 0.3985515\ttotal: 8.09s\tremaining: 28.1s\n",
      "257:\tlearn: 0.3979444\ttotal: 8.12s\tremaining: 28.1s\n",
      "258:\tlearn: 0.3967697\ttotal: 8.16s\tremaining: 28.1s\n",
      "259:\tlearn: 0.3956228\ttotal: 8.19s\tremaining: 28s\n",
      "260:\tlearn: 0.3951159\ttotal: 8.22s\tremaining: 28s\n",
      "261:\tlearn: 0.3948932\ttotal: 8.25s\tremaining: 28s\n",
      "262:\tlearn: 0.3945388\ttotal: 8.29s\tremaining: 27.9s\n",
      "263:\tlearn: 0.3939376\ttotal: 8.31s\tremaining: 27.9s\n",
      "264:\tlearn: 0.3928810\ttotal: 8.35s\tremaining: 27.9s\n",
      "265:\tlearn: 0.3921912\ttotal: 8.38s\tremaining: 27.8s\n",
      "266:\tlearn: 0.3917760\ttotal: 8.41s\tremaining: 27.8s\n",
      "267:\tlearn: 0.3904503\ttotal: 8.44s\tremaining: 27.8s\n",
      "268:\tlearn: 0.3898932\ttotal: 8.48s\tremaining: 27.8s\n",
      "269:\tlearn: 0.3891814\ttotal: 8.52s\tremaining: 27.8s\n",
      "270:\tlearn: 0.3888559\ttotal: 8.55s\tremaining: 27.8s\n",
      "271:\tlearn: 0.3879024\ttotal: 8.59s\tremaining: 27.7s\n",
      "272:\tlearn: 0.3873248\ttotal: 8.63s\tremaining: 27.7s\n",
      "273:\tlearn: 0.3870079\ttotal: 8.67s\tremaining: 27.7s\n",
      "274:\tlearn: 0.3864557\ttotal: 8.71s\tremaining: 27.7s\n",
      "275:\tlearn: 0.3861155\ttotal: 8.75s\tremaining: 27.7s\n",
      "276:\tlearn: 0.3854487\ttotal: 8.78s\tremaining: 27.7s\n",
      "277:\tlearn: 0.3843193\ttotal: 8.82s\tremaining: 27.7s\n",
      "278:\tlearn: 0.3840245\ttotal: 8.85s\tremaining: 27.6s\n",
      "279:\tlearn: 0.3837721\ttotal: 8.89s\tremaining: 27.6s\n",
      "280:\tlearn: 0.3834648\ttotal: 8.92s\tremaining: 27.6s\n",
      "281:\tlearn: 0.3820254\ttotal: 8.95s\tremaining: 27.6s\n",
      "282:\tlearn: 0.3818813\ttotal: 8.99s\tremaining: 27.5s\n",
      "283:\tlearn: 0.3816556\ttotal: 9.03s\tremaining: 27.5s\n",
      "284:\tlearn: 0.3811181\ttotal: 9.06s\tremaining: 27.5s\n",
      "285:\tlearn: 0.3805581\ttotal: 9.09s\tremaining: 27.5s\n",
      "286:\tlearn: 0.3797610\ttotal: 9.12s\tremaining: 27.4s\n",
      "287:\tlearn: 0.3790663\ttotal: 9.16s\tremaining: 27.4s\n",
      "288:\tlearn: 0.3783492\ttotal: 9.19s\tremaining: 27.4s\n",
      "289:\tlearn: 0.3771972\ttotal: 9.24s\tremaining: 27.4s\n",
      "290:\tlearn: 0.3766286\ttotal: 9.27s\tremaining: 27.4s\n",
      "291:\tlearn: 0.3759784\ttotal: 9.3s\tremaining: 27.3s\n",
      "292:\tlearn: 0.3750236\ttotal: 9.34s\tremaining: 27.3s\n",
      "293:\tlearn: 0.3747609\ttotal: 9.37s\tremaining: 27.3s\n",
      "294:\tlearn: 0.3740436\ttotal: 9.4s\tremaining: 27.2s\n",
      "295:\tlearn: 0.3732919\ttotal: 9.43s\tremaining: 27.2s\n",
      "296:\tlearn: 0.3722888\ttotal: 9.46s\tremaining: 27.2s\n",
      "297:\tlearn: 0.3720340\ttotal: 9.49s\tremaining: 27.1s\n",
      "298:\tlearn: 0.3717904\ttotal: 9.52s\tremaining: 27.1s\n",
      "299:\tlearn: 0.3710707\ttotal: 9.55s\tremaining: 27.1s\n",
      "300:\tlearn: 0.3698994\ttotal: 9.58s\tremaining: 27s\n",
      "301:\tlearn: 0.3688428\ttotal: 9.61s\tremaining: 27s\n",
      "302:\tlearn: 0.3679492\ttotal: 9.64s\tremaining: 26.9s\n",
      "303:\tlearn: 0.3673350\ttotal: 9.67s\tremaining: 26.9s\n",
      "304:\tlearn: 0.3669872\ttotal: 9.7s\tremaining: 26.9s\n",
      "305:\tlearn: 0.3661152\ttotal: 9.73s\tremaining: 26.8s\n",
      "306:\tlearn: 0.3652183\ttotal: 9.77s\tremaining: 26.8s\n",
      "307:\tlearn: 0.3642651\ttotal: 9.79s\tremaining: 26.8s\n",
      "308:\tlearn: 0.3636747\ttotal: 9.83s\tremaining: 26.7s\n",
      "309:\tlearn: 0.3627618\ttotal: 9.86s\tremaining: 26.7s\n",
      "310:\tlearn: 0.3620402\ttotal: 9.89s\tremaining: 26.7s\n",
      "311:\tlearn: 0.3610771\ttotal: 9.92s\tremaining: 26.6s\n",
      "312:\tlearn: 0.3601139\ttotal: 9.96s\tremaining: 26.6s\n",
      "313:\tlearn: 0.3596319\ttotal: 10s\tremaining: 26.6s\n",
      "314:\tlearn: 0.3593132\ttotal: 10s\tremaining: 26.6s\n",
      "315:\tlearn: 0.3588783\ttotal: 10.1s\tremaining: 26.6s\n",
      "316:\tlearn: 0.3586309\ttotal: 10.1s\tremaining: 26.5s\n",
      "317:\tlearn: 0.3581554\ttotal: 10.1s\tremaining: 26.5s\n",
      "318:\tlearn: 0.3572071\ttotal: 10.2s\tremaining: 26.5s\n",
      "319:\tlearn: 0.3565578\ttotal: 10.2s\tremaining: 26.4s\n",
      "320:\tlearn: 0.3562818\ttotal: 10.2s\tremaining: 26.4s\n",
      "321:\tlearn: 0.3557405\ttotal: 10.3s\tremaining: 26.4s\n",
      "322:\tlearn: 0.3553741\ttotal: 10.3s\tremaining: 26.3s\n",
      "323:\tlearn: 0.3547705\ttotal: 10.3s\tremaining: 26.3s\n",
      "324:\tlearn: 0.3537379\ttotal: 10.4s\tremaining: 26.3s\n",
      "325:\tlearn: 0.3531784\ttotal: 10.4s\tremaining: 26.2s\n",
      "326:\tlearn: 0.3525269\ttotal: 10.4s\tremaining: 26.2s\n",
      "327:\tlearn: 0.3517890\ttotal: 10.4s\tremaining: 26.2s\n",
      "328:\tlearn: 0.3513252\ttotal: 10.5s\tremaining: 26.1s\n",
      "329:\tlearn: 0.3506307\ttotal: 10.5s\tremaining: 26.1s\n",
      "330:\tlearn: 0.3498591\ttotal: 10.5s\tremaining: 26.1s\n",
      "331:\tlearn: 0.3492716\ttotal: 10.6s\tremaining: 26.1s\n",
      "332:\tlearn: 0.3484450\ttotal: 10.6s\tremaining: 26s\n",
      "333:\tlearn: 0.3482651\ttotal: 10.6s\tremaining: 26s\n",
      "334:\tlearn: 0.3479404\ttotal: 10.7s\tremaining: 26s\n",
      "335:\tlearn: 0.3470803\ttotal: 10.7s\tremaining: 25.9s\n",
      "336:\tlearn: 0.3461125\ttotal: 10.7s\tremaining: 25.9s\n",
      "337:\tlearn: 0.3448805\ttotal: 10.8s\tremaining: 25.9s\n",
      "338:\tlearn: 0.3438646\ttotal: 10.8s\tremaining: 25.8s\n",
      "339:\tlearn: 0.3432734\ttotal: 10.8s\tremaining: 25.8s\n",
      "340:\tlearn: 0.3429651\ttotal: 10.9s\tremaining: 25.8s\n",
      "341:\tlearn: 0.3423369\ttotal: 10.9s\tremaining: 25.7s\n",
      "342:\tlearn: 0.3414866\ttotal: 10.9s\tremaining: 25.7s\n",
      "343:\tlearn: 0.3409620\ttotal: 11s\tremaining: 25.7s\n",
      "344:\tlearn: 0.3399807\ttotal: 11s\tremaining: 25.7s\n",
      "345:\tlearn: 0.3390622\ttotal: 11s\tremaining: 25.6s\n",
      "346:\tlearn: 0.3380106\ttotal: 11.1s\tremaining: 25.6s\n",
      "347:\tlearn: 0.3371103\ttotal: 11.1s\tremaining: 25.6s\n",
      "348:\tlearn: 0.3363373\ttotal: 11.1s\tremaining: 25.5s\n",
      "349:\tlearn: 0.3352335\ttotal: 11.2s\tremaining: 25.5s\n",
      "350:\tlearn: 0.3344240\ttotal: 11.2s\tremaining: 25.5s\n",
      "351:\tlearn: 0.3334457\ttotal: 11.2s\tremaining: 25.4s\n",
      "352:\tlearn: 0.3329450\ttotal: 11.2s\tremaining: 25.4s\n",
      "353:\tlearn: 0.3321003\ttotal: 11.3s\tremaining: 25.4s\n",
      "354:\tlearn: 0.3311615\ttotal: 11.3s\tremaining: 25.3s\n",
      "355:\tlearn: 0.3299954\ttotal: 11.3s\tremaining: 25.3s\n",
      "356:\tlearn: 0.3294078\ttotal: 11.4s\tremaining: 25.3s\n",
      "357:\tlearn: 0.3287887\ttotal: 11.4s\tremaining: 25.2s\n",
      "358:\tlearn: 0.3283156\ttotal: 11.4s\tremaining: 25.2s\n",
      "359:\tlearn: 0.3272610\ttotal: 11.5s\tremaining: 25.2s\n",
      "360:\tlearn: 0.3263981\ttotal: 11.5s\tremaining: 25.1s\n",
      "361:\tlearn: 0.3261386\ttotal: 11.5s\tremaining: 25.1s\n",
      "362:\tlearn: 0.3257451\ttotal: 11.6s\tremaining: 25.1s\n",
      "363:\tlearn: 0.3250718\ttotal: 11.6s\tremaining: 25s\n",
      "364:\tlearn: 0.3235672\ttotal: 11.6s\tremaining: 25s\n",
      "365:\tlearn: 0.3232397\ttotal: 11.7s\tremaining: 25s\n",
      "366:\tlearn: 0.3220372\ttotal: 11.7s\tremaining: 24.9s\n",
      "367:\tlearn: 0.3214403\ttotal: 11.7s\tremaining: 24.9s\n",
      "368:\tlearn: 0.3205242\ttotal: 11.7s\tremaining: 24.9s\n",
      "369:\tlearn: 0.3200701\ttotal: 11.8s\tremaining: 24.8s\n",
      "370:\tlearn: 0.3192433\ttotal: 11.8s\tremaining: 24.8s\n",
      "371:\tlearn: 0.3180267\ttotal: 11.8s\tremaining: 24.8s\n",
      "372:\tlearn: 0.3172585\ttotal: 11.9s\tremaining: 24.7s\n",
      "373:\tlearn: 0.3169178\ttotal: 11.9s\tremaining: 24.7s\n",
      "374:\tlearn: 0.3160727\ttotal: 11.9s\tremaining: 24.7s\n",
      "375:\tlearn: 0.3153786\ttotal: 12s\tremaining: 24.6s\n",
      "376:\tlearn: 0.3151949\ttotal: 12s\tremaining: 24.6s\n",
      "377:\tlearn: 0.3142764\ttotal: 12s\tremaining: 24.6s\n",
      "378:\tlearn: 0.3136419\ttotal: 12.1s\tremaining: 24.5s\n",
      "379:\tlearn: 0.3131057\ttotal: 12.1s\tremaining: 24.5s\n",
      "380:\tlearn: 0.3124675\ttotal: 12.1s\tremaining: 24.5s\n",
      "381:\tlearn: 0.3117464\ttotal: 12.2s\tremaining: 24.4s\n",
      "382:\tlearn: 0.3115947\ttotal: 12.2s\tremaining: 24.4s\n",
      "383:\tlearn: 0.3110172\ttotal: 12.2s\tremaining: 24.4s\n",
      "384:\tlearn: 0.3102914\ttotal: 12.2s\tremaining: 24.3s\n",
      "385:\tlearn: 0.3096189\ttotal: 12.3s\tremaining: 24.3s\n",
      "386:\tlearn: 0.3087993\ttotal: 12.3s\tremaining: 24.3s\n",
      "387:\tlearn: 0.3075029\ttotal: 12.3s\tremaining: 24.3s\n",
      "388:\tlearn: 0.3074891\ttotal: 12.4s\tremaining: 24.2s\n",
      "389:\tlearn: 0.3067493\ttotal: 12.4s\tremaining: 24.2s\n",
      "390:\tlearn: 0.3059090\ttotal: 12.4s\tremaining: 24.2s\n",
      "391:\tlearn: 0.3052242\ttotal: 12.5s\tremaining: 24.1s\n",
      "392:\tlearn: 0.3041720\ttotal: 12.5s\tremaining: 24.1s\n",
      "393:\tlearn: 0.3035657\ttotal: 12.5s\tremaining: 24.1s\n",
      "394:\tlearn: 0.3033090\ttotal: 12.6s\tremaining: 24s\n",
      "395:\tlearn: 0.3027695\ttotal: 12.6s\tremaining: 24s\n",
      "396:\tlearn: 0.3019878\ttotal: 12.6s\tremaining: 24s\n",
      "397:\tlearn: 0.3014847\ttotal: 12.7s\tremaining: 23.9s\n",
      "398:\tlearn: 0.3008544\ttotal: 12.7s\tremaining: 23.9s\n",
      "399:\tlearn: 0.3002315\ttotal: 12.7s\tremaining: 23.9s\n",
      "400:\tlearn: 0.3000436\ttotal: 12.8s\tremaining: 23.8s\n",
      "401:\tlearn: 0.2996114\ttotal: 12.8s\tremaining: 23.8s\n",
      "402:\tlearn: 0.2989081\ttotal: 12.8s\tremaining: 23.8s\n",
      "403:\tlearn: 0.2987534\ttotal: 12.8s\tremaining: 23.7s\n",
      "404:\tlearn: 0.2977508\ttotal: 12.9s\tremaining: 23.7s\n",
      "405:\tlearn: 0.2968824\ttotal: 12.9s\tremaining: 23.7s\n",
      "406:\tlearn: 0.2962864\ttotal: 12.9s\tremaining: 23.6s\n",
      "407:\tlearn: 0.2957635\ttotal: 13s\tremaining: 23.6s\n",
      "408:\tlearn: 0.2952044\ttotal: 13s\tremaining: 23.6s\n",
      "409:\tlearn: 0.2948209\ttotal: 13s\tremaining: 23.5s\n",
      "410:\tlearn: 0.2944072\ttotal: 13.1s\tremaining: 23.5s\n",
      "411:\tlearn: 0.2937025\ttotal: 13.1s\tremaining: 23.5s\n",
      "412:\tlearn: 0.2933495\ttotal: 13.1s\tremaining: 23.4s\n",
      "413:\tlearn: 0.2924438\ttotal: 13.2s\tremaining: 23.4s\n",
      "414:\tlearn: 0.2917554\ttotal: 13.2s\tremaining: 23.4s\n",
      "415:\tlearn: 0.2910721\ttotal: 13.2s\tremaining: 23.3s\n",
      "416:\tlearn: 0.2906974\ttotal: 13.3s\tremaining: 23.3s\n",
      "417:\tlearn: 0.2903213\ttotal: 13.3s\tremaining: 23.3s\n",
      "418:\tlearn: 0.2893798\ttotal: 13.3s\tremaining: 23.2s\n",
      "419:\tlearn: 0.2886382\ttotal: 13.4s\tremaining: 23.2s\n",
      "420:\tlearn: 0.2878575\ttotal: 13.4s\tremaining: 23.2s\n",
      "421:\tlearn: 0.2876862\ttotal: 13.4s\tremaining: 23.2s\n",
      "422:\tlearn: 0.2871532\ttotal: 13.5s\tremaining: 23.1s\n",
      "423:\tlearn: 0.2865310\ttotal: 13.5s\tremaining: 23.1s\n",
      "424:\tlearn: 0.2860901\ttotal: 13.5s\tremaining: 23.1s\n",
      "425:\tlearn: 0.2850041\ttotal: 13.6s\tremaining: 23s\n",
      "426:\tlearn: 0.2839543\ttotal: 13.6s\tremaining: 23s\n",
      "427:\tlearn: 0.2833515\ttotal: 13.6s\tremaining: 23s\n",
      "428:\tlearn: 0.2828018\ttotal: 13.7s\tremaining: 22.9s\n",
      "429:\tlearn: 0.2820048\ttotal: 13.7s\tremaining: 22.9s\n",
      "430:\tlearn: 0.2818821\ttotal: 13.7s\tremaining: 22.9s\n",
      "431:\tlearn: 0.2809864\ttotal: 13.7s\tremaining: 22.8s\n",
      "432:\tlearn: 0.2806411\ttotal: 13.8s\tremaining: 22.8s\n",
      "433:\tlearn: 0.2802459\ttotal: 13.8s\tremaining: 22.8s\n",
      "434:\tlearn: 0.2799544\ttotal: 13.8s\tremaining: 22.8s\n",
      "435:\tlearn: 0.2790798\ttotal: 13.9s\tremaining: 22.7s\n",
      "436:\tlearn: 0.2784183\ttotal: 13.9s\tremaining: 22.7s\n",
      "437:\tlearn: 0.2780416\ttotal: 13.9s\tremaining: 22.7s\n",
      "438:\tlearn: 0.2773662\ttotal: 14s\tremaining: 22.6s\n",
      "439:\tlearn: 0.2769678\ttotal: 14s\tremaining: 22.6s\n",
      "440:\tlearn: 0.2767608\ttotal: 14s\tremaining: 22.6s\n",
      "441:\tlearn: 0.2758302\ttotal: 14.1s\tremaining: 22.5s\n",
      "442:\tlearn: 0.2754119\ttotal: 14.1s\tremaining: 22.5s\n",
      "443:\tlearn: 0.2751431\ttotal: 14.1s\tremaining: 22.5s\n",
      "444:\tlearn: 0.2748682\ttotal: 14.2s\tremaining: 22.4s\n",
      "445:\tlearn: 0.2745470\ttotal: 14.2s\tremaining: 22.4s\n",
      "446:\tlearn: 0.2738002\ttotal: 14.2s\tremaining: 22.4s\n",
      "447:\tlearn: 0.2730238\ttotal: 14.3s\tremaining: 22.3s\n",
      "448:\tlearn: 0.2724751\ttotal: 14.3s\tremaining: 22.3s\n",
      "449:\tlearn: 0.2722548\ttotal: 14.3s\tremaining: 22.3s\n",
      "450:\tlearn: 0.2716370\ttotal: 14.3s\tremaining: 22.2s\n",
      "451:\tlearn: 0.2710586\ttotal: 14.4s\tremaining: 22.2s\n",
      "452:\tlearn: 0.2700421\ttotal: 14.4s\tremaining: 22.2s\n",
      "453:\tlearn: 0.2692481\ttotal: 14.5s\tremaining: 22.2s\n",
      "454:\tlearn: 0.2692110\ttotal: 14.5s\tremaining: 22.1s\n",
      "455:\tlearn: 0.2686928\ttotal: 14.5s\tremaining: 22.1s\n",
      "456:\tlearn: 0.2686493\ttotal: 14.6s\tremaining: 22.1s\n",
      "457:\tlearn: 0.2680119\ttotal: 14.6s\tremaining: 22s\n",
      "458:\tlearn: 0.2672334\ttotal: 14.6s\tremaining: 22s\n",
      "459:\tlearn: 0.2669227\ttotal: 14.6s\tremaining: 22s\n",
      "460:\tlearn: 0.2662887\ttotal: 14.7s\tremaining: 21.9s\n",
      "461:\tlearn: 0.2662188\ttotal: 14.7s\tremaining: 21.9s\n",
      "462:\tlearn: 0.2661782\ttotal: 14.7s\tremaining: 21.9s\n",
      "463:\tlearn: 0.2657252\ttotal: 14.8s\tremaining: 21.8s\n",
      "464:\tlearn: 0.2650837\ttotal: 14.8s\tremaining: 21.8s\n",
      "465:\tlearn: 0.2648430\ttotal: 14.8s\tremaining: 21.8s\n",
      "466:\tlearn: 0.2642208\ttotal: 14.9s\tremaining: 21.8s\n",
      "467:\tlearn: 0.2636906\ttotal: 14.9s\tremaining: 21.7s\n",
      "468:\tlearn: 0.2630153\ttotal: 14.9s\tremaining: 21.7s\n",
      "469:\tlearn: 0.2625744\ttotal: 15s\tremaining: 21.7s\n",
      "470:\tlearn: 0.2619213\ttotal: 15s\tremaining: 21.6s\n",
      "471:\tlearn: 0.2612839\ttotal: 15s\tremaining: 21.6s\n",
      "472:\tlearn: 0.2606623\ttotal: 15.1s\tremaining: 21.6s\n",
      "473:\tlearn: 0.2600714\ttotal: 15.1s\tremaining: 21.5s\n",
      "474:\tlearn: 0.2598052\ttotal: 15.1s\tremaining: 21.5s\n",
      "475:\tlearn: 0.2593675\ttotal: 15.2s\tremaining: 21.5s\n",
      "476:\tlearn: 0.2590691\ttotal: 15.2s\tremaining: 21.4s\n",
      "477:\tlearn: 0.2584286\ttotal: 15.2s\tremaining: 21.4s\n",
      "478:\tlearn: 0.2575023\ttotal: 15.3s\tremaining: 21.4s\n",
      "479:\tlearn: 0.2570645\ttotal: 15.3s\tremaining: 21.4s\n",
      "480:\tlearn: 0.2563868\ttotal: 15.3s\tremaining: 21.3s\n",
      "481:\tlearn: 0.2558662\ttotal: 15.4s\tremaining: 21.3s\n",
      "482:\tlearn: 0.2549331\ttotal: 15.4s\tremaining: 21.3s\n",
      "483:\tlearn: 0.2539701\ttotal: 15.4s\tremaining: 21.3s\n",
      "484:\tlearn: 0.2532134\ttotal: 15.5s\tremaining: 21.2s\n",
      "485:\tlearn: 0.2528849\ttotal: 15.5s\tremaining: 21.2s\n",
      "486:\tlearn: 0.2519204\ttotal: 15.5s\tremaining: 21.2s\n",
      "487:\tlearn: 0.2512336\ttotal: 15.6s\tremaining: 21.1s\n",
      "488:\tlearn: 0.2509781\ttotal: 15.6s\tremaining: 21.1s\n",
      "489:\tlearn: 0.2505987\ttotal: 15.7s\tremaining: 21.1s\n",
      "490:\tlearn: 0.2499193\ttotal: 15.7s\tremaining: 21.1s\n",
      "491:\tlearn: 0.2496706\ttotal: 15.7s\tremaining: 21s\n",
      "492:\tlearn: 0.2493372\ttotal: 15.8s\tremaining: 21s\n",
      "493:\tlearn: 0.2489387\ttotal: 15.8s\tremaining: 21s\n",
      "494:\tlearn: 0.2481980\ttotal: 15.8s\tremaining: 20.9s\n",
      "495:\tlearn: 0.2479731\ttotal: 15.9s\tremaining: 20.9s\n",
      "496:\tlearn: 0.2471614\ttotal: 15.9s\tremaining: 20.9s\n",
      "497:\tlearn: 0.2468286\ttotal: 15.9s\tremaining: 20.8s\n",
      "498:\tlearn: 0.2463431\ttotal: 16s\tremaining: 20.8s\n",
      "499:\tlearn: 0.2454957\ttotal: 16s\tremaining: 20.8s\n",
      "500:\tlearn: 0.2447005\ttotal: 16s\tremaining: 20.8s\n",
      "501:\tlearn: 0.2440076\ttotal: 16.1s\tremaining: 20.7s\n",
      "502:\tlearn: 0.2435445\ttotal: 16.1s\tremaining: 20.7s\n",
      "503:\tlearn: 0.2430750\ttotal: 16.1s\tremaining: 20.7s\n",
      "504:\tlearn: 0.2425613\ttotal: 16.2s\tremaining: 20.7s\n",
      "505:\tlearn: 0.2418649\ttotal: 16.2s\tremaining: 20.6s\n",
      "506:\tlearn: 0.2411513\ttotal: 16.2s\tremaining: 20.6s\n",
      "507:\tlearn: 0.2406563\ttotal: 16.3s\tremaining: 20.6s\n",
      "508:\tlearn: 0.2403042\ttotal: 16.3s\tremaining: 20.5s\n",
      "509:\tlearn: 0.2395898\ttotal: 16.3s\tremaining: 20.5s\n",
      "510:\tlearn: 0.2390568\ttotal: 16.4s\tremaining: 20.5s\n",
      "511:\tlearn: 0.2383929\ttotal: 16.4s\tremaining: 20.4s\n",
      "512:\tlearn: 0.2376989\ttotal: 16.4s\tremaining: 20.4s\n",
      "513:\tlearn: 0.2373754\ttotal: 16.5s\tremaining: 20.4s\n",
      "514:\tlearn: 0.2367976\ttotal: 16.5s\tremaining: 20.3s\n",
      "515:\tlearn: 0.2362136\ttotal: 16.5s\tremaining: 20.3s\n",
      "516:\tlearn: 0.2358023\ttotal: 16.6s\tremaining: 20.3s\n",
      "517:\tlearn: 0.2354512\ttotal: 16.6s\tremaining: 20.2s\n",
      "518:\tlearn: 0.2350465\ttotal: 16.6s\tremaining: 20.2s\n",
      "519:\tlearn: 0.2345110\ttotal: 16.7s\tremaining: 20.2s\n",
      "520:\tlearn: 0.2343302\ttotal: 16.7s\tremaining: 20.1s\n",
      "521:\tlearn: 0.2343226\ttotal: 16.7s\tremaining: 20.1s\n",
      "522:\tlearn: 0.2343068\ttotal: 16.8s\tremaining: 20.1s\n",
      "523:\tlearn: 0.2337310\ttotal: 16.8s\tremaining: 20s\n",
      "524:\tlearn: 0.2332542\ttotal: 16.8s\tremaining: 20s\n",
      "525:\tlearn: 0.2326786\ttotal: 16.8s\tremaining: 20s\n",
      "526:\tlearn: 0.2322155\ttotal: 16.9s\tremaining: 19.9s\n",
      "527:\tlearn: 0.2319464\ttotal: 16.9s\tremaining: 19.9s\n",
      "528:\tlearn: 0.2311494\ttotal: 16.9s\tremaining: 19.9s\n",
      "529:\tlearn: 0.2308909\ttotal: 17s\tremaining: 19.9s\n",
      "530:\tlearn: 0.2303257\ttotal: 17s\tremaining: 19.8s\n",
      "531:\tlearn: 0.2301269\ttotal: 17s\tremaining: 19.8s\n",
      "532:\tlearn: 0.2297803\ttotal: 17.1s\tremaining: 19.8s\n",
      "533:\tlearn: 0.2297441\ttotal: 17.1s\tremaining: 19.7s\n",
      "534:\tlearn: 0.2294572\ttotal: 17.1s\tremaining: 19.7s\n",
      "535:\tlearn: 0.2291826\ttotal: 17.2s\tremaining: 19.7s\n",
      "536:\tlearn: 0.2288807\ttotal: 17.2s\tremaining: 19.6s\n",
      "537:\tlearn: 0.2280624\ttotal: 17.2s\tremaining: 19.6s\n",
      "538:\tlearn: 0.2273728\ttotal: 17.3s\tremaining: 19.6s\n",
      "539:\tlearn: 0.2269770\ttotal: 17.3s\tremaining: 19.5s\n",
      "540:\tlearn: 0.2264423\ttotal: 17.3s\tremaining: 19.5s\n",
      "541:\tlearn: 0.2262025\ttotal: 17.3s\tremaining: 19.5s\n",
      "542:\tlearn: 0.2259709\ttotal: 17.4s\tremaining: 19.4s\n",
      "543:\tlearn: 0.2255770\ttotal: 17.4s\tremaining: 19.4s\n",
      "544:\tlearn: 0.2253189\ttotal: 17.4s\tremaining: 19.4s\n",
      "545:\tlearn: 0.2249427\ttotal: 17.5s\tremaining: 19.3s\n",
      "546:\tlearn: 0.2245931\ttotal: 17.5s\tremaining: 19.3s\n",
      "547:\tlearn: 0.2240536\ttotal: 17.5s\tremaining: 19.3s\n",
      "548:\tlearn: 0.2237145\ttotal: 17.6s\tremaining: 19.2s\n",
      "549:\tlearn: 0.2233063\ttotal: 17.6s\tremaining: 19.2s\n",
      "550:\tlearn: 0.2228513\ttotal: 17.6s\tremaining: 19.2s\n",
      "551:\tlearn: 0.2224869\ttotal: 17.7s\tremaining: 19.1s\n",
      "552:\tlearn: 0.2217800\ttotal: 17.7s\tremaining: 19.1s\n",
      "553:\tlearn: 0.2214157\ttotal: 17.7s\tremaining: 19.1s\n",
      "554:\tlearn: 0.2210463\ttotal: 17.8s\tremaining: 19s\n",
      "555:\tlearn: 0.2204993\ttotal: 17.8s\tremaining: 19s\n",
      "556:\tlearn: 0.2202865\ttotal: 17.8s\tremaining: 19s\n",
      "557:\tlearn: 0.2199377\ttotal: 17.9s\tremaining: 18.9s\n",
      "558:\tlearn: 0.2195915\ttotal: 17.9s\tremaining: 18.9s\n",
      "559:\tlearn: 0.2192905\ttotal: 17.9s\tremaining: 18.9s\n",
      "560:\tlearn: 0.2187902\ttotal: 18s\tremaining: 18.8s\n",
      "561:\tlearn: 0.2182789\ttotal: 18s\tremaining: 18.8s\n",
      "562:\tlearn: 0.2177771\ttotal: 18s\tremaining: 18.8s\n",
      "563:\tlearn: 0.2171712\ttotal: 18s\tremaining: 18.7s\n",
      "564:\tlearn: 0.2169804\ttotal: 18.1s\tremaining: 18.7s\n",
      "565:\tlearn: 0.2164843\ttotal: 18.1s\tremaining: 18.7s\n",
      "566:\tlearn: 0.2158565\ttotal: 18.1s\tremaining: 18.7s\n",
      "567:\tlearn: 0.2156402\ttotal: 18.2s\tremaining: 18.6s\n",
      "568:\tlearn: 0.2149441\ttotal: 18.2s\tremaining: 18.6s\n",
      "569:\tlearn: 0.2143794\ttotal: 18.2s\tremaining: 18.6s\n",
      "570:\tlearn: 0.2141516\ttotal: 18.3s\tremaining: 18.5s\n",
      "571:\tlearn: 0.2135662\ttotal: 18.3s\tremaining: 18.5s\n",
      "572:\tlearn: 0.2133781\ttotal: 18.3s\tremaining: 18.5s\n",
      "573:\tlearn: 0.2129455\ttotal: 18.4s\tremaining: 18.4s\n",
      "574:\tlearn: 0.2124155\ttotal: 18.4s\tremaining: 18.4s\n",
      "575:\tlearn: 0.2121763\ttotal: 18.4s\tremaining: 18.4s\n",
      "576:\tlearn: 0.2116242\ttotal: 18.4s\tremaining: 18.3s\n",
      "577:\tlearn: 0.2112242\ttotal: 18.5s\tremaining: 18.3s\n",
      "578:\tlearn: 0.2108269\ttotal: 18.5s\tremaining: 18.3s\n",
      "579:\tlearn: 0.2106168\ttotal: 18.5s\tremaining: 18.2s\n",
      "580:\tlearn: 0.2102920\ttotal: 18.6s\tremaining: 18.2s\n",
      "581:\tlearn: 0.2100043\ttotal: 18.6s\tremaining: 18.2s\n",
      "582:\tlearn: 0.2096331\ttotal: 18.6s\tremaining: 18.1s\n",
      "583:\tlearn: 0.2092279\ttotal: 18.7s\tremaining: 18.1s\n",
      "584:\tlearn: 0.2087030\ttotal: 18.7s\tremaining: 18.1s\n",
      "585:\tlearn: 0.2084539\ttotal: 18.7s\tremaining: 18s\n",
      "586:\tlearn: 0.2078148\ttotal: 18.8s\tremaining: 18s\n",
      "587:\tlearn: 0.2075103\ttotal: 18.8s\tremaining: 18s\n",
      "588:\tlearn: 0.2072216\ttotal: 18.8s\tremaining: 17.9s\n",
      "589:\tlearn: 0.2069410\ttotal: 18.9s\tremaining: 17.9s\n",
      "590:\tlearn: 0.2064924\ttotal: 18.9s\tremaining: 17.9s\n",
      "591:\tlearn: 0.2063061\ttotal: 18.9s\tremaining: 17.8s\n",
      "592:\tlearn: 0.2057654\ttotal: 19s\tremaining: 17.8s\n",
      "593:\tlearn: 0.2052911\ttotal: 19s\tremaining: 17.8s\n",
      "594:\tlearn: 0.2047701\ttotal: 19s\tremaining: 17.7s\n",
      "595:\tlearn: 0.2046339\ttotal: 19.1s\tremaining: 17.7s\n",
      "596:\tlearn: 0.2044122\ttotal: 19.1s\tremaining: 17.7s\n",
      "597:\tlearn: 0.2040273\ttotal: 19.1s\tremaining: 17.6s\n",
      "598:\tlearn: 0.2038537\ttotal: 19.2s\tremaining: 17.6s\n",
      "599:\tlearn: 0.2036574\ttotal: 19.2s\tremaining: 17.6s\n",
      "600:\tlearn: 0.2029134\ttotal: 19.2s\tremaining: 17.6s\n",
      "601:\tlearn: 0.2024739\ttotal: 19.3s\tremaining: 17.5s\n",
      "602:\tlearn: 0.2022847\ttotal: 19.3s\tremaining: 17.5s\n",
      "603:\tlearn: 0.2020788\ttotal: 19.3s\tremaining: 17.5s\n",
      "604:\tlearn: 0.2018551\ttotal: 19.3s\tremaining: 17.4s\n",
      "605:\tlearn: 0.2014342\ttotal: 19.4s\tremaining: 17.4s\n",
      "606:\tlearn: 0.2010288\ttotal: 19.4s\tremaining: 17.4s\n",
      "607:\tlearn: 0.2003939\ttotal: 19.4s\tremaining: 17.3s\n",
      "608:\tlearn: 0.2000594\ttotal: 19.5s\tremaining: 17.3s\n",
      "609:\tlearn: 0.1995648\ttotal: 19.5s\tremaining: 17.3s\n",
      "610:\tlearn: 0.1991605\ttotal: 19.5s\tremaining: 17.2s\n",
      "611:\tlearn: 0.1987900\ttotal: 19.6s\tremaining: 17.2s\n",
      "612:\tlearn: 0.1984337\ttotal: 19.6s\tremaining: 17.2s\n",
      "613:\tlearn: 0.1979867\ttotal: 19.6s\tremaining: 17.1s\n",
      "614:\tlearn: 0.1977233\ttotal: 19.7s\tremaining: 17.1s\n",
      "615:\tlearn: 0.1974528\ttotal: 19.7s\tremaining: 17.1s\n",
      "616:\tlearn: 0.1970861\ttotal: 19.7s\tremaining: 17s\n",
      "617:\tlearn: 0.1965595\ttotal: 19.8s\tremaining: 17s\n",
      "618:\tlearn: 0.1963543\ttotal: 19.8s\tremaining: 17s\n",
      "619:\tlearn: 0.1960755\ttotal: 19.8s\tremaining: 16.9s\n",
      "620:\tlearn: 0.1956608\ttotal: 19.8s\tremaining: 16.9s\n",
      "621:\tlearn: 0.1953088\ttotal: 19.9s\tremaining: 16.9s\n",
      "622:\tlearn: 0.1949969\ttotal: 19.9s\tremaining: 16.8s\n",
      "623:\tlearn: 0.1944668\ttotal: 19.9s\tremaining: 16.8s\n",
      "624:\tlearn: 0.1939314\ttotal: 20s\tremaining: 16.8s\n",
      "625:\tlearn: 0.1934432\ttotal: 20s\tremaining: 16.7s\n",
      "626:\tlearn: 0.1932383\ttotal: 20s\tremaining: 16.7s\n",
      "627:\tlearn: 0.1929948\ttotal: 20.1s\tremaining: 16.7s\n",
      "628:\tlearn: 0.1926257\ttotal: 20.1s\tremaining: 16.6s\n",
      "629:\tlearn: 0.1921112\ttotal: 20.1s\tremaining: 16.6s\n",
      "630:\tlearn: 0.1919118\ttotal: 20.2s\tremaining: 16.6s\n",
      "631:\tlearn: 0.1914395\ttotal: 20.2s\tremaining: 16.5s\n",
      "632:\tlearn: 0.1910033\ttotal: 20.2s\tremaining: 16.5s\n",
      "633:\tlearn: 0.1905930\ttotal: 20.2s\tremaining: 16.5s\n",
      "634:\tlearn: 0.1899230\ttotal: 20.3s\tremaining: 16.4s\n",
      "635:\tlearn: 0.1894398\ttotal: 20.3s\tremaining: 16.4s\n",
      "636:\tlearn: 0.1891406\ttotal: 20.3s\tremaining: 16.4s\n",
      "637:\tlearn: 0.1885188\ttotal: 20.4s\tremaining: 16.4s\n",
      "638:\tlearn: 0.1879197\ttotal: 20.4s\tremaining: 16.3s\n",
      "639:\tlearn: 0.1876916\ttotal: 20.4s\tremaining: 16.3s\n",
      "640:\tlearn: 0.1872050\ttotal: 20.5s\tremaining: 16.3s\n",
      "641:\tlearn: 0.1868229\ttotal: 20.5s\tremaining: 16.2s\n",
      "642:\tlearn: 0.1864714\ttotal: 20.5s\tremaining: 16.2s\n",
      "643:\tlearn: 0.1860836\ttotal: 20.6s\tremaining: 16.2s\n",
      "644:\tlearn: 0.1857114\ttotal: 20.6s\tremaining: 16.1s\n",
      "645:\tlearn: 0.1853336\ttotal: 20.6s\tremaining: 16.1s\n",
      "646:\tlearn: 0.1849476\ttotal: 20.7s\tremaining: 16.1s\n",
      "647:\tlearn: 0.1845062\ttotal: 20.7s\tremaining: 16s\n",
      "648:\tlearn: 0.1840777\ttotal: 20.7s\tremaining: 16s\n",
      "649:\tlearn: 0.1837862\ttotal: 20.8s\tremaining: 16s\n",
      "650:\tlearn: 0.1832808\ttotal: 20.8s\tremaining: 15.9s\n",
      "651:\tlearn: 0.1827942\ttotal: 20.8s\tremaining: 15.9s\n",
      "652:\tlearn: 0.1825674\ttotal: 20.9s\tremaining: 15.9s\n",
      "653:\tlearn: 0.1822017\ttotal: 20.9s\tremaining: 15.9s\n",
      "654:\tlearn: 0.1814736\ttotal: 20.9s\tremaining: 15.8s\n",
      "655:\tlearn: 0.1810869\ttotal: 21s\tremaining: 15.8s\n",
      "656:\tlearn: 0.1807191\ttotal: 21s\tremaining: 15.8s\n",
      "657:\tlearn: 0.1804151\ttotal: 21s\tremaining: 15.7s\n",
      "658:\tlearn: 0.1802824\ttotal: 21.1s\tremaining: 15.7s\n",
      "659:\tlearn: 0.1800004\ttotal: 21.1s\tremaining: 15.7s\n",
      "660:\tlearn: 0.1798312\ttotal: 21.2s\tremaining: 15.7s\n",
      "661:\tlearn: 0.1794724\ttotal: 21.2s\tremaining: 15.6s\n",
      "662:\tlearn: 0.1789693\ttotal: 21.2s\tremaining: 15.6s\n",
      "663:\tlearn: 0.1786719\ttotal: 21.3s\tremaining: 15.6s\n",
      "664:\tlearn: 0.1784791\ttotal: 21.3s\tremaining: 15.5s\n",
      "665:\tlearn: 0.1782920\ttotal: 21.3s\tremaining: 15.5s\n",
      "666:\tlearn: 0.1779532\ttotal: 21.3s\tremaining: 15.5s\n",
      "667:\tlearn: 0.1775860\ttotal: 21.4s\tremaining: 15.4s\n",
      "668:\tlearn: 0.1773285\ttotal: 21.4s\tremaining: 15.4s\n",
      "669:\tlearn: 0.1770070\ttotal: 21.4s\tremaining: 15.4s\n",
      "670:\tlearn: 0.1762824\ttotal: 21.5s\tremaining: 15.3s\n",
      "671:\tlearn: 0.1760201\ttotal: 21.5s\tremaining: 15.3s\n",
      "672:\tlearn: 0.1757247\ttotal: 21.5s\tremaining: 15.3s\n",
      "673:\tlearn: 0.1754883\ttotal: 21.6s\tremaining: 15.2s\n",
      "674:\tlearn: 0.1749283\ttotal: 21.6s\tremaining: 15.2s\n",
      "675:\tlearn: 0.1743943\ttotal: 21.6s\tremaining: 15.2s\n",
      "676:\tlearn: 0.1741496\ttotal: 21.7s\tremaining: 15.1s\n",
      "677:\tlearn: 0.1738347\ttotal: 21.7s\tremaining: 15.1s\n",
      "678:\tlearn: 0.1734912\ttotal: 21.7s\tremaining: 15.1s\n",
      "679:\tlearn: 0.1731738\ttotal: 21.8s\tremaining: 15s\n",
      "680:\tlearn: 0.1727350\ttotal: 21.8s\tremaining: 15s\n",
      "681:\tlearn: 0.1725361\ttotal: 21.8s\tremaining: 15s\n",
      "682:\tlearn: 0.1720256\ttotal: 21.9s\tremaining: 14.9s\n",
      "683:\tlearn: 0.1718983\ttotal: 21.9s\tremaining: 14.9s\n",
      "684:\tlearn: 0.1718347\ttotal: 21.9s\tremaining: 14.9s\n",
      "685:\tlearn: 0.1715378\ttotal: 22s\tremaining: 14.8s\n",
      "686:\tlearn: 0.1713905\ttotal: 22s\tremaining: 14.8s\n",
      "687:\tlearn: 0.1712827\ttotal: 22s\tremaining: 14.8s\n",
      "688:\tlearn: 0.1711378\ttotal: 22s\tremaining: 14.8s\n",
      "689:\tlearn: 0.1707956\ttotal: 22.1s\tremaining: 14.7s\n",
      "690:\tlearn: 0.1705219\ttotal: 22.1s\tremaining: 14.7s\n",
      "691:\tlearn: 0.1703287\ttotal: 22.1s\tremaining: 14.7s\n",
      "692:\tlearn: 0.1698458\ttotal: 22.2s\tremaining: 14.6s\n",
      "693:\tlearn: 0.1695537\ttotal: 22.2s\tremaining: 14.6s\n",
      "694:\tlearn: 0.1692052\ttotal: 22.2s\tremaining: 14.6s\n",
      "695:\tlearn: 0.1688616\ttotal: 22.3s\tremaining: 14.5s\n",
      "696:\tlearn: 0.1684169\ttotal: 22.3s\tremaining: 14.5s\n",
      "697:\tlearn: 0.1677875\ttotal: 22.3s\tremaining: 14.5s\n",
      "698:\tlearn: 0.1675762\ttotal: 22.4s\tremaining: 14.4s\n",
      "699:\tlearn: 0.1671831\ttotal: 22.4s\tremaining: 14.4s\n",
      "700:\tlearn: 0.1669130\ttotal: 22.4s\tremaining: 14.4s\n",
      "701:\tlearn: 0.1667682\ttotal: 22.5s\tremaining: 14.3s\n",
      "702:\tlearn: 0.1664810\ttotal: 22.5s\tremaining: 14.3s\n",
      "703:\tlearn: 0.1661350\ttotal: 22.5s\tremaining: 14.3s\n",
      "704:\tlearn: 0.1657199\ttotal: 22.6s\tremaining: 14.2s\n",
      "705:\tlearn: 0.1654450\ttotal: 22.6s\tremaining: 14.2s\n",
      "706:\tlearn: 0.1647363\ttotal: 22.6s\tremaining: 14.2s\n",
      "707:\tlearn: 0.1644630\ttotal: 22.7s\tremaining: 14.2s\n",
      "708:\tlearn: 0.1641094\ttotal: 22.7s\tremaining: 14.1s\n",
      "709:\tlearn: 0.1638836\ttotal: 22.7s\tremaining: 14.1s\n",
      "710:\tlearn: 0.1633882\ttotal: 22.8s\tremaining: 14.1s\n",
      "711:\tlearn: 0.1631734\ttotal: 22.8s\tremaining: 14s\n",
      "712:\tlearn: 0.1631461\ttotal: 22.8s\tremaining: 14s\n",
      "713:\tlearn: 0.1628204\ttotal: 22.9s\tremaining: 14s\n",
      "714:\tlearn: 0.1624190\ttotal: 22.9s\tremaining: 13.9s\n",
      "715:\tlearn: 0.1622125\ttotal: 22.9s\tremaining: 13.9s\n",
      "716:\tlearn: 0.1620500\ttotal: 23s\tremaining: 13.9s\n",
      "717:\tlearn: 0.1619906\ttotal: 23s\tremaining: 13.8s\n",
      "718:\tlearn: 0.1616562\ttotal: 23s\tremaining: 13.8s\n",
      "719:\tlearn: 0.1612756\ttotal: 23.1s\tremaining: 13.8s\n",
      "720:\tlearn: 0.1609405\ttotal: 23.1s\tremaining: 13.7s\n",
      "721:\tlearn: 0.1608630\ttotal: 23.1s\tremaining: 13.7s\n",
      "722:\tlearn: 0.1606643\ttotal: 23.2s\tremaining: 13.7s\n",
      "723:\tlearn: 0.1600829\ttotal: 23.2s\tremaining: 13.6s\n",
      "724:\tlearn: 0.1595741\ttotal: 23.2s\tremaining: 13.6s\n",
      "725:\tlearn: 0.1590296\ttotal: 23.3s\tremaining: 13.6s\n",
      "726:\tlearn: 0.1588267\ttotal: 23.3s\tremaining: 13.5s\n",
      "727:\tlearn: 0.1586801\ttotal: 23.3s\tremaining: 13.5s\n",
      "728:\tlearn: 0.1583393\ttotal: 23.3s\tremaining: 13.5s\n",
      "729:\tlearn: 0.1581234\ttotal: 23.4s\tremaining: 13.4s\n",
      "730:\tlearn: 0.1576684\ttotal: 23.4s\tremaining: 13.4s\n",
      "731:\tlearn: 0.1573385\ttotal: 23.5s\tremaining: 13.4s\n",
      "732:\tlearn: 0.1571340\ttotal: 23.5s\tremaining: 13.4s\n",
      "733:\tlearn: 0.1565688\ttotal: 23.5s\tremaining: 13.3s\n",
      "734:\tlearn: 0.1562760\ttotal: 23.6s\tremaining: 13.3s\n",
      "735:\tlearn: 0.1557437\ttotal: 23.6s\tremaining: 13.3s\n",
      "736:\tlearn: 0.1555611\ttotal: 23.6s\tremaining: 13.2s\n",
      "737:\tlearn: 0.1552095\ttotal: 23.7s\tremaining: 13.2s\n",
      "738:\tlearn: 0.1549452\ttotal: 23.7s\tremaining: 13.2s\n",
      "739:\tlearn: 0.1546811\ttotal: 23.7s\tremaining: 13.2s\n",
      "740:\tlearn: 0.1542359\ttotal: 23.8s\tremaining: 13.1s\n",
      "741:\tlearn: 0.1541793\ttotal: 23.8s\tremaining: 13.1s\n",
      "742:\tlearn: 0.1538989\ttotal: 23.8s\tremaining: 13.1s\n",
      "743:\tlearn: 0.1534457\ttotal: 23.9s\tremaining: 13s\n",
      "744:\tlearn: 0.1531541\ttotal: 23.9s\tremaining: 13s\n",
      "745:\tlearn: 0.1529702\ttotal: 23.9s\tremaining: 13s\n",
      "746:\tlearn: 0.1528485\ttotal: 24s\tremaining: 12.9s\n",
      "747:\tlearn: 0.1525791\ttotal: 24s\tremaining: 12.9s\n",
      "748:\tlearn: 0.1522037\ttotal: 24s\tremaining: 12.9s\n",
      "749:\tlearn: 0.1519089\ttotal: 24.1s\tremaining: 12.8s\n",
      "750:\tlearn: 0.1515898\ttotal: 24.1s\tremaining: 12.8s\n",
      "751:\tlearn: 0.1512145\ttotal: 24.1s\tremaining: 12.8s\n",
      "752:\tlearn: 0.1509068\ttotal: 24.2s\tremaining: 12.8s\n",
      "753:\tlearn: 0.1505875\ttotal: 24.2s\tremaining: 12.7s\n",
      "754:\tlearn: 0.1503963\ttotal: 24.2s\tremaining: 12.7s\n",
      "755:\tlearn: 0.1497313\ttotal: 24.3s\tremaining: 12.7s\n",
      "756:\tlearn: 0.1493309\ttotal: 24.3s\tremaining: 12.6s\n",
      "757:\tlearn: 0.1490232\ttotal: 24.3s\tremaining: 12.6s\n",
      "758:\tlearn: 0.1489439\ttotal: 24.4s\tremaining: 12.6s\n",
      "759:\tlearn: 0.1488358\ttotal: 24.4s\tremaining: 12.5s\n",
      "760:\tlearn: 0.1485131\ttotal: 24.5s\tremaining: 12.5s\n",
      "761:\tlearn: 0.1480460\ttotal: 24.5s\tremaining: 12.5s\n",
      "762:\tlearn: 0.1477485\ttotal: 24.5s\tremaining: 12.4s\n",
      "763:\tlearn: 0.1475125\ttotal: 24.6s\tremaining: 12.4s\n",
      "764:\tlearn: 0.1474842\ttotal: 24.6s\tremaining: 12.4s\n",
      "765:\tlearn: 0.1470067\ttotal: 24.6s\tremaining: 12.3s\n",
      "766:\tlearn: 0.1467808\ttotal: 24.7s\tremaining: 12.3s\n",
      "767:\tlearn: 0.1464380\ttotal: 24.7s\tremaining: 12.3s\n",
      "768:\tlearn: 0.1460413\ttotal: 24.7s\tremaining: 12.2s\n",
      "769:\tlearn: 0.1457301\ttotal: 24.7s\tremaining: 12.2s\n",
      "770:\tlearn: 0.1454623\ttotal: 24.8s\tremaining: 12.2s\n",
      "771:\tlearn: 0.1449593\ttotal: 24.8s\tremaining: 12.1s\n",
      "772:\tlearn: 0.1447819\ttotal: 24.8s\tremaining: 12.1s\n",
      "773:\tlearn: 0.1446100\ttotal: 24.9s\tremaining: 12.1s\n",
      "774:\tlearn: 0.1442965\ttotal: 24.9s\tremaining: 12s\n",
      "775:\tlearn: 0.1437110\ttotal: 24.9s\tremaining: 12s\n",
      "776:\tlearn: 0.1434170\ttotal: 25s\tremaining: 12s\n",
      "777:\tlearn: 0.1431266\ttotal: 25s\tremaining: 11.9s\n",
      "778:\tlearn: 0.1429405\ttotal: 25s\tremaining: 11.9s\n",
      "779:\tlearn: 0.1426333\ttotal: 25.1s\tremaining: 11.9s\n",
      "780:\tlearn: 0.1423983\ttotal: 25.1s\tremaining: 11.9s\n",
      "781:\tlearn: 0.1418983\ttotal: 25.1s\tremaining: 11.8s\n",
      "782:\tlearn: 0.1416980\ttotal: 25.2s\tremaining: 11.8s\n",
      "783:\tlearn: 0.1413353\ttotal: 25.2s\tremaining: 11.8s\n",
      "784:\tlearn: 0.1408881\ttotal: 25.2s\tremaining: 11.7s\n",
      "785:\tlearn: 0.1406307\ttotal: 25.2s\tremaining: 11.7s\n",
      "786:\tlearn: 0.1403612\ttotal: 25.3s\tremaining: 11.7s\n",
      "787:\tlearn: 0.1403152\ttotal: 25.3s\tremaining: 11.6s\n",
      "788:\tlearn: 0.1399586\ttotal: 25.3s\tremaining: 11.6s\n",
      "789:\tlearn: 0.1399097\ttotal: 25.4s\tremaining: 11.6s\n",
      "790:\tlearn: 0.1395351\ttotal: 25.4s\tremaining: 11.5s\n",
      "791:\tlearn: 0.1391983\ttotal: 25.4s\tremaining: 11.5s\n",
      "792:\tlearn: 0.1389370\ttotal: 25.5s\tremaining: 11.5s\n",
      "793:\tlearn: 0.1384979\ttotal: 25.5s\tremaining: 11.4s\n",
      "794:\tlearn: 0.1379955\ttotal: 25.5s\tremaining: 11.4s\n",
      "795:\tlearn: 0.1375976\ttotal: 25.6s\tremaining: 11.4s\n",
      "796:\tlearn: 0.1372653\ttotal: 25.6s\tremaining: 11.3s\n",
      "797:\tlearn: 0.1369899\ttotal: 25.6s\tremaining: 11.3s\n",
      "798:\tlearn: 0.1369070\ttotal: 25.7s\tremaining: 11.3s\n",
      "799:\tlearn: 0.1367588\ttotal: 25.7s\tremaining: 11.2s\n",
      "800:\tlearn: 0.1366597\ttotal: 25.7s\tremaining: 11.2s\n",
      "801:\tlearn: 0.1365046\ttotal: 25.8s\tremaining: 11.2s\n",
      "802:\tlearn: 0.1364427\ttotal: 25.8s\tremaining: 11.2s\n",
      "803:\tlearn: 0.1363343\ttotal: 25.8s\tremaining: 11.1s\n",
      "804:\tlearn: 0.1360995\ttotal: 25.9s\tremaining: 11.1s\n",
      "805:\tlearn: 0.1357827\ttotal: 25.9s\tremaining: 11.1s\n",
      "806:\tlearn: 0.1355164\ttotal: 25.9s\tremaining: 11s\n",
      "807:\tlearn: 0.1353759\ttotal: 26s\tremaining: 11s\n",
      "808:\tlearn: 0.1351679\ttotal: 26s\tremaining: 11s\n",
      "809:\tlearn: 0.1349636\ttotal: 26s\tremaining: 10.9s\n",
      "810:\tlearn: 0.1345549\ttotal: 26.1s\tremaining: 10.9s\n",
      "811:\tlearn: 0.1343253\ttotal: 26.1s\tremaining: 10.9s\n",
      "812:\tlearn: 0.1340667\ttotal: 26.1s\tremaining: 10.8s\n",
      "813:\tlearn: 0.1338265\ttotal: 26.2s\tremaining: 10.8s\n",
      "814:\tlearn: 0.1335923\ttotal: 26.2s\tremaining: 10.8s\n",
      "815:\tlearn: 0.1331499\ttotal: 26.2s\tremaining: 10.7s\n",
      "816:\tlearn: 0.1328972\ttotal: 26.3s\tremaining: 10.7s\n",
      "817:\tlearn: 0.1326298\ttotal: 26.3s\tremaining: 10.7s\n",
      "818:\tlearn: 0.1323396\ttotal: 26.3s\tremaining: 10.6s\n",
      "819:\tlearn: 0.1318214\ttotal: 26.4s\tremaining: 10.6s\n",
      "820:\tlearn: 0.1316933\ttotal: 26.4s\tremaining: 10.6s\n",
      "821:\tlearn: 0.1313562\ttotal: 26.4s\tremaining: 10.6s\n",
      "822:\tlearn: 0.1311862\ttotal: 26.5s\tremaining: 10.5s\n",
      "823:\tlearn: 0.1310049\ttotal: 26.5s\tremaining: 10.5s\n",
      "824:\tlearn: 0.1307593\ttotal: 26.5s\tremaining: 10.5s\n",
      "825:\tlearn: 0.1304471\ttotal: 26.6s\tremaining: 10.4s\n",
      "826:\tlearn: 0.1303183\ttotal: 26.6s\tremaining: 10.4s\n",
      "827:\tlearn: 0.1300929\ttotal: 26.6s\tremaining: 10.4s\n",
      "828:\tlearn: 0.1299189\ttotal: 26.7s\tremaining: 10.3s\n",
      "829:\tlearn: 0.1297509\ttotal: 26.7s\tremaining: 10.3s\n",
      "830:\tlearn: 0.1294335\ttotal: 26.7s\tremaining: 10.3s\n",
      "831:\tlearn: 0.1292099\ttotal: 26.8s\tremaining: 10.2s\n",
      "832:\tlearn: 0.1289897\ttotal: 26.8s\tremaining: 10.2s\n",
      "833:\tlearn: 0.1286778\ttotal: 26.8s\tremaining: 10.2s\n",
      "834:\tlearn: 0.1283353\ttotal: 26.9s\tremaining: 10.1s\n",
      "835:\tlearn: 0.1280827\ttotal: 26.9s\tremaining: 10.1s\n",
      "836:\tlearn: 0.1277861\ttotal: 26.9s\tremaining: 10.1s\n",
      "837:\tlearn: 0.1276333\ttotal: 27s\tremaining: 10s\n",
      "838:\tlearn: 0.1272237\ttotal: 27s\tremaining: 10s\n",
      "839:\tlearn: 0.1269878\ttotal: 27s\tremaining: 9.98s\n",
      "840:\tlearn: 0.1267274\ttotal: 27.1s\tremaining: 9.95s\n",
      "841:\tlearn: 0.1264091\ttotal: 27.1s\tremaining: 9.91s\n",
      "842:\tlearn: 0.1262247\ttotal: 27.1s\tremaining: 9.88s\n",
      "843:\tlearn: 0.1258842\ttotal: 27.2s\tremaining: 9.85s\n",
      "844:\tlearn: 0.1256168\ttotal: 27.2s\tremaining: 9.82s\n",
      "845:\tlearn: 0.1253633\ttotal: 27.2s\tremaining: 9.78s\n",
      "846:\tlearn: 0.1251426\ttotal: 27.3s\tremaining: 9.75s\n",
      "847:\tlearn: 0.1249360\ttotal: 27.3s\tremaining: 9.72s\n",
      "848:\tlearn: 0.1246094\ttotal: 27.3s\tremaining: 9.69s\n",
      "849:\tlearn: 0.1243728\ttotal: 27.4s\tremaining: 9.65s\n",
      "850:\tlearn: 0.1242013\ttotal: 27.4s\tremaining: 9.62s\n",
      "851:\tlearn: 0.1240531\ttotal: 27.4s\tremaining: 9.59s\n",
      "852:\tlearn: 0.1238264\ttotal: 27.4s\tremaining: 9.56s\n",
      "853:\tlearn: 0.1237692\ttotal: 27.5s\tremaining: 9.52s\n",
      "854:\tlearn: 0.1235698\ttotal: 27.5s\tremaining: 9.49s\n",
      "855:\tlearn: 0.1234231\ttotal: 27.5s\tremaining: 9.46s\n",
      "856:\tlearn: 0.1232370\ttotal: 27.6s\tremaining: 9.43s\n",
      "857:\tlearn: 0.1230132\ttotal: 27.6s\tremaining: 9.4s\n",
      "858:\tlearn: 0.1227724\ttotal: 27.6s\tremaining: 9.37s\n",
      "859:\tlearn: 0.1225498\ttotal: 27.7s\tremaining: 9.33s\n",
      "860:\tlearn: 0.1224786\ttotal: 27.7s\tremaining: 9.3s\n",
      "861:\tlearn: 0.1222915\ttotal: 27.7s\tremaining: 9.27s\n",
      "862:\tlearn: 0.1219864\ttotal: 27.8s\tremaining: 9.24s\n",
      "863:\tlearn: 0.1218397\ttotal: 27.8s\tremaining: 9.2s\n",
      "864:\tlearn: 0.1217411\ttotal: 27.8s\tremaining: 9.17s\n",
      "865:\tlearn: 0.1215072\ttotal: 27.9s\tremaining: 9.14s\n",
      "866:\tlearn: 0.1213305\ttotal: 27.9s\tremaining: 9.11s\n",
      "867:\tlearn: 0.1211475\ttotal: 27.9s\tremaining: 9.07s\n",
      "868:\tlearn: 0.1208971\ttotal: 28s\tremaining: 9.04s\n",
      "869:\tlearn: 0.1205274\ttotal: 28s\tremaining: 9.01s\n",
      "870:\tlearn: 0.1201337\ttotal: 28s\tremaining: 8.98s\n",
      "871:\tlearn: 0.1200666\ttotal: 28.1s\tremaining: 8.94s\n",
      "872:\tlearn: 0.1200035\ttotal: 28.1s\tremaining: 8.91s\n",
      "873:\tlearn: 0.1197135\ttotal: 28.1s\tremaining: 8.88s\n",
      "874:\tlearn: 0.1194238\ttotal: 28.2s\tremaining: 8.85s\n",
      "875:\tlearn: 0.1189953\ttotal: 28.2s\tremaining: 8.84s\n",
      "876:\tlearn: 0.1188563\ttotal: 28.3s\tremaining: 8.81s\n",
      "877:\tlearn: 0.1186847\ttotal: 28.3s\tremaining: 8.78s\n",
      "878:\tlearn: 0.1185716\ttotal: 28.4s\tremaining: 8.75s\n",
      "879:\tlearn: 0.1182326\ttotal: 28.4s\tremaining: 8.72s\n",
      "880:\tlearn: 0.1179200\ttotal: 28.5s\tremaining: 8.69s\n",
      "881:\tlearn: 0.1176311\ttotal: 28.5s\tremaining: 8.66s\n",
      "882:\tlearn: 0.1175508\ttotal: 28.5s\tremaining: 8.63s\n",
      "883:\tlearn: 0.1174987\ttotal: 28.6s\tremaining: 8.6s\n",
      "884:\tlearn: 0.1171418\ttotal: 28.6s\tremaining: 8.56s\n",
      "885:\tlearn: 0.1170573\ttotal: 28.6s\tremaining: 8.53s\n",
      "886:\tlearn: 0.1169268\ttotal: 28.7s\tremaining: 8.5s\n",
      "887:\tlearn: 0.1167813\ttotal: 28.7s\tremaining: 8.47s\n",
      "888:\tlearn: 0.1165594\ttotal: 28.7s\tremaining: 8.44s\n",
      "889:\tlearn: 0.1163475\ttotal: 28.8s\tremaining: 8.41s\n",
      "890:\tlearn: 0.1162673\ttotal: 28.8s\tremaining: 8.38s\n",
      "891:\tlearn: 0.1159061\ttotal: 28.9s\tremaining: 8.35s\n",
      "892:\tlearn: 0.1157909\ttotal: 28.9s\tremaining: 8.31s\n",
      "893:\tlearn: 0.1156251\ttotal: 28.9s\tremaining: 8.28s\n",
      "894:\tlearn: 0.1155436\ttotal: 28.9s\tremaining: 8.25s\n",
      "895:\tlearn: 0.1153538\ttotal: 29s\tremaining: 8.21s\n",
      "896:\tlearn: 0.1151983\ttotal: 29s\tremaining: 8.18s\n",
      "897:\tlearn: 0.1149772\ttotal: 29s\tremaining: 8.15s\n",
      "898:\tlearn: 0.1148150\ttotal: 29.1s\tremaining: 8.12s\n",
      "899:\tlearn: 0.1147315\ttotal: 29.1s\tremaining: 8.09s\n",
      "900:\tlearn: 0.1146768\ttotal: 29.1s\tremaining: 8.05s\n",
      "901:\tlearn: 0.1142288\ttotal: 29.2s\tremaining: 8.02s\n",
      "902:\tlearn: 0.1139306\ttotal: 29.2s\tremaining: 7.99s\n",
      "903:\tlearn: 0.1137125\ttotal: 29.2s\tremaining: 7.96s\n",
      "904:\tlearn: 0.1136452\ttotal: 29.3s\tremaining: 7.92s\n",
      "905:\tlearn: 0.1133068\ttotal: 29.3s\tremaining: 7.89s\n",
      "906:\tlearn: 0.1130501\ttotal: 29.3s\tremaining: 7.86s\n",
      "907:\tlearn: 0.1128313\ttotal: 29.4s\tremaining: 7.82s\n",
      "908:\tlearn: 0.1124056\ttotal: 29.4s\tremaining: 7.79s\n",
      "909:\tlearn: 0.1122329\ttotal: 29.4s\tremaining: 7.76s\n",
      "910:\tlearn: 0.1120855\ttotal: 29.5s\tremaining: 7.73s\n",
      "911:\tlearn: 0.1118582\ttotal: 29.5s\tremaining: 7.69s\n",
      "912:\tlearn: 0.1115428\ttotal: 29.5s\tremaining: 7.66s\n",
      "913:\tlearn: 0.1113359\ttotal: 29.5s\tremaining: 7.63s\n",
      "914:\tlearn: 0.1112386\ttotal: 29.6s\tremaining: 7.6s\n",
      "915:\tlearn: 0.1111004\ttotal: 29.6s\tremaining: 7.56s\n",
      "916:\tlearn: 0.1108771\ttotal: 29.6s\tremaining: 7.53s\n",
      "917:\tlearn: 0.1108222\ttotal: 29.7s\tremaining: 7.5s\n",
      "918:\tlearn: 0.1105584\ttotal: 29.7s\tremaining: 7.46s\n",
      "919:\tlearn: 0.1103098\ttotal: 29.7s\tremaining: 7.43s\n",
      "920:\tlearn: 0.1100554\ttotal: 29.8s\tremaining: 7.4s\n",
      "921:\tlearn: 0.1098305\ttotal: 29.8s\tremaining: 7.37s\n",
      "922:\tlearn: 0.1096845\ttotal: 29.8s\tremaining: 7.34s\n",
      "923:\tlearn: 0.1095669\ttotal: 29.9s\tremaining: 7.3s\n",
      "924:\tlearn: 0.1092526\ttotal: 29.9s\tremaining: 7.27s\n",
      "925:\tlearn: 0.1092351\ttotal: 29.9s\tremaining: 7.24s\n",
      "926:\tlearn: 0.1088949\ttotal: 30s\tremaining: 7.21s\n",
      "927:\tlearn: 0.1087937\ttotal: 30s\tremaining: 7.17s\n",
      "928:\tlearn: 0.1086339\ttotal: 30s\tremaining: 7.14s\n",
      "929:\tlearn: 0.1084008\ttotal: 30.1s\tremaining: 7.11s\n",
      "930:\tlearn: 0.1083505\ttotal: 30.1s\tremaining: 7.08s\n",
      "931:\tlearn: 0.1083018\ttotal: 30.1s\tremaining: 7.05s\n",
      "932:\tlearn: 0.1080930\ttotal: 30.2s\tremaining: 7.01s\n",
      "933:\tlearn: 0.1079678\ttotal: 30.2s\tremaining: 6.98s\n",
      "934:\tlearn: 0.1078920\ttotal: 30.2s\tremaining: 6.95s\n",
      "935:\tlearn: 0.1078876\ttotal: 30.3s\tremaining: 6.92s\n",
      "936:\tlearn: 0.1076701\ttotal: 30.3s\tremaining: 6.89s\n",
      "937:\tlearn: 0.1074622\ttotal: 30.3s\tremaining: 6.86s\n",
      "938:\tlearn: 0.1073035\ttotal: 30.4s\tremaining: 6.82s\n",
      "939:\tlearn: 0.1071375\ttotal: 30.4s\tremaining: 6.79s\n",
      "940:\tlearn: 0.1069260\ttotal: 30.4s\tremaining: 6.76s\n",
      "941:\tlearn: 0.1068493\ttotal: 30.5s\tremaining: 6.73s\n",
      "942:\tlearn: 0.1067464\ttotal: 30.5s\tremaining: 6.7s\n",
      "943:\tlearn: 0.1064820\ttotal: 30.5s\tremaining: 6.67s\n",
      "944:\tlearn: 0.1061830\ttotal: 30.6s\tremaining: 6.63s\n",
      "945:\tlearn: 0.1059389\ttotal: 30.6s\tremaining: 6.6s\n",
      "946:\tlearn: 0.1055912\ttotal: 30.6s\tremaining: 6.57s\n",
      "947:\tlearn: 0.1053663\ttotal: 30.7s\tremaining: 6.54s\n",
      "948:\tlearn: 0.1051782\ttotal: 30.7s\tremaining: 6.5s\n",
      "949:\tlearn: 0.1050307\ttotal: 30.7s\tremaining: 6.47s\n",
      "950:\tlearn: 0.1046975\ttotal: 30.8s\tremaining: 6.44s\n",
      "951:\tlearn: 0.1044876\ttotal: 30.8s\tremaining: 6.41s\n",
      "952:\tlearn: 0.1043971\ttotal: 30.8s\tremaining: 6.37s\n",
      "953:\tlearn: 0.1043135\ttotal: 30.9s\tremaining: 6.34s\n",
      "954:\tlearn: 0.1039476\ttotal: 30.9s\tremaining: 6.31s\n",
      "955:\tlearn: 0.1037714\ttotal: 30.9s\tremaining: 6.28s\n",
      "956:\tlearn: 0.1036605\ttotal: 31s\tremaining: 6.24s\n",
      "957:\tlearn: 0.1035190\ttotal: 31s\tremaining: 6.21s\n",
      "958:\tlearn: 0.1034167\ttotal: 31s\tremaining: 6.18s\n",
      "959:\tlearn: 0.1032996\ttotal: 31.1s\tremaining: 6.14s\n",
      "960:\tlearn: 0.1030338\ttotal: 31.1s\tremaining: 6.11s\n",
      "961:\tlearn: 0.1029432\ttotal: 31.1s\tremaining: 6.08s\n",
      "962:\tlearn: 0.1029211\ttotal: 31.1s\tremaining: 6.05s\n",
      "963:\tlearn: 0.1026834\ttotal: 31.2s\tremaining: 6.02s\n",
      "964:\tlearn: 0.1024650\ttotal: 31.2s\tremaining: 5.98s\n",
      "965:\tlearn: 0.1023983\ttotal: 31.2s\tremaining: 5.95s\n",
      "966:\tlearn: 0.1020366\ttotal: 31.3s\tremaining: 5.92s\n",
      "967:\tlearn: 0.1017080\ttotal: 31.3s\tremaining: 5.89s\n",
      "968:\tlearn: 0.1016017\ttotal: 31.3s\tremaining: 5.85s\n",
      "969:\tlearn: 0.1014753\ttotal: 31.4s\tremaining: 5.82s\n",
      "970:\tlearn: 0.1013020\ttotal: 31.4s\tremaining: 5.79s\n",
      "971:\tlearn: 0.1010871\ttotal: 31.4s\tremaining: 5.76s\n",
      "972:\tlearn: 0.1007626\ttotal: 31.5s\tremaining: 5.72s\n",
      "973:\tlearn: 0.1004657\ttotal: 31.5s\tremaining: 5.69s\n",
      "974:\tlearn: 0.1004198\ttotal: 31.5s\tremaining: 5.66s\n",
      "975:\tlearn: 0.1001331\ttotal: 31.6s\tremaining: 5.63s\n",
      "976:\tlearn: 0.0999324\ttotal: 31.6s\tremaining: 5.59s\n",
      "977:\tlearn: 0.0998324\ttotal: 31.6s\tremaining: 5.56s\n",
      "978:\tlearn: 0.0997169\ttotal: 31.7s\tremaining: 5.53s\n",
      "979:\tlearn: 0.0994938\ttotal: 31.7s\tremaining: 5.5s\n",
      "980:\tlearn: 0.0993590\ttotal: 31.7s\tremaining: 5.46s\n",
      "981:\tlearn: 0.0990458\ttotal: 31.8s\tremaining: 5.43s\n",
      "982:\tlearn: 0.0989684\ttotal: 31.8s\tremaining: 5.4s\n",
      "983:\tlearn: 0.0989469\ttotal: 31.8s\tremaining: 5.37s\n",
      "984:\tlearn: 0.0986937\ttotal: 31.9s\tremaining: 5.33s\n",
      "985:\tlearn: 0.0985757\ttotal: 31.9s\tremaining: 5.3s\n",
      "986:\tlearn: 0.0983324\ttotal: 31.9s\tremaining: 5.27s\n",
      "987:\tlearn: 0.0981692\ttotal: 31.9s\tremaining: 5.24s\n",
      "988:\tlearn: 0.0978834\ttotal: 32s\tremaining: 5.21s\n",
      "989:\tlearn: 0.0976283\ttotal: 32s\tremaining: 5.17s\n",
      "990:\tlearn: 0.0974237\ttotal: 32s\tremaining: 5.14s\n",
      "991:\tlearn: 0.0972511\ttotal: 32.1s\tremaining: 5.11s\n",
      "992:\tlearn: 0.0971062\ttotal: 32.1s\tremaining: 5.08s\n",
      "993:\tlearn: 0.0969898\ttotal: 32.1s\tremaining: 5.04s\n",
      "994:\tlearn: 0.0968711\ttotal: 32.2s\tremaining: 5.01s\n",
      "995:\tlearn: 0.0968076\ttotal: 32.2s\tremaining: 4.98s\n",
      "996:\tlearn: 0.0965710\ttotal: 32.2s\tremaining: 4.95s\n",
      "997:\tlearn: 0.0964413\ttotal: 32.3s\tremaining: 4.92s\n",
      "998:\tlearn: 0.0962918\ttotal: 32.3s\tremaining: 4.88s\n",
      "999:\tlearn: 0.0961140\ttotal: 32.3s\tremaining: 4.85s\n",
      "1000:\tlearn: 0.0959739\ttotal: 32.4s\tremaining: 4.82s\n",
      "1001:\tlearn: 0.0958858\ttotal: 32.4s\tremaining: 4.79s\n",
      "1002:\tlearn: 0.0956691\ttotal: 32.4s\tremaining: 4.75s\n",
      "1003:\tlearn: 0.0955622\ttotal: 32.5s\tremaining: 4.72s\n",
      "1004:\tlearn: 0.0955070\ttotal: 32.5s\tremaining: 4.69s\n",
      "1005:\tlearn: 0.0953267\ttotal: 32.5s\tremaining: 4.66s\n",
      "1006:\tlearn: 0.0951855\ttotal: 32.6s\tremaining: 4.62s\n",
      "1007:\tlearn: 0.0949548\ttotal: 32.6s\tremaining: 4.59s\n",
      "1008:\tlearn: 0.0949031\ttotal: 32.6s\tremaining: 4.56s\n",
      "1009:\tlearn: 0.0946695\ttotal: 32.7s\tremaining: 4.53s\n",
      "1010:\tlearn: 0.0946518\ttotal: 32.7s\tremaining: 4.5s\n",
      "1011:\tlearn: 0.0943484\ttotal: 32.7s\tremaining: 4.46s\n",
      "1012:\tlearn: 0.0941662\ttotal: 32.8s\tremaining: 4.43s\n",
      "1013:\tlearn: 0.0938690\ttotal: 32.8s\tremaining: 4.4s\n",
      "1014:\tlearn: 0.0937941\ttotal: 32.8s\tremaining: 4.37s\n",
      "1015:\tlearn: 0.0936726\ttotal: 32.9s\tremaining: 4.33s\n",
      "1016:\tlearn: 0.0935679\ttotal: 32.9s\tremaining: 4.3s\n",
      "1017:\tlearn: 0.0933596\ttotal: 32.9s\tremaining: 4.27s\n",
      "1018:\tlearn: 0.0932009\ttotal: 33s\tremaining: 4.24s\n",
      "1019:\tlearn: 0.0930580\ttotal: 33s\tremaining: 4.21s\n",
      "1020:\tlearn: 0.0930353\ttotal: 33s\tremaining: 4.17s\n",
      "1021:\tlearn: 0.0929319\ttotal: 33.1s\tremaining: 4.14s\n",
      "1022:\tlearn: 0.0926722\ttotal: 33.1s\tremaining: 4.11s\n",
      "1023:\tlearn: 0.0924671\ttotal: 33.1s\tremaining: 4.08s\n",
      "1024:\tlearn: 0.0923960\ttotal: 33.2s\tremaining: 4.04s\n",
      "1025:\tlearn: 0.0923007\ttotal: 33.2s\tremaining: 4.01s\n",
      "1026:\tlearn: 0.0922599\ttotal: 33.2s\tremaining: 3.98s\n",
      "1027:\tlearn: 0.0921989\ttotal: 33.3s\tremaining: 3.95s\n",
      "1028:\tlearn: 0.0921508\ttotal: 33.3s\tremaining: 3.91s\n",
      "1029:\tlearn: 0.0920875\ttotal: 33.3s\tremaining: 3.88s\n",
      "1030:\tlearn: 0.0919785\ttotal: 33.4s\tremaining: 3.85s\n",
      "1031:\tlearn: 0.0918466\ttotal: 33.4s\tremaining: 3.82s\n",
      "1032:\tlearn: 0.0917875\ttotal: 33.4s\tremaining: 3.78s\n",
      "1033:\tlearn: 0.0916174\ttotal: 33.4s\tremaining: 3.75s\n",
      "1034:\tlearn: 0.0915001\ttotal: 33.5s\tremaining: 3.72s\n",
      "1035:\tlearn: 0.0914410\ttotal: 33.5s\tremaining: 3.69s\n",
      "1036:\tlearn: 0.0914384\ttotal: 33.5s\tremaining: 3.65s\n",
      "1037:\tlearn: 0.0913850\ttotal: 33.6s\tremaining: 3.62s\n",
      "1038:\tlearn: 0.0913694\ttotal: 33.6s\tremaining: 3.59s\n",
      "1039:\tlearn: 0.0911577\ttotal: 33.6s\tremaining: 3.56s\n",
      "1040:\tlearn: 0.0910552\ttotal: 33.7s\tremaining: 3.52s\n",
      "1041:\tlearn: 0.0908791\ttotal: 33.7s\tremaining: 3.49s\n",
      "1042:\tlearn: 0.0906582\ttotal: 33.7s\tremaining: 3.46s\n",
      "1043:\tlearn: 0.0905560\ttotal: 33.8s\tremaining: 3.43s\n",
      "1044:\tlearn: 0.0905132\ttotal: 33.8s\tremaining: 3.4s\n",
      "1045:\tlearn: 0.0904118\ttotal: 33.8s\tremaining: 3.36s\n",
      "1046:\tlearn: 0.0902620\ttotal: 33.9s\tremaining: 3.33s\n",
      "1047:\tlearn: 0.0902290\ttotal: 33.9s\tremaining: 3.3s\n",
      "1048:\tlearn: 0.0902058\ttotal: 33.9s\tremaining: 3.27s\n",
      "1049:\tlearn: 0.0901653\ttotal: 34s\tremaining: 3.23s\n",
      "1050:\tlearn: 0.0900505\ttotal: 34s\tremaining: 3.2s\n",
      "1051:\tlearn: 0.0899856\ttotal: 34s\tremaining: 3.17s\n",
      "1052:\tlearn: 0.0896910\ttotal: 34s\tremaining: 3.14s\n",
      "1053:\tlearn: 0.0895057\ttotal: 34.1s\tremaining: 3.1s\n",
      "1054:\tlearn: 0.0894511\ttotal: 34.1s\tremaining: 3.07s\n",
      "1055:\tlearn: 0.0893793\ttotal: 34.1s\tremaining: 3.04s\n",
      "1056:\tlearn: 0.0893360\ttotal: 34.2s\tremaining: 3.01s\n",
      "1057:\tlearn: 0.0892808\ttotal: 34.2s\tremaining: 2.97s\n",
      "1058:\tlearn: 0.0891861\ttotal: 34.2s\tremaining: 2.94s\n",
      "1059:\tlearn: 0.0889971\ttotal: 34.3s\tremaining: 2.91s\n",
      "1060:\tlearn: 0.0887947\ttotal: 34.3s\tremaining: 2.88s\n",
      "1061:\tlearn: 0.0886355\ttotal: 34.3s\tremaining: 2.85s\n",
      "1062:\tlearn: 0.0886303\ttotal: 34.4s\tremaining: 2.81s\n",
      "1063:\tlearn: 0.0884972\ttotal: 34.4s\tremaining: 2.78s\n",
      "1064:\tlearn: 0.0884722\ttotal: 34.4s\tremaining: 2.75s\n",
      "1065:\tlearn: 0.0882515\ttotal: 34.5s\tremaining: 2.72s\n",
      "1066:\tlearn: 0.0881260\ttotal: 34.5s\tremaining: 2.68s\n",
      "1067:\tlearn: 0.0880266\ttotal: 34.5s\tremaining: 2.65s\n",
      "1068:\tlearn: 0.0878654\ttotal: 34.6s\tremaining: 2.62s\n",
      "1069:\tlearn: 0.0877787\ttotal: 34.6s\tremaining: 2.59s\n",
      "1070:\tlearn: 0.0876662\ttotal: 34.6s\tremaining: 2.55s\n",
      "1071:\tlearn: 0.0875030\ttotal: 34.7s\tremaining: 2.52s\n",
      "1072:\tlearn: 0.0874677\ttotal: 34.7s\tremaining: 2.49s\n",
      "1073:\tlearn: 0.0872236\ttotal: 34.7s\tremaining: 2.46s\n",
      "1074:\tlearn: 0.0872030\ttotal: 34.8s\tremaining: 2.42s\n",
      "1075:\tlearn: 0.0871231\ttotal: 34.8s\tremaining: 2.39s\n",
      "1076:\tlearn: 0.0870295\ttotal: 34.8s\tremaining: 2.36s\n",
      "1077:\tlearn: 0.0870099\ttotal: 34.8s\tremaining: 2.33s\n",
      "1078:\tlearn: 0.0869512\ttotal: 34.9s\tremaining: 2.29s\n",
      "1079:\tlearn: 0.0867011\ttotal: 34.9s\tremaining: 2.26s\n",
      "1080:\tlearn: 0.0864890\ttotal: 34.9s\tremaining: 2.23s\n",
      "1081:\tlearn: 0.0864677\ttotal: 35s\tremaining: 2.2s\n",
      "1082:\tlearn: 0.0862840\ttotal: 35s\tremaining: 2.17s\n",
      "1083:\tlearn: 0.0860853\ttotal: 35s\tremaining: 2.13s\n",
      "1084:\tlearn: 0.0859804\ttotal: 35.1s\tremaining: 2.1s\n",
      "1085:\tlearn: 0.0856883\ttotal: 35.1s\tremaining: 2.07s\n",
      "1086:\tlearn: 0.0855334\ttotal: 35.1s\tremaining: 2.04s\n",
      "1087:\tlearn: 0.0854565\ttotal: 35.2s\tremaining: 2s\n",
      "1088:\tlearn: 0.0853751\ttotal: 35.2s\tremaining: 1.97s\n",
      "1089:\tlearn: 0.0852184\ttotal: 35.2s\tremaining: 1.94s\n",
      "1090:\tlearn: 0.0851329\ttotal: 35.3s\tremaining: 1.91s\n",
      "1091:\tlearn: 0.0849373\ttotal: 35.3s\tremaining: 1.88s\n",
      "1092:\tlearn: 0.0848785\ttotal: 35.3s\tremaining: 1.84s\n",
      "1093:\tlearn: 0.0848174\ttotal: 35.4s\tremaining: 1.81s\n",
      "1094:\tlearn: 0.0847489\ttotal: 35.4s\tremaining: 1.78s\n",
      "1095:\tlearn: 0.0845102\ttotal: 35.4s\tremaining: 1.75s\n",
      "1096:\tlearn: 0.0844555\ttotal: 35.5s\tremaining: 1.71s\n",
      "1097:\tlearn: 0.0841869\ttotal: 35.5s\tremaining: 1.68s\n",
      "1098:\tlearn: 0.0840905\ttotal: 35.5s\tremaining: 1.65s\n",
      "1099:\tlearn: 0.0840685\ttotal: 35.6s\tremaining: 1.62s\n",
      "1100:\tlearn: 0.0839577\ttotal: 35.6s\tremaining: 1.58s\n",
      "1101:\tlearn: 0.0838925\ttotal: 35.6s\tremaining: 1.55s\n",
      "1102:\tlearn: 0.0838184\ttotal: 35.7s\tremaining: 1.52s\n",
      "1103:\tlearn: 0.0837605\ttotal: 35.7s\tremaining: 1.49s\n",
      "1104:\tlearn: 0.0837519\ttotal: 35.7s\tremaining: 1.46s\n",
      "1105:\tlearn: 0.0836973\ttotal: 35.8s\tremaining: 1.42s\n",
      "1106:\tlearn: 0.0835746\ttotal: 35.8s\tremaining: 1.39s\n",
      "1107:\tlearn: 0.0834503\ttotal: 35.9s\tremaining: 1.36s\n",
      "1108:\tlearn: 0.0834225\ttotal: 35.9s\tremaining: 1.33s\n",
      "1109:\tlearn: 0.0833587\ttotal: 35.9s\tremaining: 1.29s\n",
      "1110:\tlearn: 0.0832366\ttotal: 36s\tremaining: 1.26s\n",
      "1111:\tlearn: 0.0830622\ttotal: 36s\tremaining: 1.23s\n",
      "1112:\tlearn: 0.0830374\ttotal: 36s\tremaining: 1.2s\n",
      "1113:\tlearn: 0.0829732\ttotal: 36.1s\tremaining: 1.17s\n",
      "1114:\tlearn: 0.0828391\ttotal: 36.1s\tremaining: 1.13s\n",
      "1115:\tlearn: 0.0826805\ttotal: 36.1s\tremaining: 1.1s\n",
      "1116:\tlearn: 0.0824267\ttotal: 36.1s\tremaining: 1.07s\n",
      "1117:\tlearn: 0.0823797\ttotal: 36.2s\tremaining: 1.03s\n",
      "1118:\tlearn: 0.0823713\ttotal: 36.2s\tremaining: 1s\n",
      "1119:\tlearn: 0.0822410\ttotal: 36.2s\tremaining: 971ms\n",
      "1120:\tlearn: 0.0820946\ttotal: 36.3s\tremaining: 938ms\n",
      "1121:\tlearn: 0.0820362\ttotal: 36.3s\tremaining: 906ms\n",
      "1122:\tlearn: 0.0818080\ttotal: 36.3s\tremaining: 874ms\n",
      "1123:\tlearn: 0.0816292\ttotal: 36.4s\tremaining: 841ms\n",
      "1124:\tlearn: 0.0815321\ttotal: 36.4s\tremaining: 809ms\n",
      "1125:\tlearn: 0.0813292\ttotal: 36.4s\tremaining: 776ms\n",
      "1126:\tlearn: 0.0812894\ttotal: 36.5s\tremaining: 744ms\n",
      "1127:\tlearn: 0.0811041\ttotal: 36.5s\tremaining: 712ms\n",
      "1128:\tlearn: 0.0810153\ttotal: 36.5s\tremaining: 679ms\n",
      "1129:\tlearn: 0.0808853\ttotal: 36.6s\tremaining: 647ms\n",
      "1130:\tlearn: 0.0808189\ttotal: 36.6s\tremaining: 615ms\n",
      "1131:\tlearn: 0.0807269\ttotal: 36.6s\tremaining: 582ms\n",
      "1132:\tlearn: 0.0806846\ttotal: 36.6s\tremaining: 550ms\n",
      "1133:\tlearn: 0.0805652\ttotal: 36.7s\tremaining: 518ms\n",
      "1134:\tlearn: 0.0804258\ttotal: 36.7s\tremaining: 485ms\n",
      "1135:\tlearn: 0.0803974\ttotal: 36.7s\tremaining: 453ms\n",
      "1136:\tlearn: 0.0802556\ttotal: 36.8s\tremaining: 420ms\n",
      "1137:\tlearn: 0.0800888\ttotal: 36.8s\tremaining: 388ms\n",
      "1138:\tlearn: 0.0800071\ttotal: 36.8s\tremaining: 356ms\n",
      "1139:\tlearn: 0.0798933\ttotal: 36.9s\tremaining: 323ms\n",
      "1140:\tlearn: 0.0797489\ttotal: 36.9s\tremaining: 291ms\n",
      "1141:\tlearn: 0.0795258\ttotal: 36.9s\tremaining: 259ms\n",
      "1142:\tlearn: 0.0793740\ttotal: 37s\tremaining: 226ms\n",
      "1143:\tlearn: 0.0792236\ttotal: 37s\tremaining: 194ms\n",
      "1144:\tlearn: 0.0790185\ttotal: 37s\tremaining: 162ms\n",
      "1145:\tlearn: 0.0789036\ttotal: 37.1s\tremaining: 129ms\n",
      "1146:\tlearn: 0.0786591\ttotal: 37.1s\tremaining: 97ms\n",
      "1147:\tlearn: 0.0785388\ttotal: 37.1s\tremaining: 64.7ms\n",
      "1148:\tlearn: 0.0784702\ttotal: 37.2s\tremaining: 32.3ms\n",
      "1149:\tlearn: 0.0783019\ttotal: 37.2s\tremaining: 0us\n"
     ]
    },
    {
     "data": {
      "text/plain": [
       "<catboost.core.CatBoostRegressor at 0x204a9337910>"
      ]
     },
     "execution_count": 50,
     "metadata": {},
     "output_type": "execute_result"
    }
   ],
   "source": [
    "model = CatBoostRegressor(n_estimators = 1150, max_depth = 10, subsample = 0.9500000000000002, \n",
    "                          colsample_bylevel = 0.9500000000000002,\n",
    "    cat_features = ['VISIT_AREA_NM', 'SIDO', 'GUNGU','VISIT_AREA_TYPE_CD',\n",
    "                                                  'TRAVEL_MISSION_PRIORITY', 'AGE_GRP', 'GENDER'], random_state = 42)\n",
    "model.fit(X_train, y_train)"
   ]
  },
  {
   "cell_type": "code",
   "execution_count": 51,
   "metadata": {
    "colab": {
     "base_uri": "https://localhost:8080/"
    },
    "id": "hsMKl5wJQYVp",
    "outputId": "195cb865-22aa-461c-f666-cb8cce6211f0"
   },
   "outputs": [
    {
     "name": "stdout",
     "output_type": "stream",
     "text": [
      "2024-07-09 17:56:21\n"
     ]
    }
   ],
   "source": [
    "now = time\n",
    "print(now.strftime('%Y-%m-%d %H:%M:%S'))"
   ]
  },
  {
   "cell_type": "code",
   "execution_count": 52,
   "metadata": {
    "colab": {
     "base_uri": "https://localhost:8080/"
    },
    "id": "hODd53gfQYVq",
    "outputId": "6cbf2d3b-8073-485d-fe1c-4a4497897fb2"
   },
   "outputs": [
    {
     "data": {
      "text/plain": [
       "['./data/train_2022/catboost_model_B.pkl']"
      ]
     },
     "execution_count": 52,
     "metadata": {},
     "output_type": "execute_result"
    }
   ],
   "source": [
    "joblib.dump(model,path + '/catboost_model_B.pkl')"
   ]
  },
  {
   "cell_type": "code",
   "execution_count": 53,
   "metadata": {
    "id": "nWM8FQaMQYVq"
   },
   "outputs": [],
   "source": [
    "modelb = joblib.load(path + '/catboost_model_B.pkl')\n",
    "testb = pd.read_csv(path + '/관광지 추천시스템 Testset_B.csv')\n",
    "trainb = pd.read_csv(path + '/관광지 추천시스템 Trainset_B.csv')"
   ]
  },
  {
   "cell_type": "markdown",
   "metadata": {
    "id": "jsHZ5VmzQYVr"
   },
   "source": [
    "# Test B"
   ]
  },
  {
   "cell_type": "markdown",
   "metadata": {
    "id": "nP6gdZxyQYVr"
   },
   "source": [
    "## 모델의 10개 관광지 후보 불러오기"
   ]
  },
  {
   "cell_type": "markdown",
   "metadata": {
    "id": "PIr68HSVQYVr"
   },
   "source": [
    "### 유저 정보"
   ]
  },
  {
   "cell_type": "code",
   "execution_count": 54,
   "metadata": {
    "id": "0y8GQj5yQYVr"
   },
   "outputs": [],
   "source": [
    "y_testb = testb['DGSTFN']\n",
    "X_testb = testb.drop(['DGSTFN'], axis = 1)"
   ]
  },
  {
   "cell_type": "code",
   "execution_count": 55,
   "metadata": {
    "id": "QJW8rnspQYVs"
   },
   "outputs": [],
   "source": [
    "#유저정보\n",
    "data = testb[['TRAVEL_ID', 'SIDO', 'GUNGU', 'TRAVEL_MISSION_PRIORITY', 'GENDER', 'AGE_GRP', 'INCOME',\n",
    "                            'TRAVEL_STYL_1', 'TRAVEL_STYL_2', 'TRAVEL_STYL_3', 'TRAVEL_STYL_4',\n",
    "                            'TRAVEL_STYL_5', 'TRAVEL_STYL_6', 'TRAVEL_STYL_7', 'TRAVEL_STYL_8',\n",
    "                            'TRAVEL_MOTIVE_1', 'TRAVEL_NUM', 'TRAVEL_COMPANIONS_NUM']]"
   ]
  },
  {
   "cell_type": "code",
   "execution_count": 56,
   "metadata": {
    "colab": {
     "base_uri": "https://localhost:8080/"
    },
    "id": "QXZYm-lPQYVs",
    "outputId": "e8ef6038-062c-456d-c785-a6754dcef7c8"
   },
   "outputs": [
    {
     "name": "stderr",
     "output_type": "stream",
     "text": [
      "100%|██████████| 614/614 [00:00<00:00, 1104.35it/s]\n"
     ]
    }
   ],
   "source": [
    "#내가 간 시도 군구 리스트:\n",
    "data1 = pd.DataFrame(columns=['TRAVEL_ID', 'TRAVEL_MISSION_PRIORITY', 'GENDER', 'AGE_GRP', 'INCOME',\n",
    "                            'TRAVEL_STYL_1', 'TRAVEL_STYL_2', 'TRAVEL_STYL_3', 'TRAVEL_STYL_4',\n",
    "                            'TRAVEL_STYL_5', 'TRAVEL_STYL_6', 'TRAVEL_STYL_7', 'TRAVEL_STYL_8',\n",
    "                            'TRAVEL_MOTIVE_1', 'TRAVEL_NUM', 'TRAVEL_COMPANIONS_NUM', 'sido_gungu_list'])\n",
    "for i in tqdm(list(data['TRAVEL_ID'].unique())):\n",
    "    temp_df = data[data['TRAVEL_ID'] == i]\n",
    "    temp_df1 = temp_df[['SIDO', 'GUNGU']] #각 유저별 방문한 시군구 확인\n",
    "    temp_df1.reset_index(drop = True, inplace = True)\n",
    "    sido_gungu_visit = []\n",
    "    for j in range(len(temp_df1)):\n",
    "        sido_gungu_visit.append(temp_df1['SIDO'][j] + '+' + temp_df1['GUNGU'][j])\n",
    "    sido_gungu_list = list(set(sido_gungu_visit))\n",
    "    new = temp_df.drop(['SIDO', 'GUNGU'], axis = 1) #기존 시도, 군구 제외하고\n",
    "    new = new.head(1)\n",
    "    new['sido_gungu_list'] = str(sido_gungu_list)\n",
    "    data1 = pd.concat([data1, new], axis = 0) #새로운 데이터프레임 생성        \n",
    "    "
   ]
  },
  {
   "cell_type": "code",
   "execution_count": 57,
   "metadata": {
    "id": "DdWPlBm2QYVs"
   },
   "outputs": [],
   "source": [
    "#유저 정보 저장\n",
    "data1.reset_index(drop = True, inplace = True)\n",
    "data1.to_csv(path + '/관광지 추천시스템 Testset_B- 유저 정보.csv', index=False)"
   ]
  },
  {
   "cell_type": "markdown",
   "metadata": {
    "id": "GnT9NOH-QYVt"
   },
   "source": [
    "### 여행지 정보"
   ]
  },
  {
   "cell_type": "code",
   "execution_count": 58,
   "metadata": {
    "id": "jqBtblsDQYVt"
   },
   "outputs": [],
   "source": [
    "#여행지 정보\n",
    "info = trainb[['SIDO', 'VISIT_AREA_NM', 'GUNGU','VISIT_AREA_TYPE_CD','RESIDENCE_TIME_MIN_mean', 'RCMDTN_INTENTION_mean',\n",
    "            'REVISIT_YN_mean', 'TRAVEL_COMPANIONS_NUM_mean', 'REVISIT_INTENTION_mean']]\n",
    "info.drop_duplicates(['VISIT_AREA_NM'], inplace = True)"
   ]
  },
  {
   "cell_type": "markdown",
   "metadata": {
    "id": "HuhT2XeWQYVt"
   },
   "source": [
    "2회 이상 방문지 리스트 뽑아서 여행지 정보에 없는 것 제거"
   ]
  },
  {
   "cell_type": "code",
   "execution_count": 59,
   "metadata": {
    "colab": {
     "base_uri": "https://localhost:8080/",
     "height": 396
    },
    "id": "UbPX2_0ZQYVu",
    "outputId": "380fe764-c606-4564-c44b-a1417c8e22b5"
   },
   "outputs": [],
   "source": [
    "###### 2회 이상 관광한 방문지 리스트 생성\n",
    "visiting_list = trainb[['VISIT_AREA_NM']] #train set에 있는 방문지에 대해서만 2회 이상 방문하였는지 확인\n",
    "visiting_list.reset_index(drop = True, inplace = True)\n",
    "#데이터 전처리\n",
    "dfdf = pd.DataFrame(visiting_list.value_counts(), columns = ['count'])\n",
    "dfdf['VISIT_AREA_NM'] = dfdf.index\n",
    "dfdf.reset_index(drop = True, inplace = True)\n",
    "for i in range(len(dfdf)):\n",
    "    dfdf['VISIT_AREA_NM'][i] = str(dfdf['VISIT_AREA_NM'][i])\n",
    "    dfdf['VISIT_AREA_NM'][i] = dfdf['VISIT_AREA_NM'][i].replace(\"(\",\"\").replace(\")\",\"\").replace(\",\",\"\").replace(\"\\''\",\"\")\n",
    "    dfdf['VISIT_AREA_NM'][i] = dfdf['VISIT_AREA_NM'][i][1:-1]\n",
    "#5회 이상 적용\n",
    "dfdf = dfdf[dfdf['count'] >= 5]  \n",
    "visit_list = list(dfdf['VISIT_AREA_NM']) #visit_list에 5회 이상 방문지 리스트"
   ]
  },
  {
   "cell_type": "code",
   "execution_count": 60,
   "metadata": {
    "id": "bYItctDkQYVu",
    "outputId": "ec2c9d2e-d3df-4e27-b639-c12b648daf54"
   },
   "outputs": [
    {
     "name": "stderr",
     "output_type": "stream",
     "text": [
      "100%|██████████| 2432/2432 [00:00<00:00, 7807.90it/s]\n"
     ]
    }
   ],
   "source": [
    "#방문지가 5회 이상 방문한 관광지 아니면 제거\n",
    "info.reset_index(drop = True, inplace = True)\n",
    "for i in tqdm(range(len(info))):\n",
    "    if info['VISIT_AREA_NM'][i] not in visit_list:\n",
    "        info = info.drop([i], axis = 0)\n",
    "info.reset_index(drop = True, inplace = True)"
   ]
  },
  {
   "cell_type": "code",
   "execution_count": 61,
   "metadata": {
    "id": "ZPYyLNAqQYVu"
   },
   "outputs": [],
   "source": [
    "#여행자 정보 저장\n",
    "info.reset_index(drop = True, inplace = True)\n",
    "info.to_csv(path + '/관광지 추천시스템 Testset_B- 여행지 정보.csv', index=False)"
   ]
  },
  {
   "cell_type": "markdown",
   "metadata": {
    "id": "_-KQXs0xQYVv"
   },
   "source": [
    "### 모델의 10개 추천 관광지 목록 제작 코드"
   ]
  },
  {
   "cell_type": "code",
   "execution_count": 62,
   "metadata": {
    "id": "AeKI8H7PQYVv"
   },
   "outputs": [],
   "source": [
    "data = pd.read_csv(path + '/관광지 추천시스템 Testset_B- 유저 정보.csv')\n",
    "info = pd.read_csv(path + '/관광지 추천시스템 Testset_B- 여행지 정보.csv')"
   ]
  },
  {
   "cell_type": "code",
   "execution_count": 75,
   "metadata": {},
   "outputs": [
    {
     "data": {
      "text/html": [
       "<div>\n",
       "<style scoped>\n",
       "    .dataframe tbody tr th:only-of-type {\n",
       "        vertical-align: middle;\n",
       "    }\n",
       "\n",
       "    .dataframe tbody tr th {\n",
       "        vertical-align: top;\n",
       "    }\n",
       "\n",
       "    .dataframe thead th {\n",
       "        text-align: right;\n",
       "    }\n",
       "</style>\n",
       "<table border=\"1\" class=\"dataframe\">\n",
       "  <thead>\n",
       "    <tr style=\"text-align: right;\">\n",
       "      <th></th>\n",
       "      <th>TRAVEL_ID</th>\n",
       "      <th>TRAVEL_MISSION_PRIORITY</th>\n",
       "      <th>GENDER</th>\n",
       "      <th>AGE_GRP</th>\n",
       "      <th>INCOME</th>\n",
       "      <th>TRAVEL_STYL_1</th>\n",
       "      <th>TRAVEL_STYL_2</th>\n",
       "      <th>TRAVEL_STYL_3</th>\n",
       "      <th>TRAVEL_STYL_4</th>\n",
       "      <th>TRAVEL_STYL_5</th>\n",
       "      <th>TRAVEL_STYL_6</th>\n",
       "      <th>TRAVEL_STYL_7</th>\n",
       "      <th>TRAVEL_STYL_8</th>\n",
       "      <th>TRAVEL_MOTIVE_1</th>\n",
       "      <th>TRAVEL_NUM</th>\n",
       "      <th>TRAVEL_COMPANIONS_NUM</th>\n",
       "      <th>sido_gungu_list</th>\n",
       "    </tr>\n",
       "  </thead>\n",
       "  <tbody>\n",
       "    <tr>\n",
       "      <th>0</th>\n",
       "      <td>b_b015715</td>\n",
       "      <td>22</td>\n",
       "      <td>여</td>\n",
       "      <td>20</td>\n",
       "      <td>4</td>\n",
       "      <td>3</td>\n",
       "      <td>3</td>\n",
       "      <td>3</td>\n",
       "      <td>3</td>\n",
       "      <td>3</td>\n",
       "      <td>5</td>\n",
       "      <td>2</td>\n",
       "      <td>7</td>\n",
       "      <td>1</td>\n",
       "      <td>2</td>\n",
       "      <td>0</td>\n",
       "      <td>['부산+수영구', '부산+해운대구']</td>\n",
       "    </tr>\n",
       "    <tr>\n",
       "      <th>1</th>\n",
       "      <td>b_b000419</td>\n",
       "      <td>21</td>\n",
       "      <td>여</td>\n",
       "      <td>40</td>\n",
       "      <td>3</td>\n",
       "      <td>5</td>\n",
       "      <td>3</td>\n",
       "      <td>3</td>\n",
       "      <td>1</td>\n",
       "      <td>1</td>\n",
       "      <td>2</td>\n",
       "      <td>5</td>\n",
       "      <td>7</td>\n",
       "      <td>3</td>\n",
       "      <td>4</td>\n",
       "      <td>3</td>\n",
       "      <td>['강원+고성군', '강원+양양군']</td>\n",
       "    </tr>\n",
       "    <tr>\n",
       "      <th>2</th>\n",
       "      <td>b_b001944</td>\n",
       "      <td>5</td>\n",
       "      <td>여</td>\n",
       "      <td>20</td>\n",
       "      <td>1</td>\n",
       "      <td>4</td>\n",
       "      <td>2</td>\n",
       "      <td>2</td>\n",
       "      <td>4</td>\n",
       "      <td>5</td>\n",
       "      <td>4</td>\n",
       "      <td>5</td>\n",
       "      <td>6</td>\n",
       "      <td>1</td>\n",
       "      <td>4</td>\n",
       "      <td>1</td>\n",
       "      <td>['부산+수영구', '부산+동래구', '부산+해운대구', '부산+부산진구']</td>\n",
       "    </tr>\n",
       "    <tr>\n",
       "      <th>3</th>\n",
       "      <td>b_b004400</td>\n",
       "      <td>22</td>\n",
       "      <td>여</td>\n",
       "      <td>20</td>\n",
       "      <td>2</td>\n",
       "      <td>3</td>\n",
       "      <td>1</td>\n",
       "      <td>1</td>\n",
       "      <td>6</td>\n",
       "      <td>6</td>\n",
       "      <td>2</td>\n",
       "      <td>6</td>\n",
       "      <td>5</td>\n",
       "      <td>1</td>\n",
       "      <td>4</td>\n",
       "      <td>1</td>\n",
       "      <td>['강원+평창군']</td>\n",
       "    </tr>\n",
       "    <tr>\n",
       "      <th>4</th>\n",
       "      <td>b_b000223</td>\n",
       "      <td>28</td>\n",
       "      <td>남</td>\n",
       "      <td>50</td>\n",
       "      <td>7</td>\n",
       "      <td>4</td>\n",
       "      <td>3</td>\n",
       "      <td>3</td>\n",
       "      <td>5</td>\n",
       "      <td>3</td>\n",
       "      <td>3</td>\n",
       "      <td>4</td>\n",
       "      <td>4</td>\n",
       "      <td>2</td>\n",
       "      <td>1</td>\n",
       "      <td>8</td>\n",
       "      <td>['강원+원주시']</td>\n",
       "    </tr>\n",
       "    <tr>\n",
       "      <th>...</th>\n",
       "      <td>...</td>\n",
       "      <td>...</td>\n",
       "      <td>...</td>\n",
       "      <td>...</td>\n",
       "      <td>...</td>\n",
       "      <td>...</td>\n",
       "      <td>...</td>\n",
       "      <td>...</td>\n",
       "      <td>...</td>\n",
       "      <td>...</td>\n",
       "      <td>...</td>\n",
       "      <td>...</td>\n",
       "      <td>...</td>\n",
       "      <td>...</td>\n",
       "      <td>...</td>\n",
       "      <td>...</td>\n",
       "      <td>...</td>\n",
       "    </tr>\n",
       "    <tr>\n",
       "      <th>609</th>\n",
       "      <td>b_b001651</td>\n",
       "      <td>4</td>\n",
       "      <td>여</td>\n",
       "      <td>20</td>\n",
       "      <td>4</td>\n",
       "      <td>3</td>\n",
       "      <td>3</td>\n",
       "      <td>3</td>\n",
       "      <td>1</td>\n",
       "      <td>3</td>\n",
       "      <td>3</td>\n",
       "      <td>1</td>\n",
       "      <td>5</td>\n",
       "      <td>2</td>\n",
       "      <td>4</td>\n",
       "      <td>1</td>\n",
       "      <td>['경북+포항시']</td>\n",
       "    </tr>\n",
       "    <tr>\n",
       "      <th>610</th>\n",
       "      <td>b_b010300</td>\n",
       "      <td>1</td>\n",
       "      <td>여</td>\n",
       "      <td>20</td>\n",
       "      <td>3</td>\n",
       "      <td>6</td>\n",
       "      <td>1</td>\n",
       "      <td>1</td>\n",
       "      <td>3</td>\n",
       "      <td>7</td>\n",
       "      <td>3</td>\n",
       "      <td>1</td>\n",
       "      <td>7</td>\n",
       "      <td>3</td>\n",
       "      <td>3</td>\n",
       "      <td>1</td>\n",
       "      <td>['부산+기장군']</td>\n",
       "    </tr>\n",
       "    <tr>\n",
       "      <th>611</th>\n",
       "      <td>b_b006646</td>\n",
       "      <td>9</td>\n",
       "      <td>남</td>\n",
       "      <td>30</td>\n",
       "      <td>2</td>\n",
       "      <td>1</td>\n",
       "      <td>1</td>\n",
       "      <td>1</td>\n",
       "      <td>5</td>\n",
       "      <td>4</td>\n",
       "      <td>1</td>\n",
       "      <td>1</td>\n",
       "      <td>2</td>\n",
       "      <td>10</td>\n",
       "      <td>5</td>\n",
       "      <td>0</td>\n",
       "      <td>['강원+강릉시']</td>\n",
       "    </tr>\n",
       "    <tr>\n",
       "      <th>612</th>\n",
       "      <td>b_b015565</td>\n",
       "      <td>2</td>\n",
       "      <td>남</td>\n",
       "      <td>20</td>\n",
       "      <td>1</td>\n",
       "      <td>2</td>\n",
       "      <td>2</td>\n",
       "      <td>1</td>\n",
       "      <td>3</td>\n",
       "      <td>1</td>\n",
       "      <td>1</td>\n",
       "      <td>1</td>\n",
       "      <td>7</td>\n",
       "      <td>8</td>\n",
       "      <td>1</td>\n",
       "      <td>16</td>\n",
       "      <td>['경북+경주시']</td>\n",
       "    </tr>\n",
       "    <tr>\n",
       "      <th>613</th>\n",
       "      <td>b_b002136</td>\n",
       "      <td>3</td>\n",
       "      <td>남</td>\n",
       "      <td>50</td>\n",
       "      <td>5</td>\n",
       "      <td>3</td>\n",
       "      <td>5</td>\n",
       "      <td>3</td>\n",
       "      <td>1</td>\n",
       "      <td>3</td>\n",
       "      <td>1</td>\n",
       "      <td>2</td>\n",
       "      <td>4</td>\n",
       "      <td>2</td>\n",
       "      <td>1</td>\n",
       "      <td>1</td>\n",
       "      <td>['강원+양양군', '강원+속초시', '강원+원주시']</td>\n",
       "    </tr>\n",
       "  </tbody>\n",
       "</table>\n",
       "<p>614 rows × 17 columns</p>\n",
       "</div>"
      ],
      "text/plain": [
       "     TRAVEL_ID TRAVEL_MISSION_PRIORITY GENDER AGE_GRP INCOME TRAVEL_STYL_1  \\\n",
       "0    b_b015715                      22      여      20      4             3   \n",
       "1    b_b000419                      21      여      40      3             5   \n",
       "2    b_b001944                       5      여      20      1             4   \n",
       "3    b_b004400                      22      여      20      2             3   \n",
       "4    b_b000223                      28      남      50      7             4   \n",
       "..         ...                     ...    ...     ...    ...           ...   \n",
       "609  b_b001651                       4      여      20      4             3   \n",
       "610  b_b010300                       1      여      20      3             6   \n",
       "611  b_b006646                       9      남      30      2             1   \n",
       "612  b_b015565                       2      남      20      1             2   \n",
       "613  b_b002136                       3      남      50      5             3   \n",
       "\n",
       "    TRAVEL_STYL_2 TRAVEL_STYL_3 TRAVEL_STYL_4 TRAVEL_STYL_5 TRAVEL_STYL_6  \\\n",
       "0               3             3             3             3             5   \n",
       "1               3             3             1             1             2   \n",
       "2               2             2             4             5             4   \n",
       "3               1             1             6             6             2   \n",
       "4               3             3             5             3             3   \n",
       "..            ...           ...           ...           ...           ...   \n",
       "609             3             3             1             3             3   \n",
       "610             1             1             3             7             3   \n",
       "611             1             1             5             4             1   \n",
       "612             2             1             3             1             1   \n",
       "613             5             3             1             3             1   \n",
       "\n",
       "    TRAVEL_STYL_7 TRAVEL_STYL_8 TRAVEL_MOTIVE_1 TRAVEL_NUM  \\\n",
       "0               2             7               1          2   \n",
       "1               5             7               3          4   \n",
       "2               5             6               1          4   \n",
       "3               6             5               1          4   \n",
       "4               4             4               2          1   \n",
       "..            ...           ...             ...        ...   \n",
       "609             1             5               2          4   \n",
       "610             1             7               3          3   \n",
       "611             1             2              10          5   \n",
       "612             1             7               8          1   \n",
       "613             2             4               2          1   \n",
       "\n",
       "    TRAVEL_COMPANIONS_NUM                             sido_gungu_list  \n",
       "0                       0                       ['부산+수영구', '부산+해운대구']  \n",
       "1                       3                        ['강원+고성군', '강원+양양군']  \n",
       "2                       1  ['부산+수영구', '부산+동래구', '부산+해운대구', '부산+부산진구']  \n",
       "3                       1                                  ['강원+평창군']  \n",
       "4                       8                                  ['강원+원주시']  \n",
       "..                    ...                                         ...  \n",
       "609                     1                                  ['경북+포항시']  \n",
       "610                     1                                  ['부산+기장군']  \n",
       "611                     0                                  ['강원+강릉시']  \n",
       "612                    16                                  ['경북+경주시']  \n",
       "613                     1              ['강원+양양군', '강원+속초시', '강원+원주시']  \n",
       "\n",
       "[614 rows x 17 columns]"
      ]
     },
     "execution_count": 75,
     "metadata": {},
     "output_type": "execute_result"
    }
   ],
   "source": [
    "data1"
   ]
  },
  {
   "cell_type": "code",
   "execution_count": 77,
   "metadata": {
    "id": "QOJNk8JVQYVv",
    "outputId": "ad889af6-607f-4b72-b922-330652518e86"
   },
   "outputs": [
    {
     "name": "stderr",
     "output_type": "stream",
     "text": [
      "  0%|          | 0/614 [00:00<?, ?it/s]\n"
     ]
    }
   ],
   "source": [
    "result = []\n",
    "for i in tqdm(range(len(data1))):\n",
    "    # 데이터\n",
    "\n",
    "    final_df = pd.DataFrame(\n",
    "        columns=[\n",
    "            \"VISIT_AREA_NM\",\n",
    "            \"SIDO\",\n",
    "            \"GUNGU\",\n",
    "            \"VISIT_AREA_TYPE_CD\",\n",
    "            \"TRAVEL_MISSION_PRIORITY\",\n",
    "            \"GENDER\",\n",
    "            \"AGE_GRP\",\n",
    "            \"INCOME\",\n",
    "            \"TRAVEL_STYL_1\",\n",
    "            \"TRAVEL_STYL_2\",\n",
    "            \"TRAVEL_STYL_3\",\n",
    "            \"TRAVEL_STYL_4\",\n",
    "            \"TRAVEL_STYL_5\",\n",
    "            \"TRAVEL_STYL_6\",\n",
    "            \"TRAVEL_STYL_7\",\n",
    "            \"TRAVEL_STYL_8\",\n",
    "            \"TRAVEL_MOTIVE_1\",\n",
    "            \"TRAVEL_NUM\",\n",
    "            \"TRAVEL_COMPANIONS_NUM\",\n",
    "            \"RESIDENCE_TIME_MIN_mean\",\n",
    "            \"RCMDTN_INTENTION_mean\",\n",
    "            \"REVISIT_YN_mean\",\n",
    "            \"TRAVEL_COMPANIONS_NUM_mean\",\n",
    "            \"REVISIT_INTENTION_mean\",\n",
    "        ]\n",
    "    )  # 빈 데이터프레임에 내용 추가\n",
    "    ####### 시/도 군/구 별 자료 수집\n",
    "    temp = data1[\"sido_gungu_list\"][i].replace(\"[\", \"\").replace(\"]\", \"\").replace(\"'\", \"\").replace(\", \", \",\")\n",
    "    places_list = list(map(str, temp.split(\",\")))\n",
    "    for q in places_list:\n",
    "        sido, gungu = map(str, q.split(\"+\"))\n",
    "\n",
    "        info_df = info[(info[\"SIDO\"] == sido) & (info[\"GUNGU\"] == gungu)]\n",
    "\n",
    "        info_df.drop([\"SIDO\"], inplace=True, axis=1)\n",
    "        info_df.reset_index(inplace=True, drop=True)\n",
    "        data2 = data1.drop([\"sido_gungu_list\"], axis=1)\n",
    "        user_df = pd.DataFrame(\n",
    "            [data2.iloc[i].to_list()] * len(info_df),\n",
    "            columns=[\n",
    "                \"SIDO\",\n",
    "                \"TRAVEL_MISSION_PRIORITY\",\n",
    "                \"GENDER\",\n",
    "                \"AGE_GRP\",\n",
    "                \"INCOME\",\n",
    "                \"TRAVEL_STYL_1\",\n",
    "                \"TRAVEL_STYL_2\",\n",
    "                \"TRAVEL_STYL_3\",\n",
    "                \"TRAVEL_STYL_4\",\n",
    "                \"TRAVEL_STYL_5\",\n",
    "                \"TRAVEL_STYL_6\",\n",
    "                \"TRAVEL_STYL_7\",\n",
    "                \"TRAVEL_STYL_8\",\n",
    "                \"TRAVEL_MOTIVE_1\",\n",
    "                \"TRAVEL_NUM\",\n",
    "                \"TRAVEL_COMPANIONS_NUM\",\n",
    "            ],\n",
    "        )\n",
    "        df = pd.concat([user_df, info_df], axis=1)\n",
    "        df = df[\n",
    "            [\n",
    "                \"VISIT_AREA_NM\",\n",
    "                \"SIDO\",\n",
    "                \"GUNGU\",\n",
    "                \"VISIT_AREA_TYPE_CD\",\n",
    "                \"TRAVEL_MISSION_PRIORITY\",\n",
    "                \"GENDER\",\n",
    "                \"AGE_GRP\",\n",
    "                \"INCOME\",\n",
    "                \"TRAVEL_STYL_1\",\n",
    "                \"TRAVEL_STYL_2\",\n",
    "                \"TRAVEL_STYL_3\",\n",
    "                \"TRAVEL_STYL_4\",\n",
    "                \"TRAVEL_STYL_5\",\n",
    "                \"TRAVEL_STYL_6\",\n",
    "                \"TRAVEL_STYL_7\",\n",
    "                \"TRAVEL_STYL_8\",\n",
    "                \"TRAVEL_MOTIVE_1\",\n",
    "                \"TRAVEL_NUM\",\n",
    "                \"TRAVEL_COMPANIONS_NUM\",\n",
    "                \"RESIDENCE_TIME_MIN_mean\",\n",
    "                \"RCMDTN_INTENTION_mean\",\n",
    "                \"REVISIT_YN_mean\",\n",
    "                \"TRAVEL_COMPANIONS_NUM_mean\",\n",
    "                \"REVISIT_INTENTION_mean\",\n",
    "            ]\n",
    "        ]  # 변수정렬\n",
    "        df[\"VISIT_AREA_TYPE_CD\"] = df[\"VISIT_AREA_TYPE_CD\"].astype(\"string\")\n",
    "        final_df = pd.concat([final_df, df], axis=0)\n",
    "    final_df.reset_index(drop=True, inplace=True)\n",
    "    final_df.drop_duplicates([\"VISIT_AREA_NM\"], inplace=True)\n",
    "\n",
    "    # 모델 예측\n",
    "    y_pred = modelb.predict(final_df)\n",
    "    y_pred = pd.DataFrame(y_pred, columns=[\"y_pred\"])\n",
    "    test_df1 = pd.concat([final_df, y_pred], axis=1)\n",
    "    test_df1.sort_values(by=[\"y_pred\"], axis=0, ascending=False, inplace=True)  # 예측치가 높은 순대로 정렬\n",
    "\n",
    "    test_df1 = test_df1.iloc[0:10,]  # 상위 10개 관광지 추천\n",
    "\n",
    "    visiting_candidates = list(test_df1[\"VISIT_AREA_NM\"])  # 모델이 추천한 관광지들을 리스트 형태로 변환\n",
    "\n",
    "    # 유저정보와 추천 관광지\n",
    "    test_df2 = test_df1[\n",
    "        [\n",
    "            \"SIDO\",\n",
    "            \"TRAVEL_MISSION_PRIORITY\",\n",
    "            \"GENDER\",\n",
    "            \"AGE_GRP\",\n",
    "            \"INCOME\",\n",
    "            \"TRAVEL_STYL_1\",\n",
    "            \"TRAVEL_STYL_2\",\n",
    "            \"TRAVEL_STYL_3\",\n",
    "            \"TRAVEL_STYL_4\",\n",
    "            \"TRAVEL_STYL_5\",\n",
    "            \"TRAVEL_STYL_6\",\n",
    "            \"TRAVEL_STYL_7\",\n",
    "            \"TRAVEL_STYL_8\",\n",
    "            \"TRAVEL_MOTIVE_1\",\n",
    "            \"TRAVEL_NUM\",\n",
    "            \"TRAVEL_COMPANIONS_NUM\",\n",
    "        ]\n",
    "    ]\n",
    "    if len(test_df2) == 0:\n",
    "        rec = []\n",
    "        result.append(rec)\n",
    "    else:\n",
    "\n",
    "        rec = test_df2.iloc[0].to_list()\n",
    "\n",
    "        rec.append(visiting_candidates)\n",
    "\n",
    "        result.append(rec)"
   ]
  },
  {
   "cell_type": "code",
   "execution_count": 64,
   "metadata": {
    "id": "L26kWLwJQYVw"
   },
   "outputs": [],
   "source": [
    "final_df = pd.DataFrame(result,\n",
    "                            columns = ['SIDO', 'TRAVEL_MISSION_PRIORITY', 'GENDER', 'AGE_GRP', 'INCOME',\n",
    "                            'TRAVEL_STYL_1', 'TRAVEL_STYL_2', 'TRAVEL_STYL_3', 'TRAVEL_STYL_4',\n",
    "                            'TRAVEL_STYL_5', 'TRAVEL_STYL_6', 'TRAVEL_STYL_7', 'TRAVEL_STYL_8',\n",
    "                            'TRAVEL_MOTIVE_1', 'TRAVEL_NUM', 'TRAVEL_COMPANIONS_NUM', 'recommend_result_place'])\n",
    "final_df = final_df[['recommend_result_place']]\n",
    "travel_id = data1[['TRAVEL_ID']]\n",
    "travel_id.reset_index(drop = True, inplace = True)\n",
    "final_df = pd.concat([travel_id, final_df], axis = 1)"
   ]
  },
  {
   "cell_type": "code",
   "execution_count": 65,
   "metadata": {
    "id": "Q59QpXDeQYVx"
   },
   "outputs": [],
   "source": [
    "#output_df 저장\n",
    "final_df.to_csv(path + '/관광지 추천시스템 Testset- OUTPUT_B.csv', index=False)\n",
    "#output_df 불러오기\n",
    "final_df = pd.read_csv(path + '/관광지 추천시스템 Testset- OUTPUT_B.csv')"
   ]
  },
  {
   "cell_type": "markdown",
   "metadata": {
    "id": "vr42tNg7QYVx"
   },
   "source": [
    "## 실제 유저가 다녀온 관광지랑 비교하여 Recall@10 산출"
   ]
  },
  {
   "cell_type": "code",
   "execution_count": 67,
   "metadata": {
    "id": "sXzrbe1zQYVy",
    "outputId": "ae27b20e-8bf8-429f-b991-f3d9abe46048"
   },
   "outputs": [
    {
     "name": "stderr",
     "output_type": "stream",
     "text": [
      "100%|██████████| 614/614 [00:00<00:00, 205334.29it/s]\n"
     ]
    }
   ],
   "source": [
    "#추천지 10개 미만인 여행 ID확인\n",
    "travel_id_list = []\n",
    "for i in tqdm(range(len(final_df))):\n",
    "    recommend_list = final_df['recommend_result_place'][i]\n",
    "    if pd.isna(recommend_list):\n",
    "        travel_id_list.append(final_df['TRAVEL_ID'][i])\n",
    "        continue\n",
    "    if recommend_list.count(',') < 9:\n",
    "        travel_id_list.append(final_df['TRAVEL_ID'][i])"
   ]
  },
  {
   "cell_type": "code",
   "execution_count": 68,
   "metadata": {
    "id": "Sh9Y_88vQYVy"
   },
   "outputs": [],
   "source": [
    "#군/군 리스트 출력\n",
    "## 이 부분 해결 하기 위해서 군/구 목록 places라는 변수에 뽑아오기\n",
    "'''\n",
    "4. 성능을 올리기 위해 다음과 같은 추가 방법 도입:\n",
    "- 아무래도 사람이 수기로 데이터를 입력하다 보니까 유사/동일 장소를 갔음에도 컴퓨터는 다른 장소로 인식 \n",
    "    -ex1: ’파라다이스시티‘와 ’파라다이스시티 주차장‘을 다른 장소로 인식\n",
    "    -ex2: ‘국립중앙박물관 특별전시관’과 ‘국립중앙박물관’을 다른 장소로 인식\n",
    "- 그러므로 ‘모델이 추천한 추천지 10개’와 ‘유저가 만족한다고 했던 곳’을 단어 별로 쪼개서 공통어가 있으면 교집합 개수에 추가\n",
    "    -ex1: ‘파라다이스시티’와 ‘파라다이스시티 주차장’은 ‘파라다이스시티’라는 공통어가 있으므로 교집합 개수에 추가\n",
    "    -ex2: ‘국립중앙박물관 특별전시관’과 ‘국립중앙박물관’은 ‘국립중앙박물관’이라는 공통어가 있으므로 교집합 개수에 추가\n",
    "- ‘파주점’, ‘하남점’ 등 지점명이 공통어가 되는 경우 배제\n",
    "    -ex1: ‘롯데프리미엄아울렛 파주점'이라는 장소가 있을 때, 마지막 단어의 마지막 글자가 '점'일 경우에 마지막 글자를 제거 (공통어 비교 시 '롯데프리미엄아울렛'만 비교)\n",
    "- 유저가 방문한 장소에 군/구가 공통어가 되는 경우 배제\n",
    "    -ex1: 유저가 방문한 '스타필드 고양'은 ’스타필드‘, ’고양‘으로 나누어지는데, '고양'이라는 군/구 명을 제거해서 ’고양 어울림누리‘ 같은 장소와 교차어로 포함되지 않도록 함\n",
    "'''\n",
    "places = list(set(X_testb['GUNGU']))\n",
    "for i in range(len(places)):\n",
    "    if places[i][-1] == '구' or places[i][-1] == '시' or places[i][-1] == '군':\n",
    "        places[i] = places[i][:-1]"
   ]
  },
  {
   "cell_type": "code",
   "execution_count": 69,
   "metadata": {},
   "outputs": [
    {
     "name": "stderr",
     "output_type": "stream",
     "text": [
      "100%|██████████| 614/614 [00:00<00:00, 5310.82it/s]\n"
     ]
    }
   ],
   "source": [
    "#유저가 다녀온 관광지 중에서 만족도가 4이상인 관광지 목록\n",
    "recall_10_list = []\n",
    "visit_list = list(info['VISIT_AREA_NM'])\n",
    "for i in tqdm(list(testb['TRAVEL_ID'].unique())):\n",
    "    \n",
    "    #추천한 방문지가 10개 미만이면 0\n",
    "    if i in travel_id_list:\n",
    "        recall_10_list.append(0)\n",
    "        continue\n",
    "    \n",
    "    satisfied = testb[testb['TRAVEL_ID'] == i] #실제(y_actual) 관광객이 만족한 관광지\n",
    "    satisfied.reset_index(drop = True, inplace = True) \n",
    "    '''\n",
    "    #2회 이상 방문한 곳에 대해서만 확인\n",
    "    for c in range(len(satisfied)):\n",
    "        if satisfied['VISIT_AREA_NM'][c] not in visit_list:\n",
    "            satisfied = satisfied.drop([c], axis = 0)\n",
    "    satisfied.reset_index(drop = True, inplace = True)    \n",
    "    if len(satisfied) == 0:\n",
    "        recall_10_list.append(0)\n",
    "        continue\n",
    "    '''\n",
    "    satisfied1 = satisfied[satisfied['DGSTFN'] >=4 ] #만족의 기준은 4이상 일때만 만족이라고 정의\n",
    "    if len(satisfied1) == 0: # 유저가 만족한 관광지가 하나도 없으면 recall@10은 어차피 0\n",
    "        recall_10_list.append(0)\n",
    "        continue\n",
    "    else:\n",
    "        item_list = satisfied1['VISIT_AREA_NM']\n",
    "                \n",
    "                \n",
    "    item_list = list(set(item_list))\n",
    "    \n",
    "\n",
    "#final_df의 추천지 10개랑 비교\n",
    "    recommend_list = final_df[final_df['TRAVEL_ID'] == i]['recommend_result_place'] #모델 추천 관광지 30개\n",
    "\n",
    "    summ = 0\n",
    "    for n in item_list:\n",
    "        word_list = list(n.split(' '))\n",
    "        if word_list[-1][-1] == '점': #지점명 삭제\n",
    "            del word_list[-1]\n",
    "        for o in word_list:\n",
    "            if o in places:#장소에 군/구 명 있으면 아무것도 하지 않고 스킵\n",
    "                pass\n",
    "            else:\n",
    "                for p in recommend_list: #장소에 교차어 있으면 해당 장소는 방문했다고 인식하기\n",
    "                    if o in str(p) :\n",
    "                        summ += 1\n",
    "    recall10_for_1user = summ / min(10, len(satisfied1)) #recall@10 산식\n",
    "    if recall10_for_1user > 1:\n",
    "        recall10_for_1user = 1\n",
    "    recall_10_list.append(recall10_for_1user)"
   ]
  },
  {
   "cell_type": "code",
   "execution_count": 70,
   "metadata": {
    "id": "DRK8ILQ1QYVz",
    "outputId": "9ee04066-6faf-4ead-c342-bc70f67a0a64"
   },
   "outputs": [
    {
     "name": "stdout",
     "output_type": "stream",
     "text": [
      "2024-07-09 17:57:34\n"
     ]
    }
   ],
   "source": [
    "now = time\n",
    "print(now.strftime('%Y-%m-%d %H:%M:%S'))"
   ]
  },
  {
   "cell_type": "code",
   "execution_count": 71,
   "metadata": {},
   "outputs": [
    {
     "data": {
      "text/plain": [
       "0.23196060183030867"
      ]
     },
     "execution_count": 71,
     "metadata": {},
     "output_type": "execute_result"
    }
   ],
   "source": [
    "#recall@10 구하기 \n",
    "np.mean(recall_10_list)"
   ]
  }
 ],
 "metadata": {
  "colab": {
   "provenance": []
  },
  "kernelspec": {
   "display_name": "Python 3",
   "language": "python",
   "name": "python3"
  },
  "language_info": {
   "codemirror_mode": {
    "name": "ipython",
    "version": 3
   },
   "file_extension": ".py",
   "mimetype": "text/x-python",
   "name": "python",
   "nbconvert_exporter": "python",
   "pygments_lexer": "ipython3",
   "version": "3.11.8"
  }
 },
 "nbformat": 4,
 "nbformat_minor": 1
}
